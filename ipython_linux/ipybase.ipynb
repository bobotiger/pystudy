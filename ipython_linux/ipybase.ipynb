{
 "metadata": {
  "name": ""
 },
 "nbformat": 3,
 "nbformat_minor": 0,
 "worksheets": [
  {
   "cells": [
    {
     "cell_type": "heading",
     "level": 1,
     "metadata": {},
     "source": [
      "IPython"
     ]
    },
    {
     "cell_type": "heading",
     "level": 2,
     "metadata": {},
     "source": [
      "Python\u7684\u7985\u610f"
     ]
    },
    {
     "cell_type": "code",
     "collapsed": false,
     "input": [
      "import this"
     ],
     "language": "python",
     "metadata": {},
     "outputs": [
      {
       "output_type": "stream",
       "stream": "stdout",
       "text": [
        "The Zen of Python, by Tim Peters\n",
        "\n",
        "Beautiful is better than ugly.\n",
        "Explicit is better than implicit.\n",
        "Simple is better than complex.\n",
        "Complex is better than complicated.\n",
        "Flat is better than nested.\n",
        "Sparse is better than dense.\n",
        "Readability counts.\n",
        "Special cases aren't special enough to break the rules.\n",
        "Although practicality beats purity.\n",
        "Errors should never pass silently.\n",
        "Unless explicitly silenced.\n",
        "In the face of ambiguity, refuse the temptation to guess.\n",
        "There should be one-- and preferably only one --obvious way to do it.\n",
        "Although that way may not be obvious at first unless you're Dutch.\n",
        "Now is better than never.\n",
        "Although never is often better than *right* now.\n",
        "If the implementation is hard to explain, it's a bad idea.\n",
        "If the implementation is easy to explain, it may be a good idea.\n",
        "Namespaces are one honking great idea -- let's do more of those!\n"
       ]
      }
     ],
     "prompt_number": 1
    },
    {
     "cell_type": "heading",
     "level": 2,
     "metadata": {},
     "source": [
      "IPython\u7684In\u548cOut"
     ]
    },
    {
     "cell_type": "markdown",
     "metadata": {},
     "source": [
      "\u5728IPython\u4e2d\uff0c\u6240\u6709\u8f93\u5165\u7684\u547d\u4ee4\u90fd\u4f1a\u4fdd\u5b58\u5230\u4e00\u4e2a\u540d\u4e3a\u201cIn\u201d\u7684\u5217\u8868\u4e2d\uff0c\u8fd9\u6837\u53ef\u4ee5\u65b9\u4fbf\u6211\u4eec\u8fdb\u884c\u547d\u4ee4\u8ddf\u8e2a\u3002"
     ]
    },
    {
     "cell_type": "code",
     "collapsed": false,
     "input": [
      "type(In)"
     ],
     "language": "python",
     "metadata": {},
     "outputs": [
      {
       "metadata": {},
       "output_type": "pyout",
       "prompt_number": 20,
       "text": [
        "list"
       ]
      }
     ],
     "prompt_number": 20
    },
    {
     "cell_type": "markdown",
     "metadata": {},
     "source": [
      "\u5728IPython\u4e2d\uff0c\u6240\u6709\u8f93\u51fa\u7ed3\u679c(\u5728IPython\u4e2d\uff0c\u6240\u6709\u8ddf\u5728\u201cOut[]:\u201d\u4e4b\u540e\u7684\u8f93\u51fa)\u90fd\u4f1a\u4fdd\u5b58\u5230\u4e00\u4e2a\u540d\u4e3a\u201cOut\u201d\u7684\u5b57\u5178\u4e2d\u3002\u5927\u5bb6\u5e94\u8be5\u6ce8\u610f\u5230\u901a\u8fc7print\u51fd\u6570\u8f93\u51fa\u7684\u5185\u5bb9\u4e4b\u524d\u4e0d\u4f1a\u6709\u201cOut[]:\u201d\u63d0\u793a\uff0c\u8fd9\u4e5f\u4f1a\u5bfc\u81f4print\u7684\u8f93\u51fa\u5185\u5bb9\u4e0d\u4f1a\u4fdd\u5b58\u5728Out\u5b57\u5178\u4e2d\u3002"
     ]
    },
    {
     "cell_type": "code",
     "collapsed": false,
     "input": [
      "type(Out)\n",
      "print Out\n",
      "Out"
     ],
     "language": "python",
     "metadata": {},
     "outputs": [
      {
       "output_type": "stream",
       "stream": "stdout",
       "text": [
        "{16: [], 20: <type 'list'>, 12: <type 'list'>, 13: <type 'dict'>}\n"
       ]
      },
      {
       "metadata": {},
       "output_type": "pyout",
       "prompt_number": 21,
       "text": [
        "{12: list, 13: dict, 16: [], 20: list}"
       ]
      }
     ],
     "prompt_number": 21
    },
    {
     "cell_type": "markdown",
     "metadata": {},
     "source": [
      "\u603b\u4e4b\u5728IPython\u4e2d\u63d0\u4f9b\u4e86\u4e00\u4e2aIn\u5217\u8868\u548c\u4e00\u4e2aOut\u5b57\u5178\uff0c\u7528\u6765\u4fdd\u5b58\u6240\u6709\u8f93\u5165\u548c\u8f93\u51fa\u5386\u53f2\uff0c\u4ee5\u4fbf\u4eba\u4eec\u8fdb\u884c\u5386\u53f2\u8ddf\u8e2a\u3002"
     ]
    },
    {
     "cell_type": "heading",
     "level": 2,
     "metadata": {},
     "source": [
      "print\u8f93\u51fa\u548c\u7b80\u5355\u53d8\u91cf\u540d\u8f93\u51fa\u7684\u533a\u522b"
     ]
    },
    {
     "cell_type": "code",
     "collapsed": false,
     "input": [
      "a = 1\n",
      "b = 2\n",
      "c = a + b\n",
      "d = a + b + c\n",
      "print c\n",
      "d"
     ],
     "language": "python",
     "metadata": {},
     "outputs": [
      {
       "output_type": "stream",
       "stream": "stdout",
       "text": [
        "3\n"
       ]
      },
      {
       "metadata": {},
       "output_type": "pyout",
       "prompt_number": 25,
       "text": [
        "6"
       ]
      }
     ],
     "prompt_number": 25
    },
    {
     "cell_type": "raw",
     "metadata": {},
     "source": [
      "    \u4ece\u4e0a\u8fb9\u7684\u4f8b\u5b50\u4e2d\uff0c\u6211\u4eec\u53ef\u4ee5\u53d1\u73b0print\u51fd\u6570\u6253\u5370\u8f93\u51fa\u7684\u7ed3\u679c\u76f4\u63a5\u8f93\u51fa\u5230\u5c4f\u5e55\uff0c\u800c\u6ca1\u6709\u88ab\u8bb0\u5f55\u5230Out\u5b57\u5178\u4e2d\uff0c\u800c\u4f7f\u7528\u7b80\u5355\u53d8\u91cf\u540d\u76f4\u63a5\u8f93\u51fa\u53d8\u91cf\u503c\uff0c\u5176\u7ed3\u679c\u8ddf\u968f\u5728\u201cOut[]:\u201d\u63d0\u793a\u7b26\u540e\uff0c\u5373\u88ab\u4fdd\u5b58\u5230Out\u5b57\u5178\u4e2d\u3002\n",
      "    print\u51fd\u6570\u4f7f\u7528\u7684\u662f\u975e\u6b63\u5f0f\u7684\u5b57\u7b26\u4e32\u8868\u8fbe\u5f0f\uff1b\u800c\u7b80\u5355\u53d8\u91cf\u540d\u4f7f\u7528\u7684\u662f\u6b63\u5f0f\u5b57\u7b26\u4e32\u8868\u8fbe\u5f0f\u3002\u4f60\u4e5f\u8bb8\u89c9\u5f97\u8fd9\u6ca1\u6709\u4ec0\u4e48\u5f88\u5927\u7684\u533a\u522b\uff0c\u4f46\u662f\u5728\u5904\u7406\u81ea\u5b9a\u4e49\u7c7b\u800c\u975e\u5185\u7f6e\u7c7b\u65f6\uff0c\u5dee\u5f02\u662f\u975e\u5e38\u660e\u663e\u7684\u3002"
     ]
    },
    {
     "cell_type": "code",
     "collapsed": false,
     "input": [
      "class DoubleRep(object):\n",
      "    def __str__(self):\n",
      "        return \"Hi,I'm a __str__\"\n",
      "    def __repr__(self):\n",
      "        return \"Hi,I'm a __repr__\"\n",
      "    \n",
      "dr = DoubleRep()\n",
      "print dr\n",
      "dr"
     ],
     "language": "python",
     "metadata": {},
     "outputs": [
      {
       "output_type": "stream",
       "stream": "stdout",
       "text": [
        "Hi,I'm a __str__\n"
       ]
      },
      {
       "metadata": {},
       "output_type": "pyout",
       "prompt_number": 26,
       "text": [
        "Hi,I'm a __repr__"
       ]
      }
     ],
     "prompt_number": 26
    },
    {
     "cell_type": "heading",
     "level": 2,
     "metadata": {},
     "source": [
      "Tab\u81ea\u52a8\u8865\u5168\u529f\u80fd"
     ]
    },
    {
     "cell_type": "raw",
     "metadata": {},
     "source": [
      "IPython\u4e2d\u7684Tab\u81ea\u52a8\u8865\u5168\u529f\u80fd\u662f\u9ed8\u8ba4\u5f00\u542f\u7684\u3002\u6807\u51c6\u7684Python shell\u5982\u679c\u7f16\u8bd1\u65f6\u589e\u52a0\u4e86readline\u652f\u6301\u7279\u6027\uff0c\u5c06\u4e5f\u5177\u5907tab\u81ea\u52a8\u8865\u9f50\u529f\u80fd\uff0c\u4f46\u662f\u9700\u8981\u505a\u5982\u4e0b\u5904\u7406\uff1a\n",
      "    import recompleter\uff0creadline\n",
      "    readline.parse_and_bind('tab:complete')\n",
      "\u5728IPython\u4e2d\u65e0\u987b\u4efb\u4f55\u914d\u7f6e\uff0c\u65e2\u53ef\u4f7f\u7528Tab\u81ea\u52a8\u8865\u5168\u529f\u80fd\u3002"
     ]
    },
    {
     "cell_type": "code",
     "collapsed": false,
     "input": [
      "import os"
     ],
     "language": "python",
     "metadata": {},
     "outputs": [],
     "prompt_number": 27
    },
    {
     "cell_type": "code",
     "collapsed": false,
     "input": [
      "os.lis  #\u8fd9\u91cc\u6309\u4e0btab\u952e\uff0c\u65e2\u53ef\u8865\u5168\u5f97\u5230os.listdir"
     ],
     "language": "python",
     "metadata": {},
     "outputs": []
    },
    {
     "cell_type": "code",
     "collapsed": false,
     "input": [
      "os.li   #\u5f53\u6709\u591a\u79cd\u53ef\u80fd\u65f6\uff0c\u6309\u4e0btab\u952e\uff0c\u4f1a\u7ed9\u51fa\u591a\u79cd\u9009\u62e9\u7684\u60c5\u51b5"
     ],
     "language": "python",
     "metadata": {},
     "outputs": []
    },
    {
     "cell_type": "raw",
     "metadata": {},
     "source": [
      "\u5728IPython\u4e2dTab\u81ea\u52a8\u8865\u5168\u529f\u80fd\u4e0d\u4ec5\u4f7f\u7528\u4e8e\u51fd\u6570\u6216\u65b9\u6cd5\u540d\u7684\u8865\u5168\uff0c\u8fd8\u662f\u7528\u4e8e\u6a21\u5757\u540d\u7684\u8865\u5168"
     ]
    },
    {
     "cell_type": "code",
     "collapsed": false,
     "input": [
      "import o #\u8fd9\u91cc\u5982\u679c\u6309\u4e0bTab\u952e\uff0c\u5219\u4f1a\u5c06\u6240\u6709\u4ee5o\u5f00\u5934\u7684\u6a21\u5757\u540d\u5217\u51fa"
     ],
     "language": "python",
     "metadata": {},
     "outputs": []
    },
    {
     "cell_type": "heading",
     "level": 2,
     "metadata": {},
     "source": [
      "IPython\u5f3a\u5927\u7684\u5185\u5efa\u9b54\u529b\u51fd\u6570"
     ]
    },
    {
     "cell_type": "raw",
     "metadata": {},
     "source": [
      "IPython\u4f1a\u5c06\u4efb\u4f55\u7b2c\u4e00\u4e2a\u5b57\u6bcd\u4e3a%\u7684\u884c\uff0c\u89c6\u4e3a\u5bf9\u9b54\u529b\u51fd\u6570\u7684\u7279\u6b8a\u8c03\u7528\u3002\u8fd9\u6837\u4f60\u5c31\u53ef\u4ee5\u63a7\u5236IPython\uff0c\u4e3a\u5176\u589e\u52a0\u8bb8\u591a\u7cfb\u7edf\u7ea7\u7684\u7279\u5f81\u3002\u9b54\u529b\u51fd\u6570\u90fd\u662f\u4ee5%\u4e3a\u524d\u7f00\uff0c\u5e76\u4e14\u53c2\u6570\u4e2d\u4e0d\u5305\u542b\u62ec\u53f7\u6216\u8005\u5f15\u53f7\u3002\u6211\u4eec\u53ef\u4ee5\u901a\u8fc7lsmagic\u9b54\u529b\u51fd\u6570\u67e5\u770bIPython\u4e2d\u6240\u6709\u7684\u9b54\u529b\u51fd\u6570\u3002"
     ]
    },
    {
     "cell_type": "code",
     "collapsed": false,
     "input": [
      "lsmagic"
     ],
     "language": "python",
     "metadata": {},
     "outputs": [
      {
       "json": [
        "{\"cell\": {\"prun\": \"ExecutionMagics\", \"file\": \"Other\", \"!\": \"OSMagics\", \"capture\": \"ExecutionMagics\", \"timeit\": \"ExecutionMagics\", \"script\": \"ScriptMagics\", \"ruby\": \"Other\", \"system\": \"OSMagics\", \"perl\": \"Other\", \"HTML\": \"Other\", \"bash\": \"Other\", \"python\": \"Other\", \"SVG\": \"Other\", \"javascript\": \"DisplayMagics\", \"writefile\": \"OSMagics\", \"pypy\": \"Other\", \"python3\": \"Other\", \"latex\": \"DisplayMagics\", \"sx\": \"OSMagics\", \"svg\": \"DisplayMagics\", \"html\": \"DisplayMagics\", \"sh\": \"Other\", \"time\": \"ExecutionMagics\", \"debug\": \"ExecutionMagics\"}, \"line\": {\"load\": \"CodeMagics\", \"psource\": \"NamespaceMagics\", \"lsmagic\": \"BasicMagics\", \"logstate\": \"LoggingMagics\", \"logstart\": \"LoggingMagics\", \"popd\": \"OSMagics\", \"ed\": \"Other\", \"pycat\": \"OSMagics\", \"loadpy\": \"CodeMagics\", \"install_ext\": \"ExtensionMagics\", \"cd\": \"OSMagics\", \"pastebin\": \"CodeMagics\", \"clear\": \"KernelMagics\", \"colors\": \"BasicMagics\", \"prun\": \"ExecutionMagics\", \"pushd\": \"OSMagics\", \"rep\": \"Other\", \"config\": \"ConfigMagics\", \"dirs\": \"OSMagics\", \"time\": \"ExecutionMagics\", \"who_ls\": \"NamespaceMagics\", \"install_profiles\": \"DeprecatedMagics\", \"macro\": \"ExecutionMagics\", \"autocall\": \"AutoMagics\", \"alias\": \"OSMagics\", \"bookmark\": \"OSMagics\", \"connect_info\": \"KernelMagics\", \"rehashx\": \"OSMagics\", \"pprint\": \"BasicMagics\", \"system\": \"OSMagics\", \"whos\": \"NamespaceMagics\", \"hist\": \"Other\", \"install_default_config\": \"DeprecatedMagics\", \"logoff\": \"LoggingMagics\", \"env\": \"OSMagics\", \"qtconsole\": \"KernelMagics\", \"load_ext\": \"ExtensionMagics\", \"save\": \"CodeMagics\", \"tb\": \"ExecutionMagics\", \"store\": \"StoreMagics\", \"more\": \"KernelMagics\", \"profile\": \"BasicMagics\", \"doctest_mode\": \"KernelMagics\", \"pylab\": \"PylabMagics\", \"run\": \"ExecutionMagics\", \"reset_selective\": \"NamespaceMagics\", \"pfile\": \"NamespaceMagics\", \"pinfo2\": \"NamespaceMagics\", \"pdef\": \"NamespaceMagics\", \"killbgscripts\": \"ScriptMagics\", \"who\": \"NamespaceMagics\", \"precision\": \"BasicMagics\", \"matplotlib\": \"PylabMagics\", \"quickref\": \"BasicMagics\", \"pinfo\": \"NamespaceMagics\", \"pwd\": \"OSMagics\", \"psearch\": \"NamespaceMagics\", \"autosave\": \"KernelMagics\", \"less\": \"KernelMagics\", \"sc\": \"OSMagics\", \"automagic\": \"AutoMagics\", \"reset\": \"NamespaceMagics\", \"sx\": \"OSMagics\", \"magic\": \"BasicMagics\", \"dhist\": \"OSMagics\", \"timeit\": \"ExecutionMagics\", \"edit\": \"KernelMagics\", \"logstop\": \"LoggingMagics\", \"gui\": \"BasicMagics\", \"xdel\": \"NamespaceMagics\", \"xmode\": \"BasicMagics\", \"notebook\": \"BasicMagics\", \"pdb\": \"ExecutionMagics\", \"recall\": \"HistoryMagics\", \"unalias\": \"OSMagics\", \"unload_ext\": \"ExtensionMagics\", \"alias_magic\": \"BasicMagics\", \"reload_ext\": \"ExtensionMagics\", \"man\": \"KernelMagics\", \"rerun\": \"HistoryMagics\", \"debug\": \"ExecutionMagics\", \"logon\": \"LoggingMagics\", \"page\": \"BasicMagics\", \"pdoc\": \"NamespaceMagics\", \"history\": \"HistoryMagics\"}}"
       ],
       "metadata": {},
       "output_type": "pyout",
       "prompt_number": 28,
       "text": [
        "Available line magics:\n",
        "%alias  %alias_magic  %autocall  %automagic  %autosave  %bookmark  %cd  %clear  %colors  %config  %connect_info  %debug  %dhist  %dirs  %doctest_mode  %ed  %edit  %env  %gui  %hist  %history  %install_default_config  %install_ext  %install_profiles  %killbgscripts  %less  %load  %load_ext  %loadpy  %logoff  %logon  %logstart  %logstate  %logstop  %lsmagic  %macro  %magic  %man  %matplotlib  %more  %notebook  %page  %pastebin  %pdb  %pdef  %pdoc  %pfile  %pinfo  %pinfo2  %popd  %pprint  %precision  %profile  %prun  %psearch  %psource  %pushd  %pwd  %pycat  %pylab  %qtconsole  %quickref  %recall  %rehashx  %reload_ext  %rep  %rerun  %reset  %reset_selective  %run  %save  %sc  %store  %sx  %system  %tb  %time  %timeit  %unalias  %unload_ext  %who  %who_ls  %whos  %xdel  %xmode\n",
        "\n",
        "Available cell magics:\n",
        "%%!  %%HTML  %%SVG  %%bash  %%capture  %%debug  %%file  %%html  %%javascript  %%latex  %%perl  %%prun  %%pypy  %%python  %%python3  %%ruby  %%script  %%sh  %%svg  %%sx  %%system  %%time  %%timeit  %%writefile\n",
        "\n",
        "Automagic is ON, % prefix IS NOT needed for line magics."
       ]
      }
     ],
     "prompt_number": 28
    },
    {
     "cell_type": "raw",
     "metadata": {},
     "source": [
      "\u4ece\u4ee5\u4e0alsmagic\u51fd\u6570\u7684\u8f93\u51fa\u6211\u4eec\u53ef\u4ee5\u770b\u5230IPython\u63d0\u4f9b\u7684\u9b54\u529b\u51fd\u6570\u662f\u975e\u5e38\u591a\u7684\u3002\u8bf7\u5927\u5bb6\u6ce8\u610f\u770b\u6700\u540e\u4e00\u884c\u5185\u5bb9\uff0c\u5176\u544a\u8bc9\u6211\u4eecAutomagic\u88ab\u8bbe\u7f6e\u4e3aON\uff0c\u5219\u6211\u4eec\u4e0d\u9700\u8981\u5728\u9b54\u529b\u51fd\u6570\u524d\u9762\u4f7f\u7528%\uff0c\u5373\u53ef\u76f4\u63a5\u4f7f\u7528\u9b54\u529b\u51fd\u6570\u540d\u8c03\u7528\u9b54\u529b\u51fd\u6570\u4e86\u3002\u8fd9\u4e5f\u5c31\u662f\u4e3a\u4ec0\u4e48\u53ef\u4ee5\u76f4\u63a5\u4f7f\u7528lsmagic\u7684\u539f\u56e0\u4e86\u3002\n",
      "    \u6211\u4eec\u8fd8\u53ef\u4ee5\u4f7f\u7528Tab\u81ea\u52a8\u8865\u5168\u529f\u80fd\u6765\u83b7\u53d6\u6240\u6709\u9b54\u529b\u51fd\u6570\u5217\u8868\uff0c\u4f8b\u5982\uff1a%<tab>\uff1b\n",
      "    \u5149\u83b7\u53d6\u9b54\u529b\u51fd\u6570\u540d\u5b57\uff0c\u8fd8\u4e0d\u591f\u5e2e\u52a9\u6211\u4eec\u7406\u89e3\u9b54\u529b\u51fd\u6570\u7684\u7528\u9014\u548c\u4f7f\u7528\u65b9\u6cd5\uff0c\u6211\u4eec\u53ef\u4ee5\u901a\u8fc7magic\u51fd\u6570\uff0c\u83b7\u53d6\u6240\u6709\u9b54\u529b\u51fd\u6570\u7684\u5e2e\u52a9\u6587\u6863\uff1b\n",
      "    "
     ]
    },
    {
     "cell_type": "code",
     "collapsed": false,
     "input": [
      "magic #\u8f93\u51fa\u5168\u90e8\u9b54\u529b\u51fd\u6570\u5e2e\u52a9\u6587\u6863"
     ],
     "language": "python",
     "metadata": {},
     "outputs": [],
     "prompt_number": 32
    },
    {
     "cell_type": "raw",
     "metadata": {},
     "source": [
      "\u5728\u6211\u4eec\u77e5\u9053\u67d0\u4e2a\u9b54\u529b\u51fd\u6570\u540d\u65f6\uff0c\u60f3\u67e5\u8be2\u8be5\u51fd\u6570\u7684\u4f7f\u7528\u5e2e\u52a9\u65f6\uff0c\u6211\u4eec\u53ef\u4ee5\u901a\u8fc7\u8f93\u5165\u9b54\u529b\u51fd\u6570\u540d\u540e\uff0c\u52a0\u4e0a\u4e00\u4e2a'?'\u6765\u83b7\u53d6\u8be5\u9b54\u529b\u51fd\u6570\u7684\u5e2e\u52a9\uff0c\u4f8b\u5982\uff1a"
     ]
    },
    {
     "cell_type": "code",
     "collapsed": false,
     "input": [
      "cd?"
     ],
     "language": "python",
     "metadata": {},
     "outputs": [],
     "prompt_number": 38
    },
    {
     "cell_type": "raw",
     "metadata": {},
     "source": [
      "\u5982\u679c\u4f60\u89c9\u5f97magic\u8f93\u51fa\u7684\u5e2e\u52a9\u6587\u6863\u592a\u7f57\u55e6\uff0c\u90a3\u4e48\u4e5f\u53ef\u4ee5\u901a\u8fc7quickref\u83b7\u53d6\u5feb\u901f\u53c2\u8003\u6587\u6863\uff0c\u4f8b\u5982\uff1a"
     ]
    },
    {
     "cell_type": "code",
     "collapsed": false,
     "input": [
      "quickref"
     ],
     "language": "python",
     "metadata": {},
     "outputs": [],
     "prompt_number": 39
    }
   ],
   "metadata": {}
  }
 ]
}