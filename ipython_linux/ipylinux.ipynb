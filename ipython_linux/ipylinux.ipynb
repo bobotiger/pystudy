{
 "metadata": {
  "name": "",
  "signature": "sha256:2dd10c273f2763c0c404b9ccdb30d2aa3a881ed0f4c64fd1e941d023d0147a64"
 },
 "nbformat": 3,
 "nbformat_minor": 0,
 "worksheets": [
  {
   "cells": [
    {
     "cell_type": "heading",
     "level": 1,
     "metadata": {},
     "source": [
      "IPython shell\u4e2d\u64cd\u4f5cLinux\u7cfb\u7edf"
     ]
    },
    {
     "cell_type": "heading",
     "level": 2,
     "metadata": {},
     "source": [
      "\u9b54\u529b\u51fd\u6570%alias"
     ]
    },
    {
     "cell_type": "raw",
     "metadata": {},
     "source": [
      "\u9b54\u529b\u51fd\u6570%alias\u662f\u8fde\u63a5IPython\u548cLinux\u64cd\u4f5c\u7cfb\u7edf\u7684\u6865\u6881\u3002\u901a\u8fc7%alias\uff0c\u53ef\u4ee5\u521b\u5efa\u4e00\u4e2aIPython\u7684\u5feb\u6377\u65b9\u5f0f\uff0c\u7528\u6765\u6267\u884c\u7cfb\u7edf\u547d\u4ee4\u3002\u5b9a\u4e49\u522b\u540d\uff0c\u53ea\u9700\u8981\u7b80\u5355\u7684\u8f93\u5165%alias\uff0c\u540e\u8ddf\u7cfb\u7edf\u547d\u4ee4\uff08\u4e5f\u53ef\u4ee5\u9644\u52a0\u8be5\u547d\u4ee4\u7684\u53c2\u6570\uff09\u3002\u5982\u679c\u4e0d\u8ddf\u968f\u4efb\u4f55\u7cfb\u7edf\u547d\u4ee4\u7684\u8c03\u7528alias\uff0c\u5c06\u6253\u5370IPython\u4e2d\u5f53\u524d\u7684\u522b\u540d\u8868(alias table)\u3002\u4f8b\u5982\uff1a"
     ]
    },
    {
     "cell_type": "code",
     "collapsed": false,
     "input": [
      "alias"
     ],
     "language": "python",
     "metadata": {},
     "outputs": [
      {
       "output_type": "stream",
       "stream": "stdout",
       "text": [
        "Total number of aliases: 12\n"
       ]
      },
      {
       "metadata": {},
       "output_type": "pyout",
       "prompt_number": 6,
       "text": [
        "[('cat', 'cat'),\n",
        " ('cp', 'cp -i'),\n",
        " ('ldir', 'ls -F -o --color %l | grep /$'),\n",
        " ('lf', 'ls -F -o --color %l | grep ^-'),\n",
        " ('lk', 'ls -F -o --color %l | grep ^l'),\n",
        " ('ll', 'ls -F -o --color'),\n",
        " ('ls', 'ls -F --color'),\n",
        " ('lx', 'ls -F -o --color %l | grep ^-..x'),\n",
        " ('mkdir', 'mkdir'),\n",
        " ('mv', 'mv -i'),\n",
        " ('rm', 'rm -i'),\n",
        " ('rmdir', 'rmdir')]"
       ]
      }
     ],
     "prompt_number": 6
    },
    {
     "cell_type": "raw",
     "metadata": {},
     "source": [
      "\u4e0a\u9762\u7684\u8f93\u51fa\u544a\u8bc9\u6211\u4eec\u5f53\u524d\u522b\u540d\u8868\u4e2d\u5305\u542b\u670912\u4e2a\u5df2\u7ecf\u5b9a\u4e49\u597d\u7684Linux\u7cfb\u7edf\u547d\u4ee4\u522b\u540d\uff0c\u6211\u4eec\u53ef\u4ee5\u5728IPython shell\u4e2d\u76f4\u63a5\u901a\u8fc7\u4ee5\u4e0a\u5217\u8868\u4e2d\u7684\u522b\u540d\u6765\u4f7f\u7528\u5bf9\u5e94\u7684Linux\u7cfb\u7edf\u547d\u4ee4\uff0c\u5c31\u597d\u8c61\u5728Linux shell\u4e2d\u4f7f\u7528\u4e00\u6837\u3002\u4f8b\u5982\uff0c\u4f7f\u7528\u522b\u540d\u201cls\u201d\uff0c\u6211\u4eec\u53ef\u4ee5\u5c06\u5f53\u524d\u76ee\u5f55\u4e2d\u7684\u6587\u4ef6\u4fe1\u606f\u8f93\u51fa\u3002"
     ]
    },
    {
     "cell_type": "code",
     "collapsed": false,
     "input": [
      "ls -o"
     ],
     "language": "python",
     "metadata": {},
     "outputs": [
      {
       "output_type": "stream",
       "stream": "stdout",
       "text": [
        "\u603b\u7528\u91cf 152\r\n",
        "-rw-rw-r-- 1 whpuser 17401  2\u6708 21 17:48 ipybase.ipynb\r\n",
        "-rw-rw-r-- 1 whpuser 17542  2\u6708 21 21:50 ipylinux.ipynb\r\n",
        "-rw-rw-r-- 1 whpuser   327  2\u6708  6 20:05 iterator.py\r\n",
        "-rw-rw-r-- 1 whpuser   960  2\u6708  6 19:53 loop_handle_list.py\r\n",
        "-rw-rw-r-- 1 whpuser  1937  2\u6708 20 22:37 mycert.pem\r\n",
        "-rw-rw-r-- 1 whpuser   339  2\u6708  6 20:15 myiterator.py\r\n",
        "-rw-rw-r-- 1 whpuser   341  2\u6708 11 21:36 pyfunction.py\r\n",
        "-rw-rw-r-- 1 whpuser  1971  2\u6708 12 22:35 pynumber.py\r\n",
        "-rw-rw-r-- 1 whpuser  2314  2\u6708 13 10:58 pynumber.pyc\r\n",
        "-rw-rw-r-- 1 whpuser  5099  2\u6708 16 21:06 pyre.py\r\n",
        "-rwxrwxr-x 1 whpuser   544 12\u6708 31 16:28 \u001b[0m\u001b[01;32mpysysinfo_func2.py\u001b[0m*\r\n",
        "-rw-rw-r-- 1 whpuser   857 12\u6708 31 16:28 pysysinfo_func2.pyc\r\n",
        "-rwxrwxr-x 1 whpuser   516 12\u6708 31 15:47 \u001b[01;32mpysysinfo_func.py\u001b[0m*\r\n",
        "-rw-rw-r-- 1 whpuser   810 12\u6708 31 16:33 pysysinfo_func.pyc\r\n",
        "-rwxrwxr-x 1 whpuser   383 12\u6708 30 22:41 \u001b[01;32mpysysinfo.py\u001b[0m*\r\n",
        "-rw-rw-r-- 1 whpuser 41304  2\u6708 21 21:25 regex.ipynb\r\n",
        "-rw-rw-r-- 1 whpuser    18  2\u6708 16 16:20 textfile\r\n",
        "-rw-rw-r-- 1 whpuser   242  2\u6708 17 16:26 whooutput\r\n",
        "-rw-rw-r-- 1 whpuser   253  2\u6708 13 11:36 whooutput.txt\r\n"
       ]
      }
     ],
     "prompt_number": 12
    },
    {
     "cell_type": "raw",
     "metadata": {},
     "source": [
      "\u5982\u679c\u6211\u4eec\u5e0c\u671b\u80fd\u591f\u5728IPython shell\u4e2d\u80fd\u591f\u65b9\u4fbf\u7684\u4f7f\u7528netstat\u547d\u4ee4\uff0c\u90a3\u4e48\u5c31\u53ef\u4ee5\u4f7f\u7528%alias\u51fd\u6570\u6765\u521b\u5efa\u4e00\u4e2anetstat\u547d\u4ee4\u7684\u522b\u540d\uff0c\u4f8b\u5982\uff1a"
     ]
    },
    {
     "cell_type": "code",
     "collapsed": false,
     "input": [
      "alias ns netstat -lptn"
     ],
     "language": "python",
     "metadata": {},
     "outputs": [],
     "prompt_number": 13
    },
    {
     "cell_type": "raw",
     "metadata": {},
     "source": [
      "\u5728%alias\u51fd\u6570\u4e2d\u53ef\u4ee5\u4f7f\u7528\u201c%l\u201d\uff0c\u7528\u6765\u5728\u4f7f\u7528\u522b\u540d\u65f6\uff0c\u7528\u6765\u63a5\u6536\u4e4b\u540e\u7684\u6574\u884c\u4fe1\u606f"
     ]
    },
    {
     "cell_type": "code",
     "collapsed": false,
     "input": [
      "alias show echo \"Input in brackets: <%l>\""
     ],
     "language": "python",
     "metadata": {},
     "outputs": [],
     "prompt_number": 24
    },
    {
     "cell_type": "code",
     "collapsed": false,
     "input": [
      "show hello world!"
     ],
     "language": "python",
     "metadata": {},
     "outputs": [
      {
       "output_type": "stream",
       "stream": "stdout",
       "text": [
        "Input in brackets: <hello world!>\r\n"
       ]
      }
     ],
     "prompt_number": 25
    },
    {
     "cell_type": "raw",
     "metadata": {},
     "source": [
      "\u8fd8\u53ef\u4ee5\u5728%alias\u51fd\u6570\u5b9a\u4e49\u522b\u540d\u65f6\u4f7f\u7528\u201c%s\u201d\u6765\u5b9a\u4e49\u522b\u540d\u53ef\u4f7f\u7528\u7684\u53c2\u6570\uff1a"
     ]
    },
    {
     "cell_type": "code",
     "collapsed": false,
     "input": [
      "alias parts echo first %s second %s"
     ],
     "language": "python",
     "metadata": {},
     "outputs": [],
     "prompt_number": 49
    },
    {
     "cell_type": "code",
     "collapsed": false,
     "input": [
      "parts A B"
     ],
     "language": "python",
     "metadata": {},
     "outputs": [
      {
       "output_type": "stream",
       "stream": "stdout",
       "text": [
        "first A second B\r\n"
       ]
      }
     ],
     "prompt_number": 27
    },
    {
     "cell_type": "raw",
     "metadata": {},
     "source": [
      "\u8bf7\u6ce8\u610f\u201c%l\u201d\u548c\u201c%s\u201d\u662f\u4e92\u65a5\u7684\uff0c\u5373\u5728\u4e00\u4e2a\u522b\u540d\u5b9a\u4e49\u4e2d\u53ea\u80fd\u4f7f\u7528\u5176\u4e2d\u7684\u4e00\u79cd\u3002"
     ]
    },
    {
     "cell_type": "raw",
     "metadata": {},
     "source": [
      "\u5728%alias\u4e2d\u4e5f\u53ef\u4ee5\u4f7f\u7528\u53d8\u91cf\uff0c\u5176\u7c7b\u4f3c\u4e8eLinux shell\u4e2d\u7684\u53d8\u91cf\u4f7f\u7528\u65b9\u5f0f\uff0c\u5373\u5728\u53d8\u91cf\u540d\u524d\u9762\u6dfb\u52a0\u2018$\u2019\u6765\u63d0\u53d6\u53d8\u91cf\u7684\u503c\u3002"
     ]
    },
    {
     "cell_type": "code",
     "collapsed": false,
     "input": [
      "alias show echo"
     ],
     "language": "python",
     "metadata": {},
     "outputs": [],
     "prompt_number": 56
    },
    {
     "cell_type": "code",
     "collapsed": false,
     "input": [
      "PATH=\"This is IPython string.\""
     ],
     "language": "python",
     "metadata": {},
     "outputs": [],
     "prompt_number": 57
    },
    {
     "cell_type": "code",
     "collapsed": false,
     "input": [
      "show $PATH"
     ],
     "language": "python",
     "metadata": {},
     "outputs": [
      {
       "output_type": "stream",
       "stream": "stdout",
       "text": [
        "This is IPython string.\r\n"
       ]
      }
     ],
     "prompt_number": 58
    },
    {
     "cell_type": "code",
     "collapsed": false,
     "input": [
      "show $$PATH"
     ],
     "language": "python",
     "metadata": {},
     "outputs": [
      {
       "output_type": "stream",
       "stream": "stdout",
       "text": [
        "/home/whpuser/Qt5.3.2/5.3/gcc/bin:/usr/local/sbin:/usr/local/bin:/usr/sbin:/usr/bin:/sbin:/bin:/usr/games:/usr/local/games\r\n"
       ]
      }
     ],
     "prompt_number": 59
    },
    {
     "cell_type": "heading",
     "level": 2,
     "metadata": {},
     "source": [
      "\u53e6\u4e00\u79cd\u7b80\u6613\u6267\u884cshell\u547d\u4ee4\u7684\u65b9\u6cd5\uff1a\u5728\u547d\u4ee4\u524d\u52a0\u611f\u53f9\u53f7(!)\u6216(!!)"
     ]
    },
    {
     "cell_type": "code",
     "collapsed": false,
     "input": [
      "!echo $PATH"
     ],
     "language": "python",
     "metadata": {},
     "outputs": [
      {
       "output_type": "stream",
       "stream": "stdout",
       "text": [
        "This is IPython string.\r\n"
       ]
      }
     ],
     "prompt_number": 72
    },
    {
     "cell_type": "code",
     "collapsed": false,
     "input": [
      "!!echo $PATH"
     ],
     "language": "python",
     "metadata": {},
     "outputs": [
      {
       "metadata": {},
       "output_type": "pyout",
       "prompt_number": 73,
       "text": [
        "['This is IPython string.']"
       ]
      }
     ],
     "prompt_number": 73
    },
    {
     "cell_type": "raw",
     "metadata": {},
     "source": [
      "\u901a\u8fc7\u4e0a\u9762\u7684\u793a\u4f8b\uff0c\u6211\u4eec\u53d1\u73b0\u901a\u8fc7\u2018!\u2019\u548c\u201c!!\u201d\u6765\u6267\u884c\u7cfb\u7edf\u547d\u4ee4\u7684\u8f93\u51fa\u5f62\u5f0f\u4e0a\u6709\u4e9b\u4e0d\u540c\uff0c\u8fd9\u79cd\u4e0d\u540c\u5bfc\u81f4\u2018!\u2019\u6267\u884c\u7cfb\u7edf\u547d\u4ee4\u7684\u7ed3\u679c\u53ef\u4ee5\u4fdd\u5b58\u5230\u53d8\u91cf\u4e2d\uff0c\u800c\u201c!!\u201d\u6267\u884c\u7cfb\u7edf\u547d\u4ee4\u7684\u7ed3\u679c\u4e0d\u80fd\u4fdd\u5b58\u5230\u53d8\u91cf\u4e2d,\u4f8b\u5982\uff1a"
     ]
    },
    {
     "cell_type": "code",
     "collapsed": false,
     "input": [
      "l = !echo $PATH\n",
      "print l\n",
      "m = !!echo $PATH\n",
      "print m"
     ],
     "language": "python",
     "metadata": {},
     "outputs": [
      {
       "output_type": "stream",
       "stream": "stdout",
       "text": [
        "['This is IPython string.']\n"
       ]
      },
      {
       "output_type": "stream",
       "stream": "stdout",
       "text": [
        "['/bin/sh: 1: !echo: not found']\n"
       ]
      }
     ],
     "prompt_number": 81
    },
    {
     "cell_type": "heading",
     "level": 2,
     "metadata": {},
     "source": [
      "\u5bf9\u5f53\u524d\u5de5\u4f5c\u76ee\u5f55\u7684\u64cd\u4f5c"
     ]
    },
    {
     "cell_type": "raw",
     "metadata": {},
     "source": [
      "IPython\u4e2d\u7684%cd\u4e0ebash\u7684cd\u7684\u529f\u80fd\u662f\u76f8\u540c\u7684\uff0c\u90fd\u662f\u7528\u6765\u6539\u53d8\u5f53\u524d\u5de5\u4f5c\u76ee\u5f55\u3002"
     ]
    },
    {
     "cell_type": "code",
     "collapsed": false,
     "input": [
      "cd ~"
     ],
     "language": "python",
     "metadata": {},
     "outputs": [
      {
       "output_type": "stream",
       "stream": "stdout",
       "text": [
        "/home/whpuser\n"
       ]
      }
     ],
     "prompt_number": 86
    },
    {
     "cell_type": "code",
     "collapsed": false,
     "input": [
      "ls"
     ],
     "language": "python",
     "metadata": {},
     "outputs": [
      {
       "output_type": "stream",
       "stream": "stdout",
       "text": [
        "\u001b[0m\u001b[01;34mbashcode\u001b[0m/  \u001b[01;34mDesktop\u001b[0m/               \u001b[01;31mhumnity.tar.gz\u001b[0m  nonexistfile  \u001b[01;34mQt5.3.2\u001b[0m/          \u001b[01;34m\u516c\u5171\u7684\u001b[0m/  \u001b[01;34m\u4e0b\u8f7d\u001b[0m/\r\n",
        "\u001b[01;34mc\u001b[0m/         destfile               \u001b[01;34minclude\u001b[0m/        \u001b[01;34mPictures\u001b[0m/     \u001b[01;34msip\u001b[0m/              \u001b[01;34m\u6a21\u677f\u001b[0m/    \u001b[01;34m\u97f3\u4e50\u001b[0m/\r\n",
        "\u001b[01;34mcb\u001b[0m/        \u001b[01;34meric project\u001b[0m/          \u001b[01;31mmeego.tar.gz\u001b[0m    \u001b[01;34mpystudy\u001b[0m/      space_report.txt  \u001b[01;34m\u89c6\u9891\u001b[0m/    \u001b[01;34m\u684c\u9762\u001b[0m/\r\n",
        "core       ez_setup.py            \u001b[01;34mMusic\u001b[0m/          \u001b[01;34mpython3\u001b[0m/      \u001b[37;44mtestdir\u001b[0m/          \u001b[01;34m\u56fe\u7247\u001b[0m/\r\n",
        "c.vim      \u001b[01;35mFirefox_wallpaper.png\u001b[0m  netstat         \u001b[01;34mpythoncode\u001b[0m/   \u001b[01;34mxml\u001b[0m/              \u001b[01;34m\u6587\u6863\u001b[0m/\r\n"
       ]
      }
     ],
     "prompt_number": 87
    },
    {
     "cell_type": "raw",
     "metadata": {},
     "source": [
      "%cd\u51fd\u6570\u5728\u6539\u53d8\u5f53\u524d\u5de5\u4f5c\u76ee\u5f55\u7684\u540c\u65f6\uff0c\u8fd8\u4f1a\u6253\u5370\u5f53\u524d\u5de5\u4f5c\u76ee\u5f55\uff0c\u5982\u679c\u4e0d\u671f\u671b%cd\u51fd\u6570\u6253\u5370\u5de5\u4f5c\u76ee\u5f55\uff0c\u5c31\u53ef\u4ee5\u4f7f\u7528\u201c-q\u201d\u9009\u9879\uff1a"
     ]
    },
    {
     "cell_type": "code",
     "collapsed": false,
     "input": [
      "cd -q /tmp"
     ],
     "language": "python",
     "metadata": {},
     "outputs": [],
     "prompt_number": 89
    },
    {
     "cell_type": "raw",
     "metadata": {},
     "source": [
      "\u5927\u5bb6\u90fd\u6709\u8fd9\u6837\u4e00\u79cd\u7ecf\u9a8c\uff0c\u8981\u8fdb\u5165\u4e00\u4e2a\u76ee\u5f55\u5c42\u6b21\u5f88\u6df1\u7684\u76ee\u5f55\uff0c\u9700\u8981\u8f93\u5165\u5927\u91cf\u7684\u5b57\u7b26\uff0c\u5982\u679c\u9700\u8981\u5728\u51e0\u4e2a\u8fd9\u6837\u7684\u76ee\u5f55\u4e2d\u6765\u56de\u5207\u6362\uff0c\u8fd9\u662f\u8ba9\u4eba\u975e\u5e38\u90c1\u95f7\u7684\u4e8b\u60c5\u3002IPython\u4e3a\u6211\u4eec\u8003\u8651\u4e86\u8fd9\u6837\u95ee\u9898\u7684\u89e3\u51b3\u65b9\u6cd5\u3002\u5728IPython\u4e2d\u53ef\u4ee5\u4f7f\u7528%bookmark\u51fd\u6570\u6765\u4e3a\u76ee\u5f55\u521b\u5efa\u4e00\u4e2a\u6807\u7b7e\uff0c\u8fd9\u6837\u4ee5\u540e\u5c31\u53ef\u4ee5\u76f4\u63a5\u901a\u8fc7\u8be5\u6807\u7b7e\u6765\u8fdb\u5165\u5176\u4ee3\u8868\u7684\u76ee\u5f55\u4e86\u3002"
     ]
    },
    {
     "cell_type": "code",
     "collapsed": false,
     "input": [
      "cd /home/whpuser/pythoncode/"
     ],
     "language": "python",
     "metadata": {},
     "outputs": [
      {
       "output_type": "stream",
       "stream": "stdout",
       "text": [
        "/home/whpuser/pythoncode\n"
       ]
      }
     ],
     "prompt_number": 90
    },
    {
     "cell_type": "code",
     "collapsed": false,
     "input": [
      "bookmark pycode"
     ],
     "language": "python",
     "metadata": {},
     "outputs": [],
     "prompt_number": 91
    },
    {
     "cell_type": "code",
     "collapsed": false,
     "input": [
      "cd pycode"
     ],
     "language": "python",
     "metadata": {},
     "outputs": [
      {
       "output_type": "stream",
       "stream": "stdout",
       "text": [
        "(bookmark:pycode) -> /home/whpuser/pythoncode\n",
        "/home/whpuser/pythoncode\n"
       ]
      }
     ],
     "prompt_number": 92
    },
    {
     "cell_type": "raw",
     "metadata": {},
     "source": [
      "\u5728\u521b\u5efa\u4e86\u6807\u7b7e\u4e4b\u540e\uff0c\u53ef\u80fd\u65f6\u95f4\u4e45\u4e86\u4f60\u5c31\u4f1a\u5fd8\u8bb0\u66fe\u7ecf\u521b\u5efa\u4e86\u54ea\u4e9b\u6807\u7b7e\uff0c\u5176\u5177\u4f53\u7684\u540d\u5b57\u662f\u4ec0\u4e48\u4e86\u3002\u4e0d\u7528\u62c5\u5fc3\uff0c\u6211\u4eec\u53ef\u4ee5\u4f7f\u7528bookmark\u51fd\u6570\u7684\u201c-l\u201d\u9009\u9879\u6765\u67e5\u770b\u6240\u6709\u7684\u6807\u7b7e\u4fe1\u606f\u3002"
     ]
    },
    {
     "cell_type": "code",
     "collapsed": false,
     "input": [
      "bookmark -l"
     ],
     "language": "python",
     "metadata": {},
     "outputs": [
      {
       "output_type": "stream",
       "stream": "stdout",
       "text": [
        "Current bookmarks:\n",
        "pycode -> /home/whpuser/pythoncode\n"
       ]
      }
     ],
     "prompt_number": 93
    },
    {
     "cell_type": "raw",
     "metadata": {},
     "source": [
      "\u5982\u679c\u4f60\u60f3\u5220\u9664\u67d0\u4e2a\u76ee\u5f55\u6807\u7b7e\uff0c\u90a3\u4e48\u5c31\u53ef\u4ee5\u4f7f\u7528bookmark\u51fd\u6570\u7684\u201c-d\u201d\u9009\u9879\uff0c\u5e76\u7ed9\u51fa\u8981\u5220\u9664\u7684\u4fbf\u7b7e\u540d\u5373\u53ef\u5220\u9664\u8be5\u6807\u7b7e\u3002\u5982\u679c\u8981\u6e05\u7a7a\u6240\u6709\u6807\u7b7e\uff0c\u53ef\u4ee5\u4f7f\u7528\u201c-r\u201d\u9009\u9879"
     ]
    },
    {
     "cell_type": "code",
     "collapsed": false,
     "input": [
      "bookmark -d pycode"
     ],
     "language": "python",
     "metadata": {},
     "outputs": [],
     "prompt_number": 94
    },
    {
     "cell_type": "code",
     "collapsed": false,
     "input": [
      "bookmark -l"
     ],
     "language": "python",
     "metadata": {},
     "outputs": [
      {
       "output_type": "stream",
       "stream": "stdout",
       "text": [
        "Current bookmarks:\n"
       ]
      }
     ],
     "prompt_number": 96
    },
    {
     "cell_type": "raw",
     "metadata": {},
     "source": [
      "IPython\u8fd8\u4e3a\u6211\u4eec\u63d0\u4f9b\u4e86\u4e00\u4e2a\u53ef\u4ee5\u7528\u6765\u67e5\u770b\u66fe\u7ecf\u4f7f\u7528\u8fc7\u7684\u5386\u53f2\u76ee\u5f55\u7684dhist\u51fd\u6570\uff1a"
     ]
    },
    {
     "cell_type": "code",
     "collapsed": false,
     "input": [
      "dhist"
     ],
     "language": "python",
     "metadata": {},
     "outputs": [
      {
       "output_type": "stream",
       "stream": "stdout",
       "text": [
        "Directory history (kept in _dh)\n",
        "0: /home/whpuser/pythoncode\n",
        "1: /tmp\n",
        "2: /home/whpuser\n",
        "3: /tmp\n",
        "4: /home/whpuser/pythoncode\n"
       ]
      }
     ],
     "prompt_number": 97
    },
    {
     "cell_type": "raw",
     "metadata": {},
     "source": [
      "\u6211\u4eec\u4e5f\u53ef\u4ee5\u901a\u8fc7dhist\u51fd\u6570\u7684\u8f93\u51fa\u7ed3\u679c\u4e2d\u7684\u5386\u53f2\u76ee\u5f55\u7f16\u53f7\uff0c\u6765\u5feb\u901f\u5207\u6362\u76ee\u5f55\uff1a"
     ]
    },
    {
     "cell_type": "code",
     "collapsed": false,
     "input": [
      "cd -1"
     ],
     "language": "python",
     "metadata": {},
     "outputs": [
      {
       "output_type": "stream",
       "stream": "stdout",
       "text": [
        "/tmp\n"
       ]
      }
     ],
     "prompt_number": 98
    },
    {
     "cell_type": "raw",
     "metadata": {},
     "source": [
      "\u7531\u4e8eIPython shell\u7684\u63d0\u793a\u7b26\u4e0d\u50cfbash shell\u7684\u63d0\u793a\u7b26\uff0c\u53ef\u4ee5\u65f6\u523b\u4e86\u89e3\u5f53\u524d\u5de5\u4f5c\u76ee\u5f55\u662f\u4ec0\u4e48\uff0c\u56e0\u6b64\u5728\u6267\u884c\u67d0\u4e2a\u547d\u4ee4\u65f6\uff0c\u4e86\u89e3\u5f53\u524d\u5de5\u4f5c\u76ee\u5f55\u662f\u4ec0\u4e48\u5c31\u975e\u5e38\u91cd\u8981\u3002IPython\u4e2d\u63d0\u4f9b\u4e86\u4e0eLinux\u4e2dpwd\u547d\u4ee4\u540c\u540d\u7684pwd\u51fd\u6570\u6765\u5b8c\u6210\u8fd9\u4e2a\u5de5\u4f5c\uff1a"
     ]
    },
    {
     "cell_type": "code",
     "collapsed": false,
     "input": [
      "pwd"
     ],
     "language": "python",
     "metadata": {},
     "outputs": [
      {
       "metadata": {},
       "output_type": "pyout",
       "prompt_number": 99,
       "text": [
        "u'/tmp'"
       ]
      }
     ],
     "prompt_number": 99
    },
    {
     "cell_type": "heading",
     "level": 2,
     "metadata": {},
     "source": [
      "\u53d8\u91cf\u6269\u5c55"
     ]
    },
    {
     "cell_type": "raw",
     "metadata": {},
     "source": [
      "IPython\u4e2d\u53ef\u4ee5\u83b7\u53d6\u4e00\u4e2a\u503c\uff0c\u7136\u540e\u5c06\u8be5\u503c\u4f20\u9012\u7ed9shell"
     ]
    },
    {
     "cell_type": "code",
     "collapsed": false,
     "input": [
      "cd ~"
     ],
     "language": "python",
     "metadata": {},
     "outputs": [
      {
       "output_type": "stream",
       "stream": "stdout",
       "text": [
        "/home/whpuser\n"
       ]
      }
     ],
     "prompt_number": 1
    },
    {
     "cell_type": "code",
     "collapsed": false,
     "input": [
      "!mkdir ipy_varexp"
     ],
     "language": "python",
     "metadata": {},
     "outputs": [],
     "prompt_number": 7
    },
    {
     "cell_type": "code",
     "collapsed": false,
     "input": [
      "cd ipy_varexp"
     ],
     "language": "python",
     "metadata": {},
     "outputs": [
      {
       "output_type": "stream",
       "stream": "stdout",
       "text": [
        "/home/whpuser/ipy_varexp\n"
       ]
      }
     ],
     "prompt_number": 9
    },
    {
     "cell_type": "code",
     "collapsed": false,
     "input": [
      "for i in range(10):\n",
      "    !date > $i\".txt\"\n",
      "    "
     ],
     "language": "python",
     "metadata": {},
     "outputs": [],
     "prompt_number": 10
    },
    {
     "cell_type": "code",
     "collapsed": false,
     "input": [
      "ls"
     ],
     "language": "python",
     "metadata": {},
     "outputs": [
      {
       "output_type": "stream",
       "stream": "stdout",
       "text": [
        "0.txt  1.txt  2.txt  3.txt  4.txt  5.txt  6.txt  7.txt  8.txt  9.txt\r\n"
       ]
      }
     ],
     "prompt_number": 11
    },
    {
     "cell_type": "code",
     "collapsed": false,
     "input": [
      "!find . -regex \"\\./[0-9].txt\" -exec rm -r {} \\;"
     ],
     "language": "python",
     "metadata": {},
     "outputs": [],
     "prompt_number": 14
    },
    {
     "cell_type": "heading",
     "level": 2,
     "metadata": {},
     "source": [
      "\u5b57\u7b26\u4e32\u5904\u7406"
     ]
    },
    {
     "cell_type": "raw",
     "metadata": {},
     "source": [
      "\u5982\u524d\u6240\u8ff0\uff0c\u5728IPython\u4e2d\u53ef\u4ee5\u901a\u8fc7\u2018!\u2019\u6765\u6267\u884cLinux\u7cfb\u7edf\u547d\u4ee4\uff0c\u5e76\u5c06\u6267\u884c\u7ed3\u679c\u8d4b\u503c\u7ed9IPython\u7684\u53d8\u91cf\u3002\u4f8b\u5982who\u547d\u4ee4\u7684\u6267\u884c\u7ed3\u679c\u4f1a\u8fd4\u56de\u4e00\u4e2a\u7c7b\u5217\u8868\u7684\u7ed3\u6784\uff0c\u8be5\u7c7b\u5217\u8868\u7ed3\u6784\u7ee7\u627f\u4e86python\u5185\u5efa\u7684\u5217\u8868\u7c7b\u578b\uff0c\u56e0\u6b64\u80fd\u591f\u652f\u6301\u6240\u6709\u5185\u5efa\u5217\u8868\u7c7b\u578b\u7684\u65b9\u6cd5\u3002\u6211\u4eec\u53ef\u4ee5\u5c06who\u547d\u4ee4\u7684\u6267\u884c\u7ed3\u679c\u8d4b\u503c\u7ed9\u53d8\u91cfw\uff0c\u7136\u540e\u901a\u8fc7type(w)\u548cdir(w)\u5206\u522b\u67e5\u770b\u53d8\u91cfw\u6240\u5f15\u7528\u7684\u5bf9\u8c61\u7684\u7c7b\u578b\u548c\u65b9\u6cd5\u3002"
     ]
    },
    {
     "cell_type": "code",
     "collapsed": false,
     "input": [
      "w = !who\n",
      "type(w)"
     ],
     "language": "python",
     "metadata": {},
     "outputs": [
      {
       "metadata": {},
       "output_type": "pyout",
       "prompt_number": 30,
       "text": [
        "IPython.utils.text.SList"
       ]
      }
     ],
     "prompt_number": 30
    },
    {
     "cell_type": "code",
     "collapsed": false,
     "input": [
      "len(dir(w))"
     ],
     "language": "python",
     "metadata": {},
     "outputs": [
      {
       "metadata": {},
       "output_type": "pyout",
       "prompt_number": 35,
       "text": [
        "62"
       ]
      }
     ],
     "prompt_number": 35
    },
    {
     "cell_type": "raw",
     "metadata": {},
     "source": [
      "\u4e3a\u4e86\u6bd4\u8f83\u7c7b\u5217\u8868\u7ed3\u6784\u548c\u5185\u5efa\u5217\u8868\u7c7b\u578b\u7684\u533a\u522b\uff0c\u6211\u4eec\u5728\u8fd9\u91cc\u521b\u5efa\u4e00\u4e2a\u5185\u5efa\u5217\u8868\u7c7b\u578b\u53d8\u91cfm\uff0c\u7136\u540e\u518d\u6b21\u901a\u8fc7type(m)\u548cdir(m)\u6765\u67e5\u770b\u5185\u5efa\u5217\u8868\u7c7b\u578b\u7684\u7c7b\u578b\u548c\u65b9\u6cd5\u3002"
     ]
    },
    {
     "cell_type": "code",
     "collapsed": false,
     "input": [
      "m = ['whpuser  :0           2015-02-11 21:41 (:0)',\n",
      " 'whpuser  pts/0        2015-02-11 21:42 (:0)',\n",
      " 'whpuser  pts/9        2015-02-16 23:41 (:0)',\n",
      " 'whpuser  pts/1        2015-02-20 22:33 (:0)']"
     ],
     "language": "python",
     "metadata": {},
     "outputs": [],
     "prompt_number": 8
    },
    {
     "cell_type": "code",
     "collapsed": false,
     "input": [
      "type(m)"
     ],
     "language": "python",
     "metadata": {},
     "outputs": [
      {
       "metadata": {},
       "output_type": "pyout",
       "prompt_number": 15,
       "text": [
        "list"
       ]
      }
     ],
     "prompt_number": 15
    },
    {
     "cell_type": "code",
     "collapsed": false,
     "input": [
      "len(dir(m))"
     ],
     "language": "python",
     "metadata": {},
     "outputs": [
      {
       "metadata": {},
       "output_type": "pyout",
       "prompt_number": 34,
       "text": [
        "45"
       ]
      }
     ],
     "prompt_number": 34
    },
    {
     "cell_type": "raw",
     "metadata": {},
     "source": [
      "\u7c7b\u5217\u8868\u7ed3\u6784\u6bd4\u5185\u5efa\u5217\u8868\u7c7b\u578b\u591a\u4e86\u5f88\u591a\u65b9\u6cd5\uff0c\u5176\u4e2d\u4e00\u4e2a\u6700\u6709\u8da3\u7684\u662fgrep\u65b9\u6cd5\u3002\n",
      "\u4e0b\u9762\u901a\u8fc7\u6b63\u5219\u8868\u8fbe\u5f0f\u6765\u8fc7\u6ee4Linux\u7cfb\u7edf\u547d\u4ee4\u7684\u6267\u884c\u7ed3\u679c\uff0c\u201cprune=True\u201d\u8d77\u5230\u53d6\u53cd\u7684\u4f5c\u7528\u3002"
     ]
    },
    {
     "cell_type": "code",
     "collapsed": false,
     "input": [
      "w.grep(\"pts\")"
     ],
     "language": "python",
     "metadata": {},
     "outputs": [
      {
       "metadata": {},
       "output_type": "pyout",
       "prompt_number": 36,
       "text": [
        "['whpuser  pts/0        2015-02-11 21:42 (:0)',\n",
        " 'whpuser  pts/9        2015-02-16 23:41 (:0)',\n",
        " 'whpuser  pts/1        2015-02-20 22:33 (:0)']"
       ]
      }
     ],
     "prompt_number": 36
    },
    {
     "cell_type": "code",
     "collapsed": false,
     "input": [
      "w.grep(\"pts\",prune=True)"
     ],
     "language": "python",
     "metadata": {},
     "outputs": [
      {
       "metadata": {},
       "output_type": "pyout",
       "prompt_number": 37,
       "text": [
        "['whpuser  :0           2015-02-11 21:41 (:0)']"
       ]
      }
     ],
     "prompt_number": 37
    },
    {
     "cell_type": "raw",
     "metadata": {},
     "source": [
      "\u5bf9\u4e8e\u7c7b\u5217\u8868\u7ed3\u6784IPython.utils.text.SList\uff0c\u8fd8\u6709\u4e00\u4e2a\u65b9\u6cd5fields\u4e5f\u5f88\u6709\u7528\u5904\uff0c\u6211\u4eec\u53ef\u4ee5\u901a\u8fc7\u8be5\u65b9\u6cd5\u83b7\u53d6\u8be5\u7ed3\u6784\u4e2d\u7684\u67d0\u4e9b\u5217,\u4f8b\u5982\uff1a\u201cw.fields(0,1)\u201d\u53ef\u4ee5\u83b7\u53d6\u53d8\u91cfw\u6240\u5f15\u7528\u7684\u7c7b\u5217\u8868\u5bf9\u8c61\u4e2d\u7684\u7b2c1\u5217\u548c\u7b2c2\u5217\u7684\u4fe1\u606f\u3002"
     ]
    },
    {
     "cell_type": "code",
     "collapsed": false,
     "input": [
      "w.fields(0,1)"
     ],
     "language": "python",
     "metadata": {},
     "outputs": [
      {
       "metadata": {},
       "output_type": "pyout",
       "prompt_number": 32,
       "text": [
        "['whpuser :0',\n",
        " 'whpuser pts/0',\n",
        " 'whpuser pts/5',\n",
        " 'whpuser pts/9',\n",
        " 'whpuser pts/1']"
       ]
      }
     ],
     "prompt_number": 32
    },
    {
     "cell_type": "raw",
     "metadata": {},
     "source": [
      "\u7531\u4e8egrep\u65b9\u6cd5\u8fd4\u56de\u7684\u7ed3\u679c\u4e5f\u662f\u7c7b\u5217\u8868\u7ed3\u6784\uff0c\u56e0\u6b64fields\u65b9\u6cd5\u4e5f\u53ef\u4ee5\u76f4\u63a5\u8ddf\u5728grep\u65b9\u6cd5\u4e4b\u540e\u4f7f\u7528\uff0c\u4f8b\u5982\uff1a\u201cw.grep(\"pts\").field(0,1)\u201d"
     ]
    },
    {
     "cell_type": "code",
     "collapsed": false,
     "input": [
      "w.grep(\"pts\").fields(0,1)"
     ],
     "language": "python",
     "metadata": {},
     "outputs": [
      {
       "metadata": {},
       "output_type": "pyout",
       "prompt_number": 34,
       "text": [
        "['whpuser pts/0', 'whpuser pts/5', 'whpuser pts/9', 'whpuser pts/1']"
       ]
      }
     ],
     "prompt_number": 34
    },
    {
     "cell_type": "raw",
     "metadata": {},
     "source": [
      "\u4ee5\u4e0a\u6240\u4ecb\u7ecd\u7684\u65b9\u6cd5\u8fd4\u56de\u7684\u7ed3\u679c\u90fd\u662f\u4e00\u4e2a\u7c7b\u5217\u8868\u7ed3\u6784\uff0c\u5982\u679c\u6211\u4eec\u671f\u671b\u5c06\u8f93\u51fa\u7ed3\u679c\u4f5c\u4e3a\u4e00\u4e2a\u5b57\u7b26\u4e32\u4f7f\u7528\uff0c\u5c31\u53ef\u4ee5\u4f7f\u7528\u7c7b\u5217\u8868\u7ed3\u6784\u7684s\u5c5e\u6027\u6765\u83b7\u53d6"
     ]
    },
    {
     "cell_type": "code",
     "collapsed": false,
     "input": [
      "w.grep(\"pts\").fields(1).s"
     ],
     "language": "python",
     "metadata": {},
     "outputs": [
      {
       "metadata": {},
       "output_type": "pyout",
       "prompt_number": 35,
       "text": [
        "'pts/0 pts/5 pts/9 pts/1'"
       ]
      }
     ],
     "prompt_number": 35
    },
    {
     "cell_type": "raw",
     "metadata": {},
     "source": [
      "grep\u65b9\u6cd5\u53ef\u4ee5\u5c06\u4e00\u4e2a\u51fd\u6570\u4f5c\u4e3a\u53c2\u6570\u6765\u8c03\u7528\uff0c\u4f8b\u5982\uff0cfilelist.grep(os.path.isfile)\u53ef\u4ee5\u5c06filelist\u4e2d\u7684\u5217\u8868\u9879\u4f20\u9012\u7ed9\u51fd\u6570os.path.isfile,\u5982\u679c\u51fd\u6570\u8fd4\u56de\u503c\u4e3a\u771f\uff0c\u90a3\u4e48\u8be5\u9879\u8bb0\u5f55\u5c06\u5305\u542b\u5728\u8fc7\u6ee4\u96c6\u4e2d\u3002\u4e00\u822c\u60c5\u51b5\u7684\u5904\u7406\u65b9\u6cd5\u662f\uff0c\u83b7\u5f97\u4e86\u6587\u4ef6\u5217\u8868\u540e\uff0c\u7136\u540e\u901a\u8fc7\u5faa\u73af\u65b9\u5f0f\uff0c\u5c06\u5217\u8868\u4e2d\u7684\u8bb0\u5f55\u4f9d\u6b21\u4f20\u9012\u7ed9\u51fd\u6570os.path.isfile,\u7136\u540e\u6839\u636e\u51fd\u6570\u7684\u8fd4\u56de\u503c\u6765\u51b3\u5b9a\u662f\u5426\u8f93\u51fa\u8be5\u9879\u8bb0\u5f55\uff0c\u8fd9\u6837\u7684\u5904\u7406\u65b9\u6cd5\u660e\u663e\u5f88\u9ebb\u70e6\uff0c\u800cgrep\u65b9\u6cd5\u4e3a\u6211\u4eec\u63d0\u4f9b\u7684\u8fd9\u6837\u5904\u7406\u65b9\u5f0f\u8981\u7b80\u4fbf\u7684\u591a\u3002"
     ]
    },
    {
     "cell_type": "code",
     "collapsed": false,
     "input": [
      "import os"
     ],
     "language": "python",
     "metadata": {},
     "outputs": [],
     "prompt_number": 11
    },
    {
     "cell_type": "code",
     "collapsed": false,
     "input": [
      "cd ~"
     ],
     "language": "python",
     "metadata": {},
     "outputs": [
      {
       "output_type": "stream",
       "stream": "stdout",
       "text": [
        "/home/whpuser\n"
       ]
      }
     ],
     "prompt_number": 24
    },
    {
     "cell_type": "code",
     "collapsed": false,
     "input": [
      "filelist = !ls\n",
      "filelist.grep(os.path.isdir)"
     ],
     "language": "python",
     "metadata": {},
     "outputs": [
      {
       "metadata": {},
       "output_type": "pyout",
       "prompt_number": 27,
       "text": [
        "['bashcode',\n",
        " 'c',\n",
        " 'cb',\n",
        " 'Desktop',\n",
        " 'eric project',\n",
        " 'include',\n",
        " 'ipy_varexp',\n",
        " 'Music',\n",
        " 'Pictures',\n",
        " 'pystudy',\n",
        " 'python3',\n",
        " 'pythoncode',\n",
        " 'Qt5.3.2',\n",
        " 'sip',\n",
        " 'testdir',\n",
        " 'xml',\n",
        " '\\xe5\\x85\\xac\\xe5\\x85\\xb1\\xe7\\x9a\\x84',\n",
        " '\\xe6\\xa8\\xa1\\xe6\\x9d\\xbf',\n",
        " '\\xe8\\xa7\\x86\\xe9\\xa2\\x91',\n",
        " '\\xe5\\x9b\\xbe\\xe7\\x89\\x87',\n",
        " '\\xe6\\x96\\x87\\xe6\\xa1\\xa3',\n",
        " '\\xe4\\xb8\\x8b\\xe8\\xbd\\xbd',\n",
        " '\\xe9\\x9f\\xb3\\xe4\\xb9\\x90',\n",
        " '\\xe6\\xa1\\x8c\\xe9\\x9d\\xa2']"
       ]
      }
     ],
     "prompt_number": 27
    },
    {
     "cell_type": "code",
     "collapsed": false,
     "input": [
      "filelist.grep(os.path.isfile)"
     ],
     "language": "python",
     "metadata": {},
     "outputs": [
      {
       "metadata": {},
       "output_type": "pyout",
       "prompt_number": 28,
       "text": [
        "['core',\n",
        " 'c.vim',\n",
        " 'destfile',\n",
        " 'ez_setup.py',\n",
        " 'Firefox_wallpaper.png',\n",
        " 'humnity.tar.gz',\n",
        " 'meego.tar.gz',\n",
        " 'netstat',\n",
        " 'nonexistfile',\n",
        " 'space_report.txt']"
       ]
      }
     ],
     "prompt_number": 28
    },
    {
     "cell_type": "heading",
     "level": 2,
     "metadata": {},
     "source": [
      "pysh profile"
     ]
    },
    {
     "cell_type": "raw",
     "metadata": {},
     "source": [
      "profile\u662f\u4e00\u4e2a\u7b80\u5355\u7684\u914d\u7f6e\u96c6\uff0c\u5728\u542f\u52a8IPython\u662f\u88ab\u52a0\u8f7d\u3002\u4f60\u53ef\u4ee5\u81ea\u5b9a\u4e49\u4e00\u4e9bprofile\u914d\u7f6e\u6587\u4ef6\uff0c\u8ba9IPython\u53ef\u4ee5\u6839\u636e\u4f1a\u8bdd\u7684\u9700\u8981\u6309\u4e0d\u540c\u7684\u65b9\u5f0f\u8fd0\u884c\u3002\u8981\u6fc0\u6d3b\u4e00\u4e2a\u7279\u5b9a\u7684profile\u914d\u7f6e\u6587\u4ef6\uff0c\u9700\u8981\u4f7f\u7528--profile\u547d\u4ee4\u884c\u9009\u9879\u5e76\u6267\u884c\u6240\u4f7f\u7528\u7684profile\u6587\u4ef6\u3002\n",
      "    pysh profile\u662fIPython\u5185\u5efa\u7684\u914d\u7f6e\u6587\u4ef6\u4e4b\u4e00\uff0c\u5176\u53ef\u4ee5\u4f7fIPython\u5728\u4f7f\u7528\u7cfb\u7edf\u8c03\u7528\u65f6\u66f4\u4e3a\u53cb\u597d\uff0cpysh Prifile\u4e0d\u4f46\u663e\u793a\u5f53\u524d\u76ee\u5f55\u800c\u4e14\u8fd8rehash\u4f60\u7684PATH\uff0c\u8fd9\u6837\u5c31\u53ef\u4ee5\u4e0e\u5728Bash\u4e2d\u4e00\u6837\uff0c\u7acb\u5373\u8bbf\u95ee\u6240\u6709\u53ef\u6267\u884c\u7a0b\u5e8f\u3002\n"
     ]
    },
    {
     "cell_type": "code",
     "collapsed": false,
     "input": [
      "import os\n",
      "os.environ[\"PATH\"]"
     ],
     "language": "python",
     "metadata": {},
     "outputs": [
      {
       "metadata": {},
       "output_type": "pyout",
       "prompt_number": 4,
       "text": [
        "'/home/whpuser/Qt5.3.2/5.3/gcc/bin:/usr/local/sbin:/usr/local/bin:/usr/sbin:/usr/bin:/sbin:/bin:/usr/games:/usr/local/games./appended'"
       ]
      }
     ],
     "prompt_number": 4
    },
    {
     "cell_type": "code",
     "collapsed": false,
     "input": [
      "os.environ['PATH']+=\"./appended\""
     ],
     "language": "python",
     "metadata": {},
     "outputs": [],
     "prompt_number": 3
    },
    {
     "cell_type": "code",
     "collapsed": false,
     "input": [],
     "language": "python",
     "metadata": {},
     "outputs": []
    }
   ],
   "metadata": {}
  }
 ]
}