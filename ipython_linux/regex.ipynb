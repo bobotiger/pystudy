{
 "metadata": {
  "name": ""
 },
 "nbformat": 3,
 "nbformat_minor": 0,
 "worksheets": [
  {
   "cells": [
    {
     "cell_type": "heading",
     "level": 1,
     "metadata": {},
     "source": [
      "\u6b63\u5219\u8868\u8fbe\u5f0f\u57fa\u7840"
     ]
    },
    {
     "cell_type": "markdown",
     "metadata": {},
     "source": [
      "\u5728python\u4e2d\u4f7f\u7528\u6b63\u5219\u8868\u8fbe\u5f0f\u7684\u65b9\u6cd5\u6709\u4e24\u79cd\uff0c\u4e00\u79cd\u662f\u76f4\u63a5\u4f7f\u7528re\u6a21\u5757\u65b9\u6cd5;\u53e6\u5916\u4e00\u79cd\u662f\u5148\u5c06\u6b63\u5219\u8868\u8fbe\u5f0f\u7f16\u8bd1\u6210\u6a21\u5f0f\u5bf9\u8c61\uff0c\u7136\u540e\u4f7f\u7528\u6a21\u5f0f\u5bf9\u8c61\u65b9\u6cd5\u3002"
     ]
    },
    {
     "cell_type": "heading",
     "level": 2,
     "metadata": {},
     "source": [
      "\u76f4\u63a5\u4f7f\u7528re\u6a21\u5757\u65b9\u6cd5"
     ]
    },
    {
     "cell_type": "markdown",
     "metadata": {},
     "source": [
      "\u5728python\u4e2d\u4f7f\u7528\u6b63\u5219\u8868\u8fbe\u5f0f\u65f6\u9700\u8981\u5bfc\u5165re\u6a21\u5757"
     ]
    },
    {
     "cell_type": "code",
     "collapsed": false,
     "input": [
      "import re"
     ],
     "language": "python",
     "metadata": {},
     "outputs": [],
     "prompt_number": 8
    },
    {
     "cell_type": "markdown",
     "metadata": {},
     "source": [
      "\u5b9a\u4e49\u9700\u8981\u5339\u914d\u7684\u6587\u672c\u4e32\u4ee5\u53ca\u6b63\u5219\u8868\u8fbe\u5f0f"
     ]
    },
    {
     "cell_type": "code",
     "collapsed": false,
     "input": [
      "text=\"220000|\u5409\u6797\u7701,310000|\u4e0a\u6d77\u5e02,320000|\u6c5f\u82cf\u7701,330000|\u6d59\u6c5f\u7701,\"\n",
      "regex=\"220000|330000\""
     ],
     "language": "python",
     "metadata": {
      "slideshow": {
       "slide_type": "-"
      }
     },
     "outputs": [],
     "prompt_number": 9
    },
    {
     "cell_type": "markdown",
     "metadata": {},
     "source": [
      "re\u6a21\u5757\u7684match\u65b9\u6cd5\u4ece\u9700\u8981\u5339\u914d\u7684\u6587\u672c\u4e32\u5f00\u5934\u4ee5\u6b63\u5219\u8868\u8fbe\u5f0f\u89c4\u5219\u5f00\u59cb\u5339\u914d\u3002"
     ]
    },
    {
     "cell_type": "code",
     "collapsed": false,
     "input": [
      "re.match(regex,text).group()"
     ],
     "language": "python",
     "metadata": {},
     "outputs": [
      {
       "metadata": {},
       "output_type": "pyout",
       "prompt_number": 10,
       "text": [
        "'220000'"
       ]
      }
     ],
     "prompt_number": 10
    },
    {
     "cell_type": "markdown",
     "metadata": {},
     "source": [
      "re\u6a21\u5757\u7684search\u65b9\u6cd5\u5728\u6574\u4e2a\u9700\u8981\u5339\u914d\u7684\u6587\u672c\u4e32\u4e2d\u4ee5\u6b63\u5219\u8868\u8fbe\u5f0f\u89c4\u5219\u8fdb\u884c\u5339\u914d\uff0c\u5339\u914d\u5230\u4e00\u4e2a\u5b57\u4e32\u5373\u505c\u6b62\u3002"
     ]
    },
    {
     "cell_type": "code",
     "collapsed": false,
     "input": [
      "re.search(regex,text).group()"
     ],
     "language": "python",
     "metadata": {},
     "outputs": [
      {
       "metadata": {},
       "output_type": "pyout",
       "prompt_number": 11,
       "text": [
        "'220000'"
       ]
      }
     ],
     "prompt_number": 11
    },
    {
     "cell_type": "markdown",
     "metadata": {},
     "source": [
      "re\u6a21\u5757\u7684findall\u65b9\u6cd5\u5728\u6574\u4e2a\u9700\u8981\u5339\u914d\u7684\u6587\u672c\u4f20\u4e2d\u4ee5\u6b63\u5219\u8868\u8fbe\u5f0f\u89c4\u5219\u5339\u914d\u51fa\u6240\u6709\u7b26\u5408\u8981\u6c42\u7684\u5b57\u4e32\u3002"
     ]
    },
    {
     "cell_type": "code",
     "collapsed": false,
     "input": [
      "print re.findall(regex,text)"
     ],
     "language": "python",
     "metadata": {},
     "outputs": [
      {
       "output_type": "stream",
       "stream": "stdout",
       "text": [
        "['220000', '330000']\n"
       ]
      }
     ],
     "prompt_number": 14
    },
    {
     "cell_type": "heading",
     "level": 2,
     "metadata": {},
     "source": [
      "\u4f7f\u7528\u6b63\u5219\u8868\u8fbe\u5f0f\u6a21\u5f0f\u5bf9\u8c61\u65b9\u6cd5"
     ]
    },
    {
     "cell_type": "markdown",
     "metadata": {},
     "source": [
      "\u5c06\u6b63\u5219\u8868\u8fbe\u5f0fregex\u7f16\u8bd1\u6210\u6a21\u5f0f\u5bf9\u8c61\uff0c\u5e76\u5c06\u5bf9\u8c61\u5f15\u7528\u8d4b\u503c\u7ed9\u53d8\u91cfpattern\u3002"
     ]
    },
    {
     "cell_type": "code",
     "collapsed": false,
     "input": [
      "pattern = re.compile(regex)"
     ],
     "language": "python",
     "metadata": {},
     "outputs": [],
     "prompt_number": 15
    },
    {
     "cell_type": "markdown",
     "metadata": {},
     "source": [
      "\u4f7f\u7528\u6a21\u5f0f\u5bf9\u8c61\u65b9\u6cd5\u8fdb\u884c\u6b63\u5219\u8868\u8fbe\u5f0f\u5339\u914d"
     ]
    },
    {
     "cell_type": "code",
     "collapsed": false,
     "input": [
      "pattern.match(text).group()"
     ],
     "language": "python",
     "metadata": {},
     "outputs": [
      {
       "metadata": {},
       "output_type": "pyout",
       "prompt_number": 17,
       "text": [
        "'220000'"
       ]
      }
     ],
     "prompt_number": 17
    },
    {
     "cell_type": "code",
     "collapsed": false,
     "input": [
      "pattern.search(text).group()"
     ],
     "language": "python",
     "metadata": {},
     "outputs": [
      {
       "metadata": {},
       "output_type": "pyout",
       "prompt_number": 18,
       "text": [
        "'220000'"
       ]
      }
     ],
     "prompt_number": 18
    },
    {
     "cell_type": "code",
     "collapsed": false,
     "input": [
      "print pattern.findall(text)"
     ],
     "language": "python",
     "metadata": {},
     "outputs": [
      {
       "output_type": "stream",
       "stream": "stdout",
       "text": [
        "['220000', '330000']\n"
       ]
      }
     ],
     "prompt_number": 19
    },
    {
     "cell_type": "heading",
     "level": 2,
     "metadata": {},
     "source": [
      "\u6b63\u5219\u8868\u8fbe\u5f0f\u4e2d\u7684\u7279\u6b8a\u7b26\u53f7\u548c\u5b57\u7b26"
     ]
    },
    {
     "cell_type": "heading",
     "level": 3,
     "metadata": {},
     "source": [
      "1. \u2018|\u2019\uff1a\u6216"
     ]
    },
    {
     "cell_type": "markdown",
     "metadata": {},
     "source": [
      "\u2018|\u2019\u5728\u6b63\u5219\u8868\u8fbe\u5f0f\u4e2d\u7528\u6765\u5c06\u591a\u79cd\u53ef\u80fd\u7684\u5339\u914d\u6a21\u5f0f\u8fdb\u884c\u5206\u9694\uff0c\u8d77\u5230\u201c\u6216\u201d\u7684\u4f5c\u7528\u3002"
     ]
    },
    {
     "cell_type": "code",
     "collapsed": false,
     "input": [
      "regex='bat|bit|bet'\n",
      "text='I bet it takes quite a bit of time to catch a bat.'\n",
      "print re.compile(regex).findall(text)"
     ],
     "language": "python",
     "metadata": {},
     "outputs": [
      {
       "output_type": "stream",
       "stream": "stdout",
       "text": [
        "['bet', 'bit', 'bat']\n"
       ]
      }
     ],
     "prompt_number": 20
    },
    {
     "cell_type": "heading",
     "level": 3,
     "metadata": {},
     "source": [
      "2. \u2018.\u2019\uff1a\u7528\u6765\u66ff\u6362\u4efb\u610f\u4e00\u4e2a\u5b57\u7b26\uff0c\u9664\u4e86\u201c\\n\u201d"
     ]
    },
    {
     "cell_type": "code",
     "collapsed": false,
     "input": [
      "regex='b.t'\n",
      "text='I bet it takes quite a bit of time to catch a bat.'\n",
      "print re.compile(regex).findall(text)"
     ],
     "language": "python",
     "metadata": {},
     "outputs": [
      {
       "output_type": "stream",
       "stream": "stdout",
       "text": [
        "['bet', 'bit', 'bat']\n"
       ]
      }
     ],
     "prompt_number": 21
    },
    {
     "cell_type": "heading",
     "level": 3,
     "metadata": {},
     "source": [
      "3. '^' \uff1a\u4ece\u9700\u8981\u5339\u914d\u5b57\u7b26\u4e32\u5f00\u5934\u8fdb\u884c\u5339\u914d"
     ]
    },
    {
     "cell_type": "markdown",
     "metadata": {},
     "source": [
      "textfile\u6587\u4ef6\u5305\u542b4\u884c\u6587\u672c\u5185\u5bb9\uff0c\u4e0b\u9762\u5c06\u4ee5textfile\u4e3a\u57fa\u7840\u8fdb\u884c\u6b63\u5219\u8868\u8fbe\u5f0f\u6a21\u5f0f\u5339\u914d"
     ]
    },
    {
     "cell_type": "code",
     "collapsed": false,
     "input": [
      "!cat textfile"
     ],
     "language": "python",
     "metadata": {},
     "outputs": [
      {
       "output_type": "stream",
       "stream": "stdout",
       "text": [
        "bat\r\n",
        "beat\r\n",
        "deal\r\n",
        "dog\r\n"
       ]
      }
     ],
     "prompt_number": 22
    },
    {
     "cell_type": "markdown",
     "metadata": {},
     "source": [
      "\u5339\u914dtextfile\u6587\u4ef6\u5185\u5bb9\u4e2d\u6240\u6709\u4ee5\u2018d\u2019\u5f00\u5934\u7684\u884c"
     ]
    },
    {
     "cell_type": "code",
     "collapsed": false,
     "input": [
      "regex=\"^d.*\"\n",
      "f = open(\"textfile\",'r')\n",
      "for eachLine in f:\n",
      "    print re.compile(regex).findall(eachLine)"
     ],
     "language": "python",
     "metadata": {},
     "outputs": [
      {
       "output_type": "stream",
       "stream": "stdout",
       "text": [
        "[]\n",
        "[]\n",
        "['deal']\n",
        "['dog']\n"
       ]
      }
     ],
     "prompt_number": 23
    },
    {
     "cell_type": "heading",
     "level": 3,
     "metadata": {},
     "source": [
      "4. '$' \uff1a \u4ece\u9700\u8981\u5339\u914d\u7684\u5b57\u7b26\u4e32\u7684\u5c3e\u90e8\u8fdb\u884c\u5339\u914d"
     ]
    },
    {
     "cell_type": "markdown",
     "metadata": {},
     "source": [
      "\u5339\u914dtextfile\u6587\u4ef6\u5185\u5bb9\u4e2d\u6240\u6709\u4ee5\u2018t\u2019\u7ed3\u5c3e\u7684\u884c"
     ]
    },
    {
     "cell_type": "code",
     "collapsed": false,
     "input": [
      "regex=\".*t$\"\n",
      "f = open(\"textfile\",'r')\n",
      "for eachLine in f:\n",
      "    print re.compile(regex).findall(eachLine)"
     ],
     "language": "python",
     "metadata": {},
     "outputs": [
      {
       "output_type": "stream",
       "stream": "stdout",
       "text": [
        "['bat']\n",
        "['beat']\n",
        "[]\n",
        "[]\n"
       ]
      }
     ],
     "prompt_number": 24
    },
    {
     "cell_type": "heading",
     "level": 3,
     "metadata": {},
     "source": [
      "5. \u7528\u6765\u63cf\u8ff0\u5339\u914d\u6a21\u5f0f\u91cd\u590d\u6b21\u6570\u7684\u7b26\u53f7"
     ]
    },
    {
     "cell_type": "heading",
     "level": 4,
     "metadata": {},
     "source": [
      "\u2018*\u2019 \uff1a \u5176\u524d\u5339\u914d\u6a21\u5f0f\u91cd\u590d0\u6b21\u6216\u591a\u6b21"
     ]
    },
    {
     "cell_type": "code",
     "collapsed": false,
     "input": [
      "text=\"The google is a good name,but the goooogle, gogle or ggle is a bad name.\"\n",
      "regex='go*gle'\n",
      "print re.compile(regex).findall(text)"
     ],
     "language": "python",
     "metadata": {},
     "outputs": [
      {
       "output_type": "stream",
       "stream": "stdout",
       "text": [
        "['google', 'goooogle', 'gogle', 'ggle']\n"
       ]
      }
     ],
     "prompt_number": 43
    },
    {
     "cell_type": "heading",
     "level": 4,
     "metadata": {},
     "source": [
      "\u2018+\u2019 \uff1a \u5176\u524d\u5339\u914d\u6a21\u5f0f\u91cd\u590d1\u6b21\u6216\u591a\u6b21"
     ]
    },
    {
     "cell_type": "code",
     "collapsed": false,
     "input": [
      "text=\"The google is a good name,but the goooogle, gogle or ggle is a bad name.\"\n",
      "regex='go+gle'\n",
      "print re.compile(regex).findall(text)"
     ],
     "language": "python",
     "metadata": {},
     "outputs": [
      {
       "output_type": "stream",
       "stream": "stdout",
       "text": [
        "['google', 'goooogle', 'gogle']\n"
       ]
      }
     ],
     "prompt_number": 33
    },
    {
     "cell_type": "heading",
     "level": 4,
     "metadata": {},
     "source": [
      "\u2018?\u2019 \uff1a \u5176\u524d\u5339\u914d\u6a21\u5f0f\u91cd\u590d1\u6b21\u6216\u591a\u6b21"
     ]
    },
    {
     "cell_type": "code",
     "collapsed": false,
     "input": [
      "text=\"The google is a good name,but the goooogle, gogle or ggle is a bad name.\"\n",
      "regex='go?gle'\n",
      "print re.compile(regex).findall(text)"
     ],
     "language": "python",
     "metadata": {},
     "outputs": [
      {
       "output_type": "stream",
       "stream": "stdout",
       "text": [
        "['gogle', 'ggle']\n"
       ]
      }
     ],
     "prompt_number": 32
    },
    {
     "cell_type": "heading",
     "level": 4,
     "metadata": {},
     "source": [
      "\u201c{N}\u201d \uff1a\u5176\u524d\u5339\u914d\u6a21\u5f0f\u91cd\u590dN\u6b21"
     ]
    },
    {
     "cell_type": "code",
     "collapsed": false,
     "input": [
      "text=\"The google is a good name,but the goooogle, gogle or ggle is a bad name.\"\n",
      "regex='go{4}gle'\n",
      "print re.compile(regex).findall(text)"
     ],
     "language": "python",
     "metadata": {},
     "outputs": [
      {
       "output_type": "stream",
       "stream": "stdout",
       "text": [
        "['goooogle']\n"
       ]
      }
     ],
     "prompt_number": 28
    },
    {
     "cell_type": "heading",
     "level": 4,
     "metadata": {},
     "source": [
      "\u201c{N,M}\u201d \uff1a\u5176\u524d\u5339\u914d\u6a21\u5f0f\u81f3\u5c11\u91cd\u590dN\u6b21\uff0c\u6700\u591a\u91cd\u590dM\u6b21"
     ]
    },
    {
     "cell_type": "code",
     "collapsed": false,
     "input": [
      "text=\"The google is a good name,but the goooogle, gogle or ggle is a bad name.\"\n",
      "regex='go{1,2}gle'\n",
      "print re.compile(regex).findall(text)"
     ],
     "language": "python",
     "metadata": {},
     "outputs": [
      {
       "output_type": "stream",
       "stream": "stdout",
       "text": [
        "['google', 'gogle']\n"
       ]
      }
     ],
     "prompt_number": 29
    },
    {
     "cell_type": "heading",
     "level": 3,
     "metadata": {},
     "source": [
      "6. [...] \uff1a\u7528\u6765\u63cf\u8ff0\u4e00\u4e2a\u5b57\u7b26\u96c6\u5408\uff0c\u5339\u914d\u65f6\u53ea\u80fd\u5339\u914d\u5176\u4e2d\u4e00\u4e2a\u5b57\u7b26"
     ]
    },
    {
     "cell_type": "code",
     "collapsed": false,
     "input": [
      "text=\"The google is a good name,but the goooogle, gogle or ggle is a bad name.\"\n",
      "regex='b[ua][td]'\n",
      "print re.compile(regex).findall(text)"
     ],
     "language": "python",
     "metadata": {},
     "outputs": [
      {
       "output_type": "stream",
       "stream": "stdout",
       "text": [
        "['but', 'bad']\n"
       ]
      }
     ],
     "prompt_number": 31
    },
    {
     "cell_type": "heading",
     "level": 3,
     "metadata": {},
     "source": [
      "7. [x-y] \uff1a \u4ee5\u5b57\u7b26\u533a\u95f4\u6765\u63cf\u8ff0\u4e00\u4e2a\u5b57\u7b26\u96c6\u5408\uff0c\u5339\u914d\u65f6\u53ea\u80fd\u5339\u914d\u5176\u4e2d\u4e00\u4e2a\u5b57\u7b26"
     ]
    },
    {
     "cell_type": "code",
     "collapsed": false,
     "input": [
      "text=\"The google is a good name,but the goooogle, gogle or ggle is a bad name.\"\n",
      "regex='[a-zA-Z][a-z][a-z]'\n",
      "print re.compile(regex).findall(text)"
     ],
     "language": "python",
     "metadata": {},
     "outputs": [
      {
       "output_type": "stream",
       "stream": "stdout",
       "text": [
        "['The', 'goo', 'gle', 'goo', 'nam', 'but', 'the', 'goo', 'oog', 'gog', 'ggl', 'bad', 'nam']\n"
       ]
      }
     ],
     "prompt_number": 35
    },
    {
     "cell_type": "heading",
     "level": 3,
     "metadata": {},
     "source": [
      "8. [^...] \uff1a \u5728\u65b9\u62ec\u53f7\u4e2d\u7684'^'\u4e0e\u5728\u65b9\u62ec\u53f7\u5916\u9762\u7684\u610f\u4e49\u4e0d\u540c\uff0c\u8fd9\u91cc\u8868\u793a\u2018\u53cd\u2019\u7684\u610f\u601d\uff0c\u5373\u8868\u793a\u5339\u914d\u9664\u65b9\u62ec\u53f7\u5185\u4ee5\u5916\u7684\u5b57\u7b26"
     ]
    },
    {
     "cell_type": "code",
     "collapsed": false,
     "input": [
      "text=\"I bet it takes quite a bit of time to catch a bat\"\n",
      "regex='b[^e]t'\n",
      "print re.compile(regex).findall(text)"
     ],
     "language": "python",
     "metadata": {},
     "outputs": [
      {
       "output_type": "stream",
       "stream": "stdout",
       "text": [
        "['bit', 'bat']\n"
       ]
      }
     ],
     "prompt_number": 36
    },
    {
     "cell_type": "heading",
     "level": 3,
     "metadata": {},
     "source": [
      "9. (*|+|?|{})? \uff1a \u4ee5\u975e\u8d2a\u5a6a\u6a21\u5f0f\u8fdb\u884c\u91cd\u590d"
     ]
    },
    {
     "cell_type": "code",
     "collapsed": false,
     "input": [
      "text=\"220000|\u5409\u6797\u7701,310000|\u4e0a\u6d77\u5e02,320000|\u6c5f\u82cf\u7701,330000|\u6d59\u6c5f\u7701,\"\n",
      "regex='310000\\|(.*?),'\n",
      "results = re.compile(regex).findall(text)\n",
      "for result in results:\n",
      "    print result"
     ],
     "language": "python",
     "metadata": {},
     "outputs": [
      {
       "output_type": "stream",
       "stream": "stdout",
       "text": [
        "\u4e0a\u6d77\u5e02\n"
       ]
      }
     ],
     "prompt_number": 40
    },
    {
     "cell_type": "markdown",
     "metadata": {},
     "source": [
      "\u6b63\u5219\u8868\u8fbe\u5f0f\u201c310000\\|(.*?),\u201d\u7684\u5339\u914d\u89c4\u5219\u662f\u5728text\u4e2d\u67e5\u627e\u4ee5\u201c310000|\u201d\u5f00\u5934\uff0c\u4ee5\u2018\uff0c\u2019\u7ed3\u5c3e\u4e4b\u95f4\u7684\u4efb\u610f\u5b57\u7b26\u3002\"(.*?)\"\u8868\u793a\u4ee5\u975e\u8d2a\u5a6a\u6a21\u5f0f\u5339\u914d\u5230\u7684\u4efb\u610f\u5b57\u7b26\u3002\u56e0\u6b64\u8fd4\u56de\u7b26\u5408\u6b64\u6a21\u5f0f\u6700\u77ed\u7684\u5f62\u5f0f\uff1a\u201c\u4e0a\u6d77\u5e02\u201d\uff0c\u5982\u679c\u4ee5\u8d2a\u5a6a\u6a21\u5f0f\uff0c\u5219\u4f1a\u83b7\u5f97\u4ee5\u4e0b\u7ed3\u679c\uff0c\u5c06\u8fd4\u56de\u7b26\u5408\u6b21\u6a21\u5f0f\u6700\u957f\u7684\u5f62\u5f0f\uff1a\u201c\u4e0a\u6d77\u5e02,320000|\u6c5f\u82cf\u7701,330000|\u6d59\u6c5f\u7701\u201c"
     ]
    },
    {
     "cell_type": "code",
     "collapsed": false,
     "input": [
      "text=\"220000|\u5409\u6797\u7701,310000|\u4e0a\u6d77\u5e02,320000|\u6c5f\u82cf\u7701,330000|\u6d59\u6c5f\u7701,\"\n",
      "regex='310000\\|(.*),'\n",
      "results = re.compile(regex).findall(text)\n",
      "for result in results:\n",
      "    print result"
     ],
     "language": "python",
     "metadata": {},
     "outputs": [
      {
       "output_type": "stream",
       "stream": "stdout",
       "text": [
        "\u4e0a\u6d77\u5e02,320000|\u6c5f\u82cf\u7701,330000|\u6d59\u6c5f\u7701\n"
       ]
      }
     ],
     "prompt_number": 41
    },
    {
     "cell_type": "heading",
     "level": 3,
     "metadata": {},
     "source": [
      "10. (...) \uff1a \u5339\u914d\u7ed3\u679c\u5c06\u8fd4\u56de\u4e0e\u5706\u62ec\u53f7\u4e2d\u6b63\u5219\u8868\u8fbe\u5f0f\u5339\u914d\u7684\u5b57\u7b26\u4e32\u96c6\u3002"
     ]
    },
    {
     "cell_type": "code",
     "collapsed": false,
     "input": [
      "text = \"220000|\u5409\u6797\u7701,310000|\u4e0a\u6d77\u5e02,320000|\u6c5f\u82cf\u7701,330000|\u6d59\u6c5f\u7701,\"\n",
      "regex = \"\\|(.*?),\"\n",
      "results = re.compile(regex).findall(text)\n",
      "for result in results:\n",
      "    print result"
     ],
     "language": "python",
     "metadata": {},
     "outputs": [
      {
       "output_type": "stream",
       "stream": "stdout",
       "text": [
        "\u5409\u6797\u7701\n",
        "\u4e0a\u6d77\u5e02\n",
        "\u6c5f\u82cf\u7701\n",
        "\u6d59\u6c5f\u7701\n"
       ]
      }
     ],
     "prompt_number": 42
    },
    {
     "cell_type": "heading",
     "level": 3,
     "metadata": {},
     "source": [
      "11. \u6b63\u5219\u8868\u8fbe\u5f0f\u4e2d\u7684\u7279\u6b8a\u5b57\u7b26"
     ]
    },
    {
     "cell_type": "heading",
     "level": 4,
     "metadata": {},
     "source": [
      "'\\d'\uff1a\u7b49\u4ef7\u4e8e[0-9]; '\\D'\uff1a\u7b49\u4ef7\u4e8e[^0-9]"
     ]
    },
    {
     "cell_type": "code",
     "collapsed": false,
     "input": [
      "text = \"file1.py,files.py\"\n",
      "regex = \"file\\d\\.py\"\n",
      "print re.compile(regex).findall(text)"
     ],
     "language": "python",
     "metadata": {},
     "outputs": [
      {
       "output_type": "stream",
       "stream": "stdout",
       "text": [
        "['file1.py']\n"
       ]
      }
     ],
     "prompt_number": 44
    },
    {
     "cell_type": "code",
     "collapsed": false,
     "input": [
      "text = \"file1.py,files.py\"\n",
      "regex = \"file\\D\\.py\"\n",
      "print re.compile(regex).findall(text)"
     ],
     "language": "python",
     "metadata": {},
     "outputs": [
      {
       "output_type": "stream",
       "stream": "stdout",
       "text": [
        "['files.py']\n"
       ]
      }
     ],
     "prompt_number": 45
    },
    {
     "cell_type": "heading",
     "level": 4,
     "metadata": {},
     "source": [
      "'\\w' \uff1a\u7b49\u4ef7\u4e8e[a-zA-Z0-9\\_]; '\\W'\uff1a\u7b49\u4ef7\u4e8e[^a-zA-Z0-9\\_]"
     ]
    },
    {
     "cell_type": "code",
     "collapsed": false,
     "input": [
      "text = \"file1.py,files.py,file_.py,file$.py\"\n",
      "regex = \"file\\w\\.py\"\n",
      "print re.compile(regex).findall(text)"
     ],
     "language": "python",
     "metadata": {},
     "outputs": [
      {
       "output_type": "stream",
       "stream": "stdout",
       "text": [
        "['file1.py', 'files.py', 'file_.py']\n"
       ]
      }
     ],
     "prompt_number": 46
    },
    {
     "cell_type": "code",
     "collapsed": false,
     "input": [
      "text = \"file1.py,files.py,file_.py,file$.py\"\n",
      "regex = \"file\\W\\.py\"\n",
      "print re.compile(regex).findall(text)"
     ],
     "language": "python",
     "metadata": {},
     "outputs": [
      {
       "output_type": "stream",
       "stream": "stdout",
       "text": [
        "['file$.py']\n"
       ]
      }
     ],
     "prompt_number": 47
    },
    {
     "cell_type": "heading",
     "level": 4,
     "metadata": {},
     "source": [
      "'\\s'\uff1a\u7b49\u4ef7\u4e8e[\\n\\t\\r\\v\\f]; '\\S'\uff1a\u7b49\u4ef7\u4e8e[^\\n\\t\\r\\v\\f]"
     ]
    },
    {
     "cell_type": "markdown",
     "metadata": {},
     "source": [
      "\u6267\u884cwho\u547d\u4ee4"
     ]
    },
    {
     "cell_type": "code",
     "collapsed": false,
     "input": [
      "!who"
     ],
     "language": "python",
     "metadata": {},
     "outputs": [
      {
       "output_type": "stream",
       "stream": "stdout",
       "text": [
        "whpuser  :0           2015-02-11 21:41 (:0)\r\n",
        "whpuser  pts/0        2015-02-11 21:42 (:0)\r\n",
        "whpuser  pts/10       2015-02-17 13:37 (192.168.153.1)\r\n",
        "whpuser  pts/12       2015-02-17 14:14 (192.168.153.1)\r\n",
        "whpuser  pts/9        2015-02-16 23:41 (:0)\r\n"
       ]
      }
     ],
     "prompt_number": 48
    },
    {
     "cell_type": "markdown",
     "metadata": {},
     "source": [
      "\u5c06who\u547d\u4ee4\u7684\u8f93\u51fa\u91cd\u5b9a\u5411\u5230\u201d/home/whpuser/pythoncode/whooutput\u201c\u4e2d\uff1a"
     ]
    },
    {
     "cell_type": "code",
     "collapsed": false,
     "input": [
      "!who > /home/whpuser/pythoncode/whooutput"
     ],
     "language": "python",
     "metadata": {},
     "outputs": [],
     "prompt_number": 54
    },
    {
     "cell_type": "markdown",
     "metadata": {},
     "source": [
      "\u663e\u793awhooutput\u6587\u4ef6\u4e2d\u7684\u5185\u5bb9"
     ]
    },
    {
     "cell_type": "code",
     "collapsed": false,
     "input": [
      "!cat whooutput"
     ],
     "language": "python",
     "metadata": {},
     "outputs": [
      {
       "output_type": "stream",
       "stream": "stdout",
       "text": [
        "whpuser  :0           2015-02-11 21:41 (:0)\r\n",
        "whpuser  pts/0        2015-02-11 21:42 (:0)\r\n",
        "whpuser  pts/10       2015-02-17 13:37 (192.168.153.1)\r\n",
        "whpuser  pts/12       2015-02-17 14:14 (192.168.153.1)\r\n",
        "whpuser  pts/9        2015-02-16 23:41 (:0)\r\n"
       ]
      }
     ],
     "prompt_number": 56
    },
    {
     "cell_type": "markdown",
     "metadata": {},
     "source": [
      "\u5c06\u6587\u4ef6whooutput\u6587\u4ef6\u4e2d\u7684\u6bcf\u4e00\u884c\u4ee52\u4e2a\u4ee5\u4e0a\u7a7a\u767d\u7b26\u8fdb\u884c\u5206\u5272\uff1a"
     ]
    },
    {
     "cell_type": "code",
     "collapsed": false,
     "input": [
      "f = open('whooutput','r')\n",
      "for eachLine in f:\n",
      "    print re.split('\\s\\s+',eachLine)"
     ],
     "language": "python",
     "metadata": {},
     "outputs": [
      {
       "output_type": "stream",
       "stream": "stdout",
       "text": [
        "['whpuser', ':0', '2015-02-11 21:41 (:0)\\n']\n",
        "['whpuser', 'pts/0', '2015-02-11 21:42 (:0)\\n']\n",
        "['whpuser', 'pts/10', '2015-02-17 13:37 (192.168.153.1)\\n']\n",
        "['whpuser', 'pts/12', '2015-02-17 14:14 (192.168.153.1)\\n']\n",
        "['whpuser', 'pts/9', '2015-02-16 23:41 (:0)\\n']\n"
       ]
      }
     ],
     "prompt_number": 60
    },
    {
     "cell_type": "heading",
     "level": 3,
     "metadata": {},
     "source": [
      "12. (?...) \uff1a\u63d0\u95ee\u6807\u8bc6\u7b26"
     ]
    },
    {
     "cell_type": "markdown",
     "metadata": {},
     "source": []
    },
    {
     "cell_type": "code",
     "collapsed": false,
     "input": [],
     "language": "python",
     "metadata": {},
     "outputs": []
    },
    {
     "cell_type": "heading",
     "level": 2,
     "metadata": {},
     "source": [
      "re\u6a21\u5757\u7684\u6838\u5fc3\u51fd\u6570\u53ca\u65b9\u6cd5"
     ]
    },
    {
     "cell_type": "heading",
     "level": 3,
     "metadata": {},
     "source": [
      "\u4ec5\u80fd\u4f5c\u4e3are\u6a21\u5757\u51fd\u6570\u4f7f\u7528"
     ]
    },
    {
     "cell_type": "heading",
     "level": 4,
     "metadata": {},
     "source": [
      "compile(pattern,flag=0) "
     ]
    },
    {
     "cell_type": "markdown",
     "metadata": {},
     "source": [
      "compile\u51fd\u6570\u7528\u6765\u5c06pattern\u6307\u5b9a\u7684\u6b63\u5219\u8868\u8fbe\u5f0f\u7f16\u8bd1\u4e3a\u6a21\u5f0f\u5bf9\u8c61\u3002"
     ]
    },
    {
     "cell_type": "heading",
     "level": 3,
     "metadata": {},
     "source": [
      "\u65e2\u53ef\u4f5c\u4e3are\u6a21\u5757\u51fd\u6570\u4f7f\u7528\uff0c\u4e5f\u53ef\u4f5c\u4e3a\u6a21\u5f0f\u5bf9\u8c61\u65b9\u6cd5\u4f7f\u7528"
     ]
    },
    {
     "cell_type": "heading",
     "level": 4,
     "metadata": {},
     "source": [
      "match(...)"
     ]
    },
    {
     "cell_type": "markdown",
     "metadata": {},
     "source": [
      "match\u51fd\u6570\u5c1d\u8bd5\u4ecestring\u5f00\u5934\u5339\u914dpattern\u6307\u5b9a\u7684\u6b63\u5219\u8868\u8fbe\u5f0f\u89c4\u5219\uff0c\u5982\u679c\u5339\u914d\u6210\u529f\u5219\u8fd4\u56de\u5339\u914d\u5bf9\u8c61\uff0c\u5982\u679c\u5931\u8d25\u8fd4\u56deNone\u3002"
     ]
    },
    {
     "cell_type": "code",
     "collapsed": false,
     "input": [
      "import re\n",
      "help(re.match)"
     ],
     "language": "python",
     "metadata": {},
     "outputs": [
      {
       "output_type": "stream",
       "stream": "stdout",
       "text": [
        "Help on function match in module re:\n",
        "\n",
        "match(pattern, string, flags=0)\n",
        "    Try to apply the pattern at the start of the string, returning\n",
        "    a match object, or None if no match was found.\n",
        "\n"
       ]
      }
     ],
     "prompt_number": 4
    },
    {
     "cell_type": "code",
     "collapsed": false,
     "input": [
      "import re\n",
      "regex=\"you\"\n",
      "text1=\"I love you!\"\n",
      "text2=\"you love me?\"\n",
      "m1 = re.match(regex,text1)\n",
      "m2 = re.match(regex,text2)\n",
      "if m1 is not None:\n",
      "    print m1.group() #\u7531\u4e8ematch\u662f\u4ecetext1\u7684\u5f00\u5934\u8fdb\u884c\u5339\u914d\uff0c\u56e0\u6b64\u5339\u914d\u5931\u8d25\n",
      "if m2 is not None:\n",
      "    print m2.group()"
     ],
     "language": "python",
     "metadata": {},
     "outputs": [
      {
       "output_type": "stream",
       "stream": "stdout",
       "text": [
        "you\n"
       ]
      }
     ],
     "prompt_number": 34
    },
    {
     "cell_type": "heading",
     "level": 4,
     "metadata": {},
     "source": [
      "search(...)"
     ]
    },
    {
     "cell_type": "markdown",
     "metadata": {},
     "source": [
      "search\u51fd\u6570\u5728string\u4e2d\u5339\u914dpattern\u6307\u5b9a\u7684\u6b63\u5219\u8868\u8fbe\u89c4\u5219\uff0c\u5c06\u7b2c\u4e00\u4e2a\u5339\u914d\u5230\u7684\u5bf9\u8c61\u8fd4\u56de\uff0c\u5982\u679c\u5931\u8d25\u8fd4\u56deNone"
     ]
    },
    {
     "cell_type": "code",
     "collapsed": false,
     "input": [
      "help(re.search)"
     ],
     "language": "python",
     "metadata": {},
     "outputs": [
      {
       "output_type": "stream",
       "stream": "stdout",
       "text": [
        "Help on function search in module re:\n",
        "\n",
        "search(pattern, string, flags=0)\n",
        "    Scan through string looking for a match to the pattern, returning\n",
        "    a match object, or None if no match was found.\n",
        "\n"
       ]
      }
     ],
     "prompt_number": 5
    },
    {
     "cell_type": "code",
     "collapsed": false,
     "input": [
      "import re\n",
      "regex=\"you\"\n",
      "text1=\"I love you\uff0cbut you don't love me!\"\n",
      "text2=\"you love me?\"\n",
      "m1 = re.search(regex,text1)\n",
      "m2 = re.search(regex,text2)\n",
      "if m1 is not None:\n",
      "    print m1.group() #\u5339\u914d\u5230\u4e00\u4e2a\u5373\u505c\u6b62\uff0c\u56e0\u6b64\u53ea\u8fd4\u56de\u4e00\u4e2a\u201cyou\u201d \n",
      "if m2 is not None:\n",
      "    print m2.group()"
     ],
     "language": "python",
     "metadata": {},
     "outputs": [
      {
       "output_type": "stream",
       "stream": "stdout",
       "text": [
        "you\n",
        "you\n"
       ]
      }
     ],
     "prompt_number": 36
    },
    {
     "cell_type": "heading",
     "level": 4,
     "metadata": {},
     "source": [
      "findall(...)"
     ]
    },
    {
     "cell_type": "markdown",
     "metadata": {},
     "source": [
      "findall\u51fd\u6570\u5c06\u67e5\u627estring\u4e2d\u6240\u6709\u4e0epattern\u89c4\u5219\u5339\u914d\u7684\u5185\u5bb9\uff0c\u8fd4\u56de\u4e00\u4e2a\u5339\u914d\u5b57\u7b26\u4e32\u5217\u8868"
     ]
    },
    {
     "cell_type": "code",
     "collapsed": false,
     "input": [
      "help(re.findall)"
     ],
     "language": "python",
     "metadata": {},
     "outputs": [
      {
       "output_type": "stream",
       "stream": "stdout",
       "text": [
        "Help on function findall in module re:\n",
        "\n",
        "findall(pattern, string, flags=0)\n",
        "    Return a list of all non-overlapping matches in the string.\n",
        "    \n",
        "    If one or more groups are present in the pattern, return a\n",
        "    list of groups; this will be a list of tuples if the pattern\n",
        "    has more than one group.\n",
        "    \n",
        "    Empty matches are included in the result.\n",
        "\n"
       ]
      }
     ],
     "prompt_number": 6
    },
    {
     "cell_type": "code",
     "collapsed": false,
     "input": [
      "import re\n",
      "regex=\"you\"\n",
      "text=\"I love you\uff0cbut you don't love me!\"\n",
      "m = re.findall(regex,text)\n",
      "print m"
     ],
     "language": "python",
     "metadata": {},
     "outputs": [
      {
       "output_type": "stream",
       "stream": "stdout",
       "text": [
        "['you', 'you']\n"
       ]
      }
     ],
     "prompt_number": 42
    },
    {
     "cell_type": "heading",
     "level": 4,
     "metadata": {},
     "source": [
      "finditer(...)"
     ]
    },
    {
     "cell_type": "markdown",
     "metadata": {},
     "source": [
      "finditer\u51fd\u6570\u662ffindall\u7684\u529f\u80fd\u51e0\u4e4e\u7b49\u4ef7\uff0c\u53ea\u4e0d\u8fc7\u5176\u5339\u914d\u6210\u529f\u8fd4\u56de\u7684\u662f\u4e00\u4e2a\u8fed\u4ee3\u5668\uff0c\u800c\u4e0d\u662f\u5339\u914d\u5b57\u7b26\u4e32\u5217\u8868\u3002"
     ]
    },
    {
     "cell_type": "code",
     "collapsed": false,
     "input": [
      "help(re.finditer)"
     ],
     "language": "python",
     "metadata": {},
     "outputs": [
      {
       "output_type": "stream",
       "stream": "stdout",
       "text": [
        "Help on function finditer in module re:\n",
        "\n",
        "finditer(pattern, string, flags=0)\n",
        "    Return an iterator over all non-overlapping matches in the\n",
        "    string.  For each match, the iterator returns a match object.\n",
        "    \n",
        "    Empty matches are included in the result.\n",
        "\n"
       ]
      }
     ],
     "prompt_number": 7
    },
    {
     "cell_type": "code",
     "collapsed": false,
     "input": [
      "import re\n",
      "regex=\"(th\\w+) and (th\\w+)\"\n",
      "text=\"this and that\"\n",
      "print re.findall(regex,text)\n",
      "print re.finditer(regex,text)\n",
      "print re.finditer(regex,text).next()"
     ],
     "language": "python",
     "metadata": {},
     "outputs": [
      {
       "output_type": "stream",
       "stream": "stdout",
       "text": [
        "[('this', 'that')]\n",
        "<callable-iterator object at 0xb4c3a7ec>\n",
        "<_sre.SRE_Match object at 0xb4c6dec0>\n"
       ]
      }
     ],
     "prompt_number": 60
    },
    {
     "cell_type": "code",
     "collapsed": false,
     "input": [
      "import re\n",
      "regex=\"(th\\w+)\"\n",
      "text=\"this and that\"\n",
      "print re.findall(regex,text)\n",
      "it = re.finditer(regex,text)\n",
      "g = it.next()\n",
      "print g.groups()\n",
      "g = it.next()\n",
      "print g.groups()"
     ],
     "language": "python",
     "metadata": {},
     "outputs": [
      {
       "output_type": "stream",
       "stream": "stdout",
       "text": [
        "['this', 'that']\n",
        "('this',)\n",
        "('that',)\n"
       ]
      }
     ],
     "prompt_number": 59
    },
    {
     "cell_type": "heading",
     "level": 4,
     "metadata": {},
     "source": [
      "split(...)"
     ]
    },
    {
     "cell_type": "markdown",
     "metadata": {},
     "source": [
      "split\u51fd\u6570\u4f9d\u636e\u6b63\u5219\u8868\u8fbe\u5f0f\u89c4\u5219\uff0c\u5c06\u5b57\u7b26\u4e32\u5206\u5272\u6210\u4e00\u4e2a\u5217\u8868\u3002"
     ]
    },
    {
     "cell_type": "code",
     "collapsed": false,
     "input": [
      "help(re.split)"
     ],
     "language": "python",
     "metadata": {},
     "outputs": [
      {
       "output_type": "stream",
       "stream": "stdout",
       "text": [
        "Help on function split in module re:\n",
        "\n",
        "split(pattern, string, maxsplit=0, flags=0)\n",
        "    Split the source string by the occurrences of the pattern,\n",
        "    returning a list containing the resulting substrings.\n",
        "\n"
       ]
      }
     ],
     "prompt_number": 8
    },
    {
     "cell_type": "heading",
     "level": 4,
     "metadata": {},
     "source": [
      "sub(...)"
     ]
    },
    {
     "cell_type": "markdown",
     "metadata": {},
     "source": [
      "sub\u51fd\u6570\u5c06\u4f1a\u4f7f\u7528repl\u66ff\u6362\u5b57\u7b26\u4e32string\u4e2d\u4e0epattern\u89c4\u5219\u5339\u914d\u7684\u5b50\u4e32\uff0c\u5982\u679c\u6ca1\u6709\u6307\u5b9acount\uff0c\u5c06\u66ff\u6362\u6240\u6709\u5339\u914d\u3002"
     ]
    },
    {
     "cell_type": "code",
     "collapsed": false,
     "input": [
      "help(re.sub)"
     ],
     "language": "python",
     "metadata": {},
     "outputs": [
      {
       "output_type": "stream",
       "stream": "stdout",
       "text": [
        "Help on function sub in module re:\n",
        "\n",
        "sub(pattern, repl, string, count=0, flags=0)\n",
        "    Return the string obtained by replacing the leftmost\n",
        "    non-overlapping occurrences of the pattern in string by the\n",
        "    replacement repl.  repl can be either a string or a callable;\n",
        "    if a string, backslash escapes in it are processed.  If it is\n",
        "    a callable, it's passed the match object and must return\n",
        "    a replacement string to be used.\n",
        "\n"
       ]
      }
     ],
     "prompt_number": 9
    },
    {
     "cell_type": "code",
     "collapsed": false,
     "input": [
      "import re\n",
      "regex=\"[ae]\"\n",
      "text=\"abcdef\"\n",
      "re.sub(regex,\"X\",text)"
     ],
     "language": "python",
     "metadata": {},
     "outputs": [
      {
       "metadata": {},
       "output_type": "pyout",
       "prompt_number": 61,
       "text": [
        "'XbcdXf'"
       ]
      }
     ],
     "prompt_number": 61
    },
    {
     "cell_type": "heading",
     "level": 4,
     "metadata": {},
     "source": [
      "purge()"
     ]
    },
    {
     "cell_type": "markdown",
     "metadata": {},
     "source": [
      "\u6e05\u7a7a\u6b63\u5219\u8868\u8fbe\u5f0f\u7f13\u51b2"
     ]
    },
    {
     "cell_type": "code",
     "collapsed": false,
     "input": [
      "help(re.purge)"
     ],
     "language": "python",
     "metadata": {},
     "outputs": [
      {
       "output_type": "stream",
       "stream": "stdout",
       "text": [
        "Help on function purge in module re:\n",
        "\n",
        "purge()\n",
        "    Clear the regular expression cache\n",
        "\n"
       ]
      }
     ],
     "prompt_number": 10
    },
    {
     "cell_type": "heading",
     "level": 3,
     "metadata": {},
     "source": [
      "\u901a\u7528\u5339\u914d\u5bf9\u8c61\u65b9\u6cd5"
     ]
    },
    {
     "cell_type": "heading",
     "level": 4,
     "metadata": {},
     "source": [
      "group(...)"
     ]
    },
    {
     "cell_type": "code",
     "collapsed": false,
     "input": [
      "regex=\"\\d\"\n",
      "text=\"123\"\n",
      "m = re.match(regex,text)\n",
      "help(m.group)"
     ],
     "language": "python",
     "metadata": {},
     "outputs": [
      {
       "output_type": "stream",
       "stream": "stdout",
       "text": [
        "Help on built-in function group:\n",
        "\n",
        "group(...)\n",
        "    group([group1, ...]) -> str or tuple.\n",
        "    Return subgroup(s) of the match by indices or names.\n",
        "    For 0 returns the entire match.\n",
        "\n"
       ]
      }
     ],
     "prompt_number": 65
    },
    {
     "cell_type": "heading",
     "level": 4,
     "metadata": {},
     "source": [
      "groups(...)"
     ]
    },
    {
     "cell_type": "code",
     "collapsed": false,
     "input": [
      "help(m.groups)"
     ],
     "language": "python",
     "metadata": {},
     "outputs": [
      {
       "output_type": "stream",
       "stream": "stdout",
       "text": [
        "Help on built-in function groups:\n",
        "\n",
        "groups(...)\n",
        "    groups([default=None]) -> tuple.\n",
        "    Return a tuple containing all the subgroups of the match, from 1.\n",
        "    The default argument is used for groups\n",
        "    that did not participate in the match\n",
        "\n"
       ]
      }
     ],
     "prompt_number": 23
    },
    {
     "cell_type": "heading",
     "level": 4,
     "metadata": {},
     "source": [
      "groupdict()"
     ]
    },
    {
     "cell_type": "code",
     "collapsed": false,
     "input": [
      "help(m.groupdict)"
     ],
     "language": "python",
     "metadata": {},
     "outputs": [
      {
       "output_type": "stream",
       "stream": "stdout",
       "text": [
        "Help on built-in function groupdict:\n",
        "\n",
        "groupdict(...)\n",
        "    groupdict([default=None]) -> dict.\n",
        "    Return a dictionary containing all the named subgroups of the match,\n",
        "    keyed by the subgroup name. The default argument is used for groups\n",
        "    that did not participate in the match\n",
        "\n"
       ]
      }
     ],
     "prompt_number": 24
    },
    {
     "cell_type": "heading",
     "level": 3,
     "metadata": {},
     "source": [
      "\u901a\u7528\u6a21\u5757\u5c5e\u6027"
     ]
    },
    {
     "cell_type": "heading",
     "level": 4,
     "metadata": {},
     "source": [
      "re.I, re.IGNORECASE"
     ]
    },
    {
     "cell_type": "markdown",
     "metadata": {},
     "source": [
      "\u7528\u4e8e\u8bbe\u7f6e\u5728\u8fdb\u884c\u6a21\u5f0f\u5339\u914d\u65f6\u5ffd\u7565\u5927\u5c0f\u5199"
     ]
    },
    {
     "cell_type": "heading",
     "level": 4,
     "metadata": {},
     "source": [
      "re.L, re.LOCALE"
     ]
    },
    {
     "cell_type": "markdown",
     "metadata": {},
     "source": []
    },
    {
     "cell_type": "heading",
     "level": 4,
     "metadata": {},
     "source": [
      "re.M, re.MULTILINE"
     ]
    },
    {
     "cell_type": "code",
     "collapsed": false,
     "input": [],
     "language": "python",
     "metadata": {},
     "outputs": []
    }
   ],
   "metadata": {}
  }
 ]
}