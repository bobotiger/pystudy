{
 "metadata": {
  "name": "regex"
 },
 "nbformat": 3,
 "nbformat_minor": 0,
 "worksheets": [
  {
   "cells": [
    {
     "cell_type": "heading",
     "level": 1,
     "metadata": {},
     "source": "\u6b63\u5219\u8868\u8fbe\u5f0f\u57fa\u7840"
    },
    {
     "cell_type": "markdown",
     "metadata": {},
     "source": "\u5728python\u4e2d\u4f7f\u7528\u6b63\u5219\u8868\u8fbe\u5f0f\u7684\u65b9\u6cd5\u6709\u4e24\u79cd\uff0c\u4e00\u79cd\u662f\u76f4\u63a5\u4f7f\u7528re\u6a21\u5757\u65b9\u6cd5;\u53e6\u5916\u4e00\u79cd\u662f\u5148\u5c06\u6b63\u5219\u8868\u8fbe\u5f0f\u7f16\u8bd1\u6210\u6a21\u5f0f\u5bf9\u8c61\uff0c\u7136\u540e\u4f7f\u7528\u6a21\u5f0f\u5bf9\u8c61\u65b9\u6cd5\u3002"
    },
    {
     "cell_type": "heading",
     "level": 2,
     "metadata": {},
     "source": "\u76f4\u63a5\u4f7f\u7528re\u6a21\u5757\u65b9\u6cd5"
    },
    {
     "cell_type": "markdown",
     "metadata": {},
     "source": "\u5728python\u4e2d\u4f7f\u7528\u6b63\u5219\u8868\u8fbe\u5f0f\u65f6\u9700\u8981\u5bfc\u5165re\u6a21\u5757"
    },
    {
     "cell_type": "code",
     "collapsed": false,
     "input": "import re",
     "language": "python",
     "metadata": {},
     "outputs": []
    },
    {
     "cell_type": "markdown",
     "metadata": {},
     "source": "\u5b9a\u4e49\u9700\u8981\u5339\u914d\u7684\u6587\u672c\u4e32\u4ee5\u53ca\u6b63\u5219\u8868\u8fbe\u5f0f"
    },
    {
     "cell_type": "code",
     "collapsed": false,
     "input": "text=\"220000|\u5409\u6797\u7701,310000|\u4e0a\u6d77\u5e02,320000|\u6c5f\u82cf\u7701,330000|\u6d59\u6c5f\u7701,\"\nregex=\"220000|330000\"",
     "language": "python",
     "metadata": {},
     "outputs": []
    },
    {
     "cell_type": "markdown",
     "metadata": {},
     "source": "re\u6a21\u5757\u7684match\u65b9\u6cd5\u4ece\u9700\u8981\u5339\u914d\u7684\u6587\u672c\u4e32\u5f00\u5934\u4ee5\u6b63\u5219\u8868\u8fbe\u5f0f\u89c4\u5219\u5f00\u59cb\u5339\u914d\u3002"
    },
    {
     "cell_type": "code",
     "collapsed": false,
     "input": "re.match(regex,text).group()",
     "language": "python",
     "metadata": {},
     "outputs": []
    },
    {
     "cell_type": "markdown",
     "metadata": {},
     "source": "re\u6a21\u5757\u7684search\u65b9\u6cd5\u5728\u6574\u4e2a\u9700\u8981\u5339\u914d\u7684\u6587\u672c\u4e32\u4e2d\u4ee5\u6b63\u5219\u8868\u8fbe\u5f0f\u89c4\u5219\u8fdb\u884c\u5339\u914d\uff0c\u5339\u914d\u5230\u4e00\u4e2a\u5b57\u4e32\u5373\u505c\u6b62\u3002"
    },
    {
     "cell_type": "code",
     "collapsed": false,
     "input": "re.search(regex,text).group()",
     "language": "python",
     "metadata": {},
     "outputs": []
    },
    {
     "cell_type": "markdown",
     "metadata": {},
     "source": "re\u6a21\u5757\u7684findall\u65b9\u6cd5\u5728\u6574\u4e2a\u9700\u8981\u5339\u914d\u7684\u6587\u672c\u4f20\u4e2d\u4ee5\u6b63\u5219\u8868\u8fbe\u5f0f\u89c4\u5219\u5339\u914d\u51fa\u6240\u6709\u7b26\u5408\u8981\u6c42\u7684\u5b57\u4e32\u3002"
    },
    {
     "cell_type": "code",
     "collapsed": false,
     "input": "print re.findall(regex,text)",
     "language": "python",
     "metadata": {},
     "outputs": []
    },
    {
     "cell_type": "heading",
     "level": 2,
     "metadata": {},
     "source": "\u4f7f\u7528\u6b63\u5219\u8868\u8fbe\u5f0f\u6a21\u5f0f\u5bf9\u8c61\u65b9\u6cd5"
    },
    {
     "cell_type": "markdown",
     "metadata": {},
     "source": "\u5c06\u6b63\u5219\u8868\u8fbe\u5f0fregex\u7f16\u8bd1\u6210\u6a21\u5f0f\u5bf9\u8c61\uff0c\u5e76\u5c06\u5bf9\u8c61\u5f15\u7528\u8d4b\u503c\u7ed9\u53d8\u91cfpattern\u3002"
    },
    {
     "cell_type": "code",
     "collapsed": false,
     "input": "pattern = re.compile(regex)",
     "language": "python",
     "metadata": {},
     "outputs": []
    },
    {
     "cell_type": "markdown",
     "metadata": {},
     "source": "\u4f7f\u7528\u6a21\u5f0f\u5bf9\u8c61\u65b9\u6cd5\u8fdb\u884c\u6b63\u5219\u8868\u8fbe\u5f0f\u5339\u914d"
    },
    {
     "cell_type": "code",
     "collapsed": false,
     "input": "pattern.match(text).group()",
     "language": "python",
     "metadata": {},
     "outputs": []
    },
    {
     "cell_type": "code",
     "collapsed": false,
     "input": "pattern.search(text).group()",
     "language": "python",
     "metadata": {},
     "outputs": []
    },
    {
     "cell_type": "code",
     "collapsed": false,
     "input": "print pattern.findall(text)",
     "language": "python",
     "metadata": {},
     "outputs": []
    },
    {
     "cell_type": "heading",
     "level": 2,
     "metadata": {},
     "source": "\u6b63\u5219\u8868\u8fbe\u5f0f\u4e2d\u7684\u7279\u6b8a\u7b26\u53f7\u548c\u5b57\u7b26"
    },
    {
     "cell_type": "heading",
     "level": 3,
     "metadata": {},
     "source": "1. \u2018|\u2019\uff1a\u6216"
    },
    {
     "cell_type": "markdown",
     "metadata": {},
     "source": "\u2018|\u2019\u5728\u6b63\u5219\u8868\u8fbe\u5f0f\u4e2d\u7528\u6765\u5c06\u591a\u79cd\u53ef\u80fd\u7684\u5339\u914d\u6a21\u5f0f\u8fdb\u884c\u5206\u9694\uff0c\u8d77\u5230\u201c\u6216\u201d\u7684\u4f5c\u7528\u3002"
    },
    {
     "cell_type": "code",
     "collapsed": false,
     "input": "regex='bat|bit|bet'\ntext='I bet it takes quite a bit of time to catch a bat.'\nprint re.compile(regex).findall(text)",
     "language": "python",
     "metadata": {},
     "outputs": []
    },
    {
     "cell_type": "heading",
     "level": 3,
     "metadata": {},
     "source": "2. \u2018.\u2019\uff1a\u7528\u6765\u66ff\u6362\u4efb\u610f\u4e00\u4e2a\u5b57\u7b26\uff0c\u9664\u4e86\u201c\\n\u201d"
    },
    {
     "cell_type": "code",
     "collapsed": false,
     "input": "regex='b.t'\ntext='I bet it takes quite a bit of time to catch a bat.'\nprint re.compile(regex).findall(text)",
     "language": "python",
     "metadata": {},
     "outputs": []
    },
    {
     "cell_type": "heading",
     "level": 3,
     "metadata": {},
     "source": "3. '^' \uff1a\u4ece\u9700\u8981\u5339\u914d\u5b57\u7b26\u4e32\u5f00\u5934\u8fdb\u884c\u5339\u914d"
    },
    {
     "cell_type": "markdown",
     "metadata": {},
     "source": "textfile\u6587\u4ef6\u5305\u542b4\u884c\u6587\u672c\u5185\u5bb9\uff0c\u4e0b\u9762\u5c06\u4ee5textfile\u4e3a\u57fa\u7840\u8fdb\u884c\u6b63\u5219\u8868\u8fbe\u5f0f\u6a21\u5f0f\u5339\u914d"
    },
    {
     "cell_type": "code",
     "collapsed": false,
     "input": "!cat textfile",
     "language": "python",
     "metadata": {},
     "outputs": []
    },
    {
     "cell_type": "markdown",
     "metadata": {},
     "source": "\u5339\u914dtextfile\u6587\u4ef6\u5185\u5bb9\u4e2d\u6240\u6709\u4ee5\u2018d\u2019\u5f00\u5934\u7684\u884c"
    },
    {
     "cell_type": "code",
     "collapsed": false,
     "input": "regex=\"^d.*\"\nf = open(\"textfile\",'r')\nfor eachLine in f:\n    print re.compile(regex).findall(eachLine)",
     "language": "python",
     "metadata": {},
     "outputs": []
    },
    {
     "cell_type": "heading",
     "level": 3,
     "metadata": {},
     "source": "4. '$' \uff1a \u4ece\u9700\u8981\u5339\u914d\u7684\u5b57\u7b26\u4e32\u7684\u5c3e\u90e8\u8fdb\u884c\u5339\u914d"
    },
    {
     "cell_type": "markdown",
     "metadata": {},
     "source": "\u5339\u914dtextfile\u6587\u4ef6\u5185\u5bb9\u4e2d\u6240\u6709\u4ee5\u2018t\u2019\u7ed3\u5c3e\u7684\u884c"
    },
    {
     "cell_type": "code",
     "collapsed": false,
     "input": "regex=\".*t$\"\nf = open(\"textfile\",'r')\nfor eachLine in f:\n    print re.compile(regex).findall(eachLine)",
     "language": "python",
     "metadata": {},
     "outputs": []
    },
    {
     "cell_type": "heading",
     "level": 3,
     "metadata": {},
     "source": "5. \u7528\u6765\u63cf\u8ff0\u5339\u914d\u6a21\u5f0f\u91cd\u590d\u6b21\u6570\u7684\u7b26\u53f7"
    },
    {
     "cell_type": "heading",
     "level": 4,
     "metadata": {},
     "source": "\u2018*\u2019 \uff1a \u5176\u524d\u5339\u914d\u6a21\u5f0f\u91cd\u590d0\u6b21\u6216\u591a\u6b21"
    },
    {
     "cell_type": "code",
     "collapsed": false,
     "input": "text=\"The google is a good name,but the goooogle, gogle or ggle is a bad name.\"\nregex='go*gle'\nprint re.compile(regex).findall(text)",
     "language": "python",
     "metadata": {},
     "outputs": []
    },
    {
     "cell_type": "heading",
     "level": 4,
     "metadata": {},
     "source": "\u2018+\u2019 \uff1a \u5176\u524d\u5339\u914d\u6a21\u5f0f\u91cd\u590d1\u6b21\u6216\u591a\u6b21"
    },
    {
     "cell_type": "code",
     "collapsed": false,
     "input": "text=\"The google is a good name,but the goooogle, gogle or ggle is a bad name.\"\nregex='go+gle'\nprint re.compile(regex).findall(text)",
     "language": "python",
     "metadata": {},
     "outputs": []
    },
    {
     "cell_type": "heading",
     "level": 4,
     "metadata": {},
     "source": "\u2018?\u2019 \uff1a \u5176\u524d\u5339\u914d\u6a21\u5f0f\u91cd\u590d1\u6b21\u6216\u591a\u6b21"
    },
    {
     "cell_type": "code",
     "collapsed": false,
     "input": "text=\"The google is a good name,but the goooogle, gogle or ggle is a bad name.\"\nregex='go?gle'\nprint re.compile(regex).findall(text)",
     "language": "python",
     "metadata": {},
     "outputs": []
    },
    {
     "cell_type": "heading",
     "level": 4,
     "metadata": {},
     "source": "\u201c{N}\u201d \uff1a\u5176\u524d\u5339\u914d\u6a21\u5f0f\u91cd\u590dN\u6b21"
    },
    {
     "cell_type": "code",
     "collapsed": false,
     "input": "text=\"The google is a good name,but the goooogle, gogle or ggle is a bad name.\"\nregex='go{4}gle'\nprint re.compile(regex).findall(text)",
     "language": "python",
     "metadata": {},
     "outputs": []
    },
    {
     "cell_type": "heading",
     "level": 4,
     "metadata": {},
     "source": "\u201c{N,M}\u201d \uff1a\u5176\u524d\u5339\u914d\u6a21\u5f0f\u81f3\u5c11\u91cd\u590dN\u6b21\uff0c\u6700\u591a\u91cd\u590dM\u6b21"
    },
    {
     "cell_type": "code",
     "collapsed": false,
     "input": "text=\"The google is a good name,but the goooogle, gogle or ggle is a bad name.\"\nregex='go{1,2}gle'\nprint re.compile(regex).findall(text)",
     "language": "python",
     "metadata": {},
     "outputs": []
    },
    {
     "cell_type": "heading",
     "level": 3,
     "metadata": {},
     "source": "6. [...] \uff1a\u7528\u6765\u63cf\u8ff0\u4e00\u4e2a\u5b57\u7b26\u96c6\u5408\uff0c\u5339\u914d\u65f6\u53ea\u80fd\u5339\u914d\u5176\u4e2d\u4e00\u4e2a\u5b57\u7b26"
    },
    {
     "cell_type": "code",
     "collapsed": false,
     "input": "text=\"The google is a good name,but the goooogle, gogle or ggle is a bad name.\"\nregex='b[ua][td]'\nprint re.compile(regex).findall(text)",
     "language": "python",
     "metadata": {},
     "outputs": []
    },
    {
     "cell_type": "heading",
     "level": 3,
     "metadata": {},
     "source": "7. [x-y] \uff1a \u4ee5\u5b57\u7b26\u533a\u95f4\u6765\u63cf\u8ff0\u4e00\u4e2a\u5b57\u7b26\u96c6\u5408\uff0c\u5339\u914d\u65f6\u53ea\u80fd\u5339\u914d\u5176\u4e2d\u4e00\u4e2a\u5b57\u7b26"
    },
    {
     "cell_type": "code",
     "collapsed": false,
     "input": "text=\"The google is a good name,but the goooogle, gogle or ggle is a bad name.\"\nregex='[a-zA-Z][a-z][a-z]'\nprint re.compile(regex).findall(text)",
     "language": "python",
     "metadata": {},
     "outputs": []
    },
    {
     "cell_type": "heading",
     "level": 3,
     "metadata": {},
     "source": "8. [^...] \uff1a \u5728\u65b9\u62ec\u53f7\u4e2d\u7684'^'\u4e0e\u5728\u65b9\u62ec\u53f7\u5916\u9762\u7684\u610f\u4e49\u4e0d\u540c\uff0c\u8fd9\u91cc\u8868\u793a\u2018\u53cd\u2019\u7684\u610f\u601d\uff0c\u5373\u8868\u793a\u5339\u914d\u9664\u65b9\u62ec\u53f7\u5185\u4ee5\u5916\u7684\u5b57\u7b26"
    },
    {
     "cell_type": "code",
     "collapsed": false,
     "input": "text=\"I bet it takes quite a bit of time to catch a bat\"\nregex='b[^e]t'\nprint re.compile(regex).findall(text)",
     "language": "python",
     "metadata": {},
     "outputs": []
    },
    {
     "cell_type": "heading",
     "level": 3,
     "metadata": {},
     "source": "9. (*|+|?|{})? \uff1a \u4ee5\u975e\u8d2a\u5a6a\u6a21\u5f0f\u8fdb\u884c\u91cd\u590d"
    },
    {
     "cell_type": "code",
     "collapsed": false,
     "input": "text=\"220000|\u5409\u6797\u7701,310000|\u4e0a\u6d77\u5e02,320000|\u6c5f\u82cf\u7701,330000|\u6d59\u6c5f\u7701,\"\nregex='310000\\|(.*?),'\nresults = re.compile(regex).findall(text)\nfor result in results:\n    print result",
     "language": "python",
     "metadata": {},
     "outputs": []
    },
    {
     "cell_type": "markdown",
     "metadata": {},
     "source": "\u6b63\u5219\u8868\u8fbe\u5f0f\u201c310000\\|(.*?),\u201d\u7684\u5339\u914d\u89c4\u5219\u662f\u5728text\u4e2d\u67e5\u627e\u4ee5\u201c310000|\u201d\u5f00\u5934\uff0c\u4ee5\u2018\uff0c\u2019\u7ed3\u5c3e\u4e4b\u95f4\u7684\u4efb\u610f\u5b57\u7b26\u3002\"(.*?)\"\u8868\u793a\u4ee5\u975e\u8d2a\u5a6a\u6a21\u5f0f\u5339\u914d\u5230\u7684\u4efb\u610f\u5b57\u7b26\u3002\u56e0\u6b64\u8fd4\u56de\u7b26\u5408\u6b64\u6a21\u5f0f\u6700\u77ed\u7684\u5f62\u5f0f\uff1a\u201c\u4e0a\u6d77\u5e02\u201d\uff0c\u5982\u679c\u4ee5\u8d2a\u5a6a\u6a21\u5f0f\uff0c\u5219\u4f1a\u83b7\u5f97\u4ee5\u4e0b\u7ed3\u679c\uff0c\u5c06\u8fd4\u56de\u7b26\u5408\u6b21\u6a21\u5f0f\u6700\u957f\u7684\u5f62\u5f0f\uff1a\u201c\u4e0a\u6d77\u5e02,320000|\u6c5f\u82cf\u7701,330000|\u6d59\u6c5f\u7701\u201c"
    },
    {
     "cell_type": "code",
     "collapsed": false,
     "input": "text=\"220000|\u5409\u6797\u7701,310000|\u4e0a\u6d77\u5e02,320000|\u6c5f\u82cf\u7701,330000|\u6d59\u6c5f\u7701,\"\nregex='310000\\|(.*),'\nresults = re.compile(regex).findall(text)\nfor result in results:\n    print result",
     "language": "python",
     "metadata": {},
     "outputs": []
    },
    {
     "cell_type": "heading",
     "level": 3,
     "metadata": {},
     "source": "10. (...) \uff1a \u5339\u914d\u7ed3\u679c\u5c06\u8fd4\u56de\u4e0e\u5706\u62ec\u53f7\u4e2d\u6b63\u5219\u8868\u8fbe\u5f0f\u5339\u914d\u7684\u5b57\u7b26\u4e32\u96c6\u3002"
    },
    {
     "cell_type": "code",
     "collapsed": false,
     "input": "text = \"220000|\u5409\u6797\u7701,310000|\u4e0a\u6d77\u5e02,320000|\u6c5f\u82cf\u7701,330000|\u6d59\u6c5f\u7701,\"\nregex = \"\\|(.*?),\"\nresults = re.compile(regex).findall(text)\nfor result in results:\n    print result",
     "language": "python",
     "metadata": {},
     "outputs": []
    },
    {
     "cell_type": "heading",
     "level": 3,
     "metadata": {},
     "source": "11. \u6b63\u5219\u8868\u8fbe\u5f0f\u4e2d\u7684\u7279\u6b8a\u5b57\u7b26"
    },
    {
     "cell_type": "heading",
     "level": 4,
     "metadata": {},
     "source": "'\\d'\uff1a\u7b49\u4ef7\u4e8e[0-9]; '\\D'\uff1a\u7b49\u4ef7\u4e8e[^0-9]"
    },
    {
     "cell_type": "code",
     "collapsed": false,
     "input": "text = \"file1.py,files.py\"\nregex = \"file\\d\\.py\"\nprint re.compile(regex).findall(text)",
     "language": "python",
     "metadata": {},
     "outputs": []
    },
    {
     "cell_type": "code",
     "collapsed": false,
     "input": "text = \"file1.py,files.py\"\nregex = \"file\\D\\.py\"\nprint re.compile(regex).findall(text)",
     "language": "python",
     "metadata": {},
     "outputs": []
    },
    {
     "cell_type": "heading",
     "level": 4,
     "metadata": {},
     "source": "'\\w' \uff1a\u7b49\u4ef7\u4e8e[a-zA-Z0-9\\_]; '\\W'\uff1a\u7b49\u4ef7\u4e8e[^a-zA-Z0-9\\_]"
    },
    {
     "cell_type": "code",
     "collapsed": false,
     "input": "text = \"file1.py,files.py,file_.py,file$.py\"\nregex = \"file\\w\\.py\"\nprint re.compile(regex).findall(text)",
     "language": "python",
     "metadata": {},
     "outputs": []
    },
    {
     "cell_type": "code",
     "collapsed": false,
     "input": "text = \"file1.py,files.py,file_.py,file$.py\"\nregex = \"file\\W\\.py\"\nprint re.compile(regex).findall(text)",
     "language": "python",
     "metadata": {},
     "outputs": []
    },
    {
     "cell_type": "heading",
     "level": 4,
     "metadata": {},
     "source": "'\\s'\uff1a\u7b49\u4ef7\u4e8e[\\n\\t\\r\\v\\f]; '\\S'\uff1a\u7b49\u4ef7\u4e8e[^\\n\\t\\r\\v\\f]"
    },
    {
     "cell_type": "markdown",
     "metadata": {},
     "source": "\u6267\u884cwho\u547d\u4ee4"
    },
    {
     "cell_type": "code",
     "collapsed": false,
     "input": "!who",
     "language": "python",
     "metadata": {},
     "outputs": []
    },
    {
     "cell_type": "markdown",
     "metadata": {},
     "source": "\u5c06who\u547d\u4ee4\u7684\u8f93\u51fa\u91cd\u5b9a\u5411\u5230\u201d/home/whpuser/pythoncode/whooutput\u201c\u4e2d\uff1a"
    },
    {
     "cell_type": "code",
     "collapsed": false,
     "input": "!who > /home/whpuser/pythoncode/whooutput",
     "language": "python",
     "metadata": {},
     "outputs": []
    },
    {
     "cell_type": "markdown",
     "metadata": {},
     "source": "\u663e\u793awhooutput\u6587\u4ef6\u4e2d\u7684\u5185\u5bb9"
    },
    {
     "cell_type": "code",
     "collapsed": false,
     "input": "!cat whooutput",
     "language": "python",
     "metadata": {},
     "outputs": []
    },
    {
     "cell_type": "markdown",
     "metadata": {},
     "source": "\u5c06\u6587\u4ef6whooutput\u6587\u4ef6\u4e2d\u7684\u6bcf\u4e00\u884c\u4ee52\u4e2a\u4ee5\u4e0a\u7a7a\u767d\u7b26\u8fdb\u884c\u5206\u5272\uff1a"
    },
    {
     "cell_type": "code",
     "collapsed": false,
     "input": "f = open('whooutput','r')\nfor eachLine in f:\n    print re.split('\\s\\s+',eachLine)",
     "language": "python",
     "metadata": {},
     "outputs": []
    }
   ],
   "metadata": {}
  }
 ]
}