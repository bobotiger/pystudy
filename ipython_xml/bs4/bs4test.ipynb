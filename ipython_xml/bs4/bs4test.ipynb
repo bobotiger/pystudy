{
 "metadata": {
  "name": "",
  "signature": "sha256:08c2345c10bb504af85ee7338404d1f9cd8c6351ed65385e9620d985c9d1d09e"
 },
 "nbformat": 3,
 "nbformat_minor": 0,
 "worksheets": [
  {
   "cells": [
    {
     "cell_type": "heading",
     "level": 1,
     "metadata": {},
     "source": [
      "BeautifulSoup4 \u5165\u95e8"
     ]
    },
    {
     "cell_type": "heading",
     "level": 2,
     "metadata": {},
     "source": [
      "BeautifulSoup4\u7528\u6cd5\u5feb\u901f\u6d4f\u89c8"
     ]
    },
    {
     "cell_type": "code",
     "collapsed": false,
     "input": [
      "#\u65b0\u5efa\u4e00\u4e2ahtml\u4ee3\u7801\u4e32\uff0c\u201c\u7231\u4e3d\u4e1d\u68a6\u6e38\u4ed9\u5883\u201d\n",
      "html_doc = \"\"\"\n",
      "<html><head><title>The Dormouse's story</title></head>\n",
      "<body>\n",
      "<p class=\"title\"><b>The Dormouse's story</b></p>\n",
      "\n",
      "<p class=\"story\"><a href=\"http://example.com/elsie\" class=\"sister\" id=\"link1\">Elsie</a>,\n",
      "<a href=\"http://example.com/lacie\" class=\"sister\" id=\"link2\">Lacie</a> and\n",
      "<a href=\"http://example.com/tillie\" class=\"sister\" id=\"link3\">Tillie</a>;\n",
      "and they lived at the bottom of a well.</p>\n",
      "\n",
      "<p class=\"story\">...</p>\n",
      "\"\"\""
     ],
     "language": "python",
     "metadata": {},
     "outputs": [],
     "prompt_number": 20
    },
    {
     "cell_type": "code",
     "collapsed": false,
     "input": [
      "from bs4 import BeautifulSoup  # \u5bfc\u5165BeautifulSoup\u7c7b\n",
      "soup = BeautifulSoup(html_doc) # \u65b0\u5efa\u4e00\u4e2aBeautifulSoup\u5bf9\u8c61"
     ],
     "language": "python",
     "metadata": {},
     "outputs": [],
     "prompt_number": 21
    },
    {
     "cell_type": "code",
     "collapsed": false,
     "input": [
      "print(soup.prettify())        # \u5bf9html\u4ee3\u7801\u4e32\u8fdb\u884c\u683c\u5f0f\u5316"
     ],
     "language": "python",
     "metadata": {},
     "outputs": [
      {
       "output_type": "stream",
       "stream": "stdout",
       "text": [
        "<html>\n",
        " <head>\n",
        "  <title>\n",
        "   The Dormouse's story\n",
        "  </title>\n",
        " </head>\n",
        " <body>\n",
        "  <p class=\"title\">\n",
        "   <b>\n",
        "    The Dormouse's story\n",
        "   </b>\n",
        "  </p>\n",
        "  <p class=\"story\">\n",
        "   <a class=\"sister\" href=\"http://example.com/elsie\" id=\"link1\">\n",
        "    Elsie\n",
        "   </a>\n",
        "   ,\n",
        "   <a class=\"sister\" href=\"http://example.com/lacie\" id=\"link2\">\n",
        "    Lacie\n",
        "   </a>\n",
        "   and\n",
        "   <a class=\"sister\" href=\"http://example.com/tillie\" id=\"link3\">\n",
        "    Tillie\n",
        "   </a>\n",
        "   ;\n",
        "and they lived at the bottom of a well.\n",
        "  </p>\n",
        "  <p class=\"story\">\n",
        "   ...\n",
        "  </p>\n",
        " </body>\n",
        "</html>\n"
       ]
      }
     ],
     "prompt_number": 22
    },
    {
     "cell_type": "code",
     "collapsed": false,
     "input": [
      "print soup.title                     #\u53d6title\u5143\u7d20\n",
      "print soup.title.name                #\u53d6title\u5143\u7d20\u7684\u540d\u5b57\n",
      "print soup.title.string              #\u53d6title\u5143\u7d20\u7684\u5185\u5bb9\n",
      "print soup.title.parent.name         #\u53d6title\u5143\u7d20\u7684\u7236\u5143\u7d20\u7684\u540d\u5b57  \n",
      "print soup.p                         #\u53d6p\u5143\u7d20\uff0chtml\u6587\u6863\u4e2d\u5305\u542b\u591a\u4e2ap\u5143\u7d20\uff0c\u5219\u53d6\u51fa\u6587\u6863\u4e2d\u7b2c\u4e00\u4e2ap\u5143\u7d20\n",
      "print soup.p['class']                #\u53d6p\u5143\u7d20\u7684class\u5c5e\u6027\u7684\u503c\n",
      "print soup.a                         #\u53d6a\u5143\u7d20\n",
      "print soup.find_all('a')             #\u53d6html\u6587\u6863\u4e2d\u6240\u6709a\u5143\u7d20\n",
      "print soup.find(id='link3')          #\u53d6html\u6587\u6863\u4e2did\u5c5e\u6027\u503c\u4e3a\u201clink3\u201d\u7684\u5143\u7d20"
     ],
     "language": "python",
     "metadata": {},
     "outputs": [
      {
       "output_type": "stream",
       "stream": "stdout",
       "text": [
        "<title>The Dormouse's story</title>\n",
        "title\n",
        "The Dormouse's story\n",
        "head\n",
        "<p class=\"title\"><b>The Dormouse's story</b></p>\n",
        "['title']\n",
        "<a class=\"sister\" href=\"http://example.com/elsie\" id=\"link1\">Elsie</a>\n",
        "[<a class=\"sister\" href=\"http://example.com/elsie\" id=\"link1\">Elsie</a>, <a class=\"sister\" href=\"http://example.com/lacie\" id=\"link2\">Lacie</a>, <a class=\"sister\" href=\"http://example.com/tillie\" id=\"link3\">Tillie</a>]\n",
        "<a class=\"sister\" href=\"http://example.com/tillie\" id=\"link3\">Tillie</a>\n"
       ]
      }
     ],
     "prompt_number": 23
    },
    {
     "cell_type": "code",
     "collapsed": false,
     "input": [
      "for link in soup.find_all('a'): #\u5faa\u73af\u4f9d\u6b21\u5904\u7406\u6240\u6709html\u6587\u6863\u4e2d\u7684a\u5143\u7d20\n",
      "    print(link.get('href'))     #\u83b7\u53d6\u6bcf\u4e2aa\u5143\u7d20\u7684href\u5c5e\u6027\u7684\u503c\uff0c\u5e76\u6253\u5370\u8f93\u51fa"
     ],
     "language": "python",
     "metadata": {},
     "outputs": [
      {
       "output_type": "stream",
       "stream": "stdout",
       "text": [
        "http://example.com/elsie\n",
        "http://example.com/lacie\n",
        "http://example.com/tillie\n"
       ]
      }
     ],
     "prompt_number": 24
    },
    {
     "cell_type": "code",
     "collapsed": false,
     "input": [
      "print(soup.get_text())          #\u83b7\u53d6\u6574\u4e2ahtml\u6587\u6863\u7684\u6587\u672c\u5185\u5bb9"
     ],
     "language": "python",
     "metadata": {},
     "outputs": [
      {
       "output_type": "stream",
       "stream": "stdout",
       "text": [
        "The Dormouse's story\n",
        "\n",
        "The Dormouse's story\n",
        "Elsie,\n",
        "Lacie and\n",
        "Tillie;\n",
        "and they lived at the bottom of a well.\n",
        "...\n",
        "\n"
       ]
      }
     ],
     "prompt_number": 25
    },
    {
     "cell_type": "heading",
     "level": 2,
     "metadata": {},
     "source": [
      "\u4f7f\u7528BeautifulSoup\u521b\u5efa\u6587\u6863\u5bf9\u8c61"
     ]
    },
    {
     "cell_type": "code",
     "collapsed": false,
     "input": [
      "from bs4 import BeautifulSoup\n",
      "soup1 = BeautifulSoup(open(\"../currdir.xml\"),\"lxml\") #\u901a\u8fc7open\u51fd\u6570\u6253\u5f00\u4e00\u4e2a\u6587\u4ef6\u53e5\u67c4\uff0c\u4f20\u9012\u7ed9BeautifulSoup\u6765\u6784\u9020\u6587\u6863\u5bf9\u8c61\n",
      "len(soup1.find_all(\"file\"))"
     ],
     "language": "python",
     "metadata": {},
     "outputs": [
      {
       "metadata": {},
       "output_type": "pyout",
       "prompt_number": 26,
       "text": [
        "9"
       ]
      }
     ],
     "prompt_number": 26
    },
    {
     "cell_type": "code",
     "collapsed": false,
     "input": [
      "soup2 = BeautifulSoup(\"<html><head><title>hello BeautifulSoup</title></head><body>Hello BeautifulSoup!</body></html>\")\n",
      "print(soup2.prettify())"
     ],
     "language": "python",
     "metadata": {},
     "outputs": [
      {
       "output_type": "stream",
       "stream": "stdout",
       "text": [
        "<html>\n",
        " <head>\n",
        "  <title>\n",
        "   hello BeautifulSoup\n",
        "  </title>\n",
        " </head>\n",
        " <body>\n",
        "  Hello BeautifulSoup!\n",
        " </body>\n",
        "</html>\n"
       ]
      }
     ],
     "prompt_number": 27
    },
    {
     "cell_type": "heading",
     "level": 2,
     "metadata": {},
     "source": [
      "\u8282\u70b9\u5bf9\u8c61"
     ]
    },
    {
     "cell_type": "markdown",
     "metadata": {},
     "source": [
      "BeautifulSoup\u5c06\u590d\u6742HTML\u6587\u6863\u8f6c\u6362\u6210\u4e00\u4e2a\u590d\u6742\u7684\u6811\u5f62\u7ed3\u6784,\u6bcf\u4e2a\u8282\u70b9\u90fd\u662fPython\u5bf9\u8c61,\u6240\u6709\u5bf9\u8c61\u53ef\u4ee5\u5f52\u7eb3\u4e3a4\u79cd: Tag, NavigableString, BeautifulSoup, Comment\u3002"
     ]
    },
    {
     "cell_type": "heading",
     "level": 3,
     "metadata": {},
     "source": [
      "Tag"
     ]
    },
    {
     "cell_type": "code",
     "collapsed": false,
     "input": [
      "soup = BeautifulSoup(\"<b class='boldest' id='b1'>Extremely bold</b>\")\n",
      "tag = soup.b\n",
      "type(tag)"
     ],
     "language": "python",
     "metadata": {},
     "outputs": [
      {
       "metadata": {},
       "output_type": "pyout",
       "prompt_number": 28,
       "text": [
        "bs4.element.Tag"
       ]
      }
     ],
     "prompt_number": 28
    },
    {
     "cell_type": "markdown",
     "metadata": {},
     "source": [
      "Tag\u5305\u542b\u5f88\u591a\u65b9\u6cd5\u548c\u5c5e\u6027\uff0c\u5176\u4e2d\u6700\u91cd\u8981\u7684\u662f\u6807\u7b7e\u540d\u548c\u5c5e\u6027\u3002"
     ]
    },
    {
     "cell_type": "heading",
     "level": 4,
     "metadata": {},
     "source": [
      "\u6807\u7b7e\u540d"
     ]
    },
    {
     "cell_type": "code",
     "collapsed": false,
     "input": [
      "tag.name"
     ],
     "language": "python",
     "metadata": {},
     "outputs": [
      {
       "metadata": {},
       "output_type": "pyout",
       "prompt_number": 29,
       "text": [
        "'b'"
       ]
      }
     ],
     "prompt_number": 29
    },
    {
     "cell_type": "code",
     "collapsed": false,
     "input": [
      "tag.name = \"bold\" # \u6211\u4eec\u53ef\u4ee5\u5373\u65f6\u4fee\u6539Tag\u5bf9\u8c61\u7684\u540d\u5b57\n",
      "tag"
     ],
     "language": "python",
     "metadata": {},
     "outputs": [
      {
       "metadata": {},
       "output_type": "pyout",
       "prompt_number": 30,
       "text": [
        "<bold class=\"boldest\" id=\"b1\">Extremely bold</bold>"
       ]
      }
     ],
     "prompt_number": 30
    },
    {
     "cell_type": "heading",
     "level": 4,
     "metadata": {},
     "source": [
      "\u5c5e\u6027"
     ]
    },
    {
     "cell_type": "code",
     "collapsed": false,
     "input": [
      "tag.attrs  #\u8fd4\u56detag\u6240\u5305\u542b\u6240\u6709\u5c5e\u6027\u540d\u503c\u5bf9\u7684\u5b57\u5178\u5bf9\u8c61\u3002"
     ],
     "language": "python",
     "metadata": {},
     "outputs": [
      {
       "metadata": {},
       "output_type": "pyout",
       "prompt_number": 31,
       "text": [
        "{'class': ['boldest'], 'id': 'b1'}"
       ]
      }
     ],
     "prompt_number": 31
    },
    {
     "cell_type": "code",
     "collapsed": false,
     "input": [
      "tag[\"class\"]               #\u83b7\u53d6\u5c5e\u6027\u503c"
     ],
     "language": "python",
     "metadata": {},
     "outputs": [
      {
       "metadata": {},
       "output_type": "pyout",
       "prompt_number": 32,
       "text": [
        "['boldest']"
       ]
      }
     ],
     "prompt_number": 32
    },
    {
     "cell_type": "code",
     "collapsed": false,
     "input": [
      "tag[\"class\"] = \"modified\" #\u4fee\u6539\u5c5e\u6027\u503c\n",
      "tag"
     ],
     "language": "python",
     "metadata": {},
     "outputs": [
      {
       "metadata": {},
       "output_type": "pyout",
       "prompt_number": 33,
       "text": [
        "<bold class=\"modified\" id=\"b1\">Extremely bold</bold>"
       ]
      }
     ],
     "prompt_number": 33
    },
    {
     "cell_type": "code",
     "collapsed": false,
     "input": [
      "del tag[\"id\"]             #\u5220\u9664\u5c5e\u6027\n",
      "del tag[\"class\"]\n",
      "tag"
     ],
     "language": "python",
     "metadata": {},
     "outputs": [
      {
       "metadata": {},
       "output_type": "pyout",
       "prompt_number": 34,
       "text": [
        "<bold>Extremely bold</bold>"
       ]
      }
     ],
     "prompt_number": 34
    },
    {
     "cell_type": "code",
     "collapsed": false,
     "input": [
      "tag[\"class\"] = \"boldest\"  #\u6dfb\u52a0\u5c5e\u6027\n",
      "tag"
     ],
     "language": "python",
     "metadata": {},
     "outputs": [
      {
       "metadata": {},
       "output_type": "pyout",
       "prompt_number": 35,
       "text": [
        "<bold class=\"boldest\">Extremely bold</bold>"
       ]
      }
     ],
     "prompt_number": 35
    },
    {
     "cell_type": "heading",
     "level": 4,
     "metadata": {},
     "source": [
      "NavigableString"
     ]
    },
    {
     "cell_type": "markdown",
     "metadata": {},
     "source": [
      "\u5b57\u7b26\u4e32\u5e38\u88ab\u5305\u542b\u5728tag\u5185\uff0cBeautifulSoup\u7528 NavigableString \u7c7b\u6765\u5305\u88c5tag\u4e2d\u7684\u5b57\u7b26\u4e32\uff1a"
     ]
    },
    {
     "cell_type": "code",
     "collapsed": false,
     "input": [
      "tag.string"
     ],
     "language": "python",
     "metadata": {},
     "outputs": [
      {
       "metadata": {},
       "output_type": "pyout",
       "prompt_number": 36,
       "text": [
        "u'Extremely bold'"
       ]
      }
     ],
     "prompt_number": 36
    },
    {
     "cell_type": "code",
     "collapsed": false,
     "input": [
      "type(tag.string)"
     ],
     "language": "python",
     "metadata": {},
     "outputs": [
      {
       "metadata": {},
       "output_type": "pyout",
       "prompt_number": 37,
       "text": [
        "bs4.element.NavigableString"
       ]
      }
     ],
     "prompt_number": 37
    },
    {
     "cell_type": "markdown",
     "metadata": {},
     "source": [
      "\u4e00\u4e2a NavigableString \u5b57\u7b26\u4e32\u4e0ePython\u4e2d\u7684Unicode\u5b57\u7b26\u4e32\u76f8\u540c,\u901a\u8fc7 unicode() \u65b9\u6cd5\u53ef\u4ee5\u76f4\u63a5\u5c06 NavigableString \u5bf9\u8c61\u8f6c\u6362\u6210Unicode\u5b57\u7b26\u4e32:"
     ]
    },
    {
     "cell_type": "code",
     "collapsed": false,
     "input": [
      "unicode_string = unicode(tag.string)\n",
      "unicode_string"
     ],
     "language": "python",
     "metadata": {},
     "outputs": [
      {
       "metadata": {},
       "output_type": "pyout",
       "prompt_number": 38,
       "text": [
        "u'Extremely bold'"
       ]
      }
     ],
     "prompt_number": 38
    },
    {
     "cell_type": "code",
     "collapsed": false,
     "input": [
      "type(unicode_string)"
     ],
     "language": "python",
     "metadata": {},
     "outputs": [
      {
       "metadata": {},
       "output_type": "pyout",
       "prompt_number": 39,
       "text": [
        "unicode"
       ]
      }
     ],
     "prompt_number": 39
    },
    {
     "cell_type": "markdown",
     "metadata": {},
     "source": [
      "tag\u4e2d\u5305\u542b\u7684\u5b57\u7b26\u4e32\u4e0d\u80fd\u7f16\u8f91,\u4f46\u662f\u53ef\u4ee5\u88ab\u66ff\u6362\u6210\u5176\u5b83\u7684\u5b57\u7b26\u4e32,\u7528 replace_with() \u65b9\u6cd5:"
     ]
    },
    {
     "cell_type": "code",
     "collapsed": false,
     "input": [
      "tag.string.replace_with(\"No longer bold\")\n",
      "tag"
     ],
     "language": "python",
     "metadata": {},
     "outputs": [
      {
       "metadata": {},
       "output_type": "pyout",
       "prompt_number": 40,
       "text": [
        "<bold class=\"boldest\">No longer bold</bold>"
       ]
      }
     ],
     "prompt_number": 40
    },
    {
     "cell_type": "markdown",
     "metadata": {},
     "source": [
      "\u5982\u679c\u60f3\u5728BeautifulSoup\u4e4b\u5916\u4f7f\u7528 NavigableString \u5bf9\u8c61,\u9700\u8981\u8c03\u7528 unicode() \u65b9\u6cd5,\u5c06\u8be5\u5bf9\u8c61\u8f6c\u6362\u6210\u666e\u901a\u7684Unicode\u5b57\u7b26\u4e32,\u5426\u5219\u5c31\u7b97BeautifulSoup\u5df2\u65b9\u6cd5\u5df2\u7ecf\u6267\u884c\u7ed3\u675f,\u8be5\u5bf9\u8c61\u7684\u8f93\u51fa\u4e5f\u4f1a\u5e26\u6709\u5bf9\u8c61\u7684\u5f15\u7528\u5730\u5740,\u8fd9\u6837\u4f1a\u6d6a\u8d39\u5185\u5b58\u3002"
     ]
    },
    {
     "cell_type": "heading",
     "level": 4,
     "metadata": {},
     "source": [
      "BeautifulSoup"
     ]
    },
    {
     "cell_type": "markdown",
     "metadata": {},
     "source": [
      "BeautifulSoup \u5bf9\u8c61\u8868\u793a\u7684\u662f\u4e00\u4e2a\u6587\u6863\u7684\u5168\u90e8\u5185\u5bb9.\u5927\u90e8\u5206\u65f6\u5019,\u53ef\u4ee5\u628a\u5b83\u5f53\u4f5c Tag \u5bf9\u8c61\u3002\n",
      "\u56e0\u4e3a BeautifulSoup \u5bf9\u8c61\u5e76\u4e0d\u662f\u771f\u6b63\u7684HTML\u6216XML\u7684tag,\u6240\u4ee5\u5b83\u6ca1\u6709name\u548cattribute\u5c5e\u6027\uff0c\u4e0d\u8fc7 BeautifulSoup\u5bf9\u8c61\u5305\u542b\u4e86\u4e00\u4e2a\u503c\u4e3a\u201c[document]\u201d\u7684\u7279\u6b8a\u5c5e\u6027.name\u3002"
     ]
    },
    {
     "cell_type": "code",
     "collapsed": false,
     "input": [
      "soup.name"
     ],
     "language": "python",
     "metadata": {},
     "outputs": [
      {
       "metadata": {},
       "output_type": "pyout",
       "prompt_number": 41,
       "text": [
        "u'[document]'"
       ]
      }
     ],
     "prompt_number": 41
    },
    {
     "cell_type": "heading",
     "level": 4,
     "metadata": {},
     "source": [
      "\u6ce8\u91ca\u53ca\u7279\u6b8a\u5b57\u7b26\u4e32"
     ]
    },
    {
     "cell_type": "code",
     "collapsed": false,
     "input": [
      "markup = \"<b><!--Hey, buddy. Want to buy a used parser?--></b>\"\n",
      "soup = BeautifulSoup(markup)\n",
      "comment = soup.b.string\n",
      "type(comment)"
     ],
     "language": "python",
     "metadata": {},
     "outputs": [
      {
       "metadata": {},
       "output_type": "pyout",
       "prompt_number": 42,
       "text": [
        "bs4.element.Comment"
       ]
      }
     ],
     "prompt_number": 42
    },
    {
     "cell_type": "markdown",
     "metadata": {},
     "source": [
      "Beautiful Soup\u4e2d\u5b9a\u4e49\u7684\u5176\u5b83\u7c7b\u578b\u90fd\u53ef\u80fd\u4f1a\u51fa\u73b0\u5728XML\u7684\u6587\u6863\u4e2d: CData , ProcessingInstruction , Declaration , Doctype\u3002\u4e0e Comment \u5bf9\u8c61\u7c7b\u4f3c,\u8fd9\u4e9b\u7c7b\u90fd\u662f NavigableString \u7684\u5b50\u7c7b,\u53ea\u662f\u6dfb\u52a0\u4e86\u4e00\u4e9b\u989d\u5916\u7684\u65b9\u6cd5\u7684\u5b57\u7b26\u4e32\u72ec\u4eab\u3002\u4e0b\u9762\u662f\u7528CDATA\u6765\u66ff\u4ee3\u6ce8\u91ca\u7684\u4f8b\u5b50:"
     ]
    },
    {
     "cell_type": "code",
     "collapsed": false,
     "input": [
      "from bs4 import CData\n",
      "cdata = CData(\"A CDATA block\")\n",
      "comment.replace_with(cdata)\n",
      "\n",
      "print(soup.b.prettify())"
     ],
     "language": "python",
     "metadata": {},
     "outputs": [
      {
       "output_type": "stream",
       "stream": "stdout",
       "text": [
        "<b>\n",
        " <![CDATA[A CDATA block]]>\n",
        "</b>\n"
       ]
      }
     ],
     "prompt_number": 43
    },
    {
     "cell_type": "heading",
     "level": 2,
     "metadata": {},
     "source": [
      "\u904d\u5386\u6587\u6863\u6811"
     ]
    },
    {
     "cell_type": "markdown",
     "metadata": {},
     "source": [
      "\u4e0b\u9762\u7ee7\u7eed\u4ee5\u201c\u7231\u4e3d\u4e1d\u68a6\u6e38\u4ed9\u5883\u201dhtml\u6587\u6863\u793a\u4f8b"
     ]
    },
    {
     "cell_type": "code",
     "collapsed": false,
     "input": [
      "html_doc = \"\"\"\n",
      "<html><head><title>The Dormouse's story</title></head>\n",
      "<body>\n",
      "<p class=\"title\"><b>The Dormouse's story</b></p>\n",
      "\n",
      "<p class=\"story\"><a href=\"http://example.com/elsie\" class=\"sister\" id=\"link1\">Elsie</a>,\n",
      "<a href=\"http://example.com/lacie\" class=\"sister\" id=\"link2\">Lacie</a> and\n",
      "<a href=\"http://example.com/tillie\" class=\"sister\" id=\"link3\">Tillie</a>;\n",
      "and they lived at the bottom of a well.</p>\n",
      "\n",
      "<p class=\"story\">...</p>\n",
      "\"\"\""
     ],
     "language": "python",
     "metadata": {},
     "outputs": [],
     "prompt_number": 2
    },
    {
     "cell_type": "code",
     "collapsed": false,
     "input": [
      "from bs4 import BeautifulSoup\n",
      "soup = BeautifulSoup(html_doc)"
     ],
     "language": "python",
     "metadata": {},
     "outputs": [],
     "prompt_number": 3
    },
    {
     "cell_type": "heading",
     "level": 3,
     "metadata": {},
     "source": [
      "\u5b50\u8282\u70b9"
     ]
    },
    {
     "cell_type": "markdown",
     "metadata": {},
     "source": [
      "\u4ee5\u4e0asoup\u662f\u57fa\u4e8e\u201c\u7231\u4e3d\u4e1d\u68a6\u6e38\u4ed9\u5883\u201d\u7684html\u6587\u6863\u6784\u9020\u7684BeautifulSoup\u7c7b\u5bf9\u8c61\uff0c\u8981\u83b7\u53d6html\u6587\u6863\u4e2d\u7684\u67d0\u4e2a\u5143\u7d20\u8282\u70b9\uff0c\u76f4\u63a5\u5c06\u8be5\u5143\u7d20\u7684\u540d\u5b57\u544a\u8bc9soup\u5151\u73b0\u5373\u53ef\uff0c\u4f8b\u5982\uff1a"
     ]
    },
    {
     "cell_type": "code",
     "collapsed": false,
     "input": [
      "soup.head"
     ],
     "language": "python",
     "metadata": {},
     "outputs": [
      {
       "metadata": {},
       "output_type": "pyout",
       "prompt_number": 46,
       "text": [
        "<head><title>The Dormouse's story</title></head>"
       ]
      }
     ],
     "prompt_number": 46
    },
    {
     "cell_type": "markdown",
     "metadata": {},
     "source": [
      "soup.head\u7528\u6765\u83b7\u53d6\u540d\u4e3ahead\u7684\u5143\u7d20\uff0c\u5176\u8fd4\u56de\u503c\u4e3a\u4e00\u4e2a\u540d\u4e3ahead\u7684Tag\u5bf9\u8c61\u3002\u8be5Tag\u5bf9\u8c61\u4e2d\u8fd8\u5305\u542b\u5176\u4ed6\u5b50\u5143\u7d20\u7684Tag\u5bf9\u8c61\uff0c\u56e0\u6b64\u6211\u4eec\u53ef\u4ee5\u7ee7\u7eed\u57fa\u4e8e\u8be5Tag\u5bf9\u8c61\uff0c\u544a\u8bc9\u5176\u5185\u5d4c\u7684\u5176\u4ed6Tag\u5bf9\u8c61\u540d\u5b57\uff0c\u5373\u53ef\u83b7\u53d6\u5176\u5185\u5d4c\u7684\u5b50Tag\u5bf9\u8c61\u4e86\uff0c\u4f8b\u5982\uff1a"
     ]
    },
    {
     "cell_type": "code",
     "collapsed": false,
     "input": [
      "soup.head.title"
     ],
     "language": "python",
     "metadata": {},
     "outputs": [
      {
       "metadata": {},
       "output_type": "pyout",
       "prompt_number": 47,
       "text": [
        "<title>The Dormouse's story</title>"
       ]
      }
     ],
     "prompt_number": 47
    },
    {
     "cell_type": "markdown",
     "metadata": {},
     "source": [
      "\u76f4\u63a5\u901a\u8fc7Tag\u540d\u83b7\u53d6Tag\u5bf9\u8c61\uff0c\u53ea\u80fd\u83b7\u53d6\u4e00\u4e2aTag\u5bf9\u8c61\u3002HTML\u6587\u6863\u4e2d\u7ecf\u5e38\u5305\u542b\u5177\u6709\u540c\u540d\u7684\u591a\u4e2aTag\u5bf9\u8c61\uff0c\u5982\u679c\u8981\u83b7\u53d6\u6240\u6709\u8fd9\u4e9b\u540c\u540dTag\u5bf9\u8c61\uff0c\u53ef\u4ee5\u4f7f\u7528find_all\u65b9\u6cd5\uff0c\u4f8b\u5982\uff1a"
     ]
    },
    {
     "cell_type": "code",
     "collapsed": false,
     "input": [
      "soup.find_all(\"a\")"
     ],
     "language": "python",
     "metadata": {},
     "outputs": [
      {
       "metadata": {},
       "output_type": "pyout",
       "prompt_number": 48,
       "text": [
        "[<a class=\"sister\" href=\"http://example.com/elsie\" id=\"link1\">Elsie</a>,\n",
        " <a class=\"sister\" href=\"http://example.com/lacie\" id=\"link2\">Lacie</a>,\n",
        " <a class=\"sister\" href=\"http://example.com/tillie\" id=\"link3\">Tillie</a>]"
       ]
      }
     ],
     "prompt_number": 48
    },
    {
     "cell_type": "markdown",
     "metadata": {},
     "source": [
      "\u5728BeautifulSoup\u4e2d\u7684Tag\u7c7b\u578b\u53ef\u4ee5\u5305\u542b\u591a\u4e2a\u5b57\u7b26\u4e32\u548c\u5176\u4ed6Tag\uff0c\u53ef\u4ee5\u901a\u8fc7Tag\u7c7b\u7684.contents\u4ee5\u5217\u8868\u5f62\u5f0f\u7ed9\u51fa\u8be5Tag\u5bf9\u8c61\u7684\u6240\u6709\u5b50\u8282\u70b9\u3002"
     ]
    },
    {
     "cell_type": "code",
     "collapsed": false,
     "input": [
      "soup.body.contents"
     ],
     "language": "python",
     "metadata": {},
     "outputs": [
      {
       "metadata": {},
       "output_type": "pyout",
       "prompt_number": 49,
       "text": [
        "[u'\\n',\n",
        " <p class=\"title\"><b>The Dormouse's story</b></p>,\n",
        " u'\\n',\n",
        " <p class=\"story\"><a class=\"sister\" href=\"http://example.com/elsie\" id=\"link1\">Elsie</a>,\n",
        " <a class=\"sister\" href=\"http://example.com/lacie\" id=\"link2\">Lacie</a> and\n",
        " <a class=\"sister\" href=\"http://example.com/tillie\" id=\"link3\">Tillie</a>;\n",
        " and they lived at the bottom of a well.</p>,\n",
        " u'\\n',\n",
        " <p class=\"story\">...</p>,\n",
        " u'\\n']"
       ]
      }
     ],
     "prompt_number": 49
    },
    {
     "cell_type": "markdown",
     "metadata": {},
     "source": [
      "Tag\u5bf9\u8c61\u7684.children\u5c5e\u6027\u53ef\u4ee5\u8fd4\u56de\u4e00\u4e2a\u5b50\u8282\u70b9\u8fed\u4ee3\u5668\uff0c\u901a\u8fc7\u8fed\u4ee3\u53ef\u4ee5\u4e00\u6b21\u8bbf\u95ee\u4e00\u4e2a\u5b50\u8282\u70b9\uff0c\u4f8b\u5982\uff1a"
     ]
    },
    {
     "cell_type": "code",
     "collapsed": false,
     "input": [
      "i = 1\n",
      "for child in soup.body.children:\n",
      "    print i,\":\",child\n",
      "    i += 1"
     ],
     "language": "python",
     "metadata": {},
     "outputs": [
      {
       "output_type": "stream",
       "stream": "stdout",
       "text": [
        "1 : \n",
        "\n",
        "2 : <p class=\"title\"><b>The Dormouse's story</b></p>\n",
        "3 : \n",
        "\n",
        "4 : <p class=\"story\"><a class=\"sister\" href=\"http://example.com/elsie\" id=\"link1\">Elsie</a>,\n",
        "<a class=\"sister\" href=\"http://example.com/lacie\" id=\"link2\">Lacie</a> and\n",
        "<a class=\"sister\" href=\"http://example.com/tillie\" id=\"link3\">Tillie</a>;\n",
        "and they lived at the bottom of a well.</p>\n",
        "5 : \n",
        "\n",
        "6 : <p class=\"story\">...</p>\n",
        "7 : \n",
        "\n"
       ]
      }
     ],
     "prompt_number": 50
    },
    {
     "cell_type": "heading",
     "level": 3,
     "metadata": {},
     "source": [
      "\u5b50\u5b59\u8282\u70b9"
     ]
    },
    {
     "cell_type": "markdown",
     "metadata": {},
     "source": [
      ".contents \u548c .children \u5c5e\u6027\u4ec5\u5305\u542btag\u7684\u76f4\u63a5\u5b50\u8282\u70b9\u3002\u5982\u679c\u671f\u671b\u83b7\u53d6Tag\u7684\u5b50\u5b59\u8282\u70b9\uff0c\u53ef\u4ee5\u901a\u8fc7Tag\u7684.descendants\u5c5e\u6027\u8fdb\u884c\u83b7\u53d6\u3002\u4f8b\u5982\uff1a"
     ]
    },
    {
     "cell_type": "code",
     "collapsed": false,
     "input": [
      "i = 1\n",
      "for descendant in soup.body.descendants:\n",
      "    print i,\":\",descendant\n",
      "    i += 1"
     ],
     "language": "python",
     "metadata": {},
     "outputs": [
      {
       "output_type": "stream",
       "stream": "stdout",
       "text": [
        "1 : \n",
        "\n",
        "2 : <p class=\"title\"><b>The Dormouse's story</b></p>\n",
        "3 : <b>The Dormouse's story</b>\n",
        "4 : The Dormouse's story\n",
        "5 : \n",
        "\n",
        "6 : <p class=\"story\"><a class=\"sister\" href=\"http://example.com/elsie\" id=\"link1\">Elsie</a>,\n",
        "<a class=\"sister\" href=\"http://example.com/lacie\" id=\"link2\">Lacie</a> and\n",
        "<a class=\"sister\" href=\"http://example.com/tillie\" id=\"link3\">Tillie</a>;\n",
        "and they lived at the bottom of a well.</p>\n",
        "7 : <a class=\"sister\" href=\"http://example.com/elsie\" id=\"link1\">Elsie</a>\n",
        "8 : Elsie\n",
        "9 : ,\n",
        "\n",
        "10 : <a class=\"sister\" href=\"http://example.com/lacie\" id=\"link2\">Lacie</a>\n",
        "11 : Lacie\n",
        "12 :  and\n",
        "\n",
        "13 : <a class=\"sister\" href=\"http://example.com/tillie\" id=\"link3\">Tillie</a>\n",
        "14 : Tillie\n",
        "15 : ;\n",
        "and they lived at the bottom of a well.\n",
        "16 : \n",
        "\n",
        "17 : <p class=\"story\">...</p>\n",
        "18 : ...\n",
        "19 : \n",
        "\n"
       ]
      }
     ],
     "prompt_number": 51
    },
    {
     "cell_type": "heading",
     "level": 3,
     "metadata": {},
     "source": [
      "\u6587\u672c\u5b50\u8282\u70b9"
     ]
    },
    {
     "cell_type": "markdown",
     "metadata": {},
     "source": [
      "\u5982\u679ctag\u53ea\u5305\u542b\u4e00\u4e2a NavigableString \u7c7b\u578b\u5b50\u8282\u70b9,\u90a3\u4e48\u8fd9\u4e2atag\u53ef\u4ee5\u4f7f\u7528 .string \u5f97\u5230\u5b50\u8282\u70b9:"
     ]
    },
    {
     "cell_type": "code",
     "collapsed": false,
     "input": [
      "soup.b.string"
     ],
     "language": "python",
     "metadata": {},
     "outputs": [
      {
       "metadata": {},
       "output_type": "pyout",
       "prompt_number": 52,
       "text": [
        "u\"The Dormouse's story\""
       ]
      }
     ],
     "prompt_number": 52
    },
    {
     "cell_type": "markdown",
     "metadata": {},
     "source": [
      "\u5982\u679c\u5143\u7d20\u8282\u70b9\u53ea\u5305\u542b\u4e00\u4e2a\u5143\u7d20\u5b50\u8282\u70b9\uff0c\u90a3\u4e48\u53ef\u4ee5\u5bf9\u8be5\u5143\u7d20\u8282\u70b9\u76f4\u63a5\u4f7f\u7528.string\u5c5e\u6027\u83b7\u53d6\u5176\u5b50\u5143\u7d20\u8282\u70b9\u7684\u6587\u672c\u8282\u70b9\u5185\u5bb9\u3002\u4f8b\u5982\uff1ahead\u8282\u70b9\u53ea\u5305\u542b\u4e00\u4e2atitle\u5b50\u8282\u70b9\uff0c\u90a3\u4e48\u901a\u8fc7head\u7684.string\u5c5e\u6027\uff0c\u5373\u53ef\u83b7\u53d6\u5176\u5b50\u5143\u7d20\u8282\u70b9title\u7684\u6587\u672c\u8282\u70b9\u3002"
     ]
    },
    {
     "cell_type": "code",
     "collapsed": false,
     "input": [
      "soup.head.string"
     ],
     "language": "python",
     "metadata": {},
     "outputs": [
      {
       "metadata": {},
       "output_type": "pyout",
       "prompt_number": 53,
       "text": [
        "u\"The Dormouse's story\""
       ]
      }
     ],
     "prompt_number": 53
    },
    {
     "cell_type": "markdown",
     "metadata": {},
     "source": [
      "\u5982\u679c\u5143\u7d20\u8282\u70b9\u4e2d\u5305\u542b\u591a\u4e2a\u6587\u672c\u5b50\u5b59\u8282\u70b9\u5c31\u53ef\u4ee5\u4f7f\u7528.strings\u5c5e\u6027\u5bf9\u5404\u6587\u672c\u8282\u70b9\u8fdb\u884c\u8fed\u4ee3\u8bbf\u95ee\uff1a"
     ]
    },
    {
     "cell_type": "code",
     "collapsed": false,
     "input": [
      "for string in soup.body.strings:\n",
      "    print repr(string)"
     ],
     "language": "python",
     "metadata": {},
     "outputs": [
      {
       "output_type": "stream",
       "stream": "stdout",
       "text": [
        "u'\\n'\n",
        "u\"The Dormouse's story\"\n",
        "u'\\n'\n",
        "u'Elsie'\n",
        "u',\\n'\n",
        "u'Lacie'\n",
        "u' and\\n'\n",
        "u'Tillie'\n",
        "u';\\nand they lived at the bottom of a well.'\n",
        "u'\\n'\n",
        "u'...'\n",
        "u'\\n'\n"
       ]
      }
     ],
     "prompt_number": 55
    },
    {
     "cell_type": "markdown",
     "metadata": {},
     "source": [
      "\u7531\u4e8eHTML\u6587\u6863\u4e2d\u5728\u5404\u8282\u70b9\u95f4\u5b58\u5728\u5f88\u591a\u7528\u4e8e\u683c\u5f0f\u5316\u7684\u7a7a\u767d\u7b26\uff0c\u8fd9\u4e9b\u7a7a\u767d\u7b26\u4e5f\u88ab\u770b\u4f5c\u662f\u6587\u672c\u8282\u70b9\uff0c\u56e0\u6b64\u4e0a\u9762\u901a\u8fc7.strings\u5c5e\u6027\u7684\u8fed\u4ee3\u8f93\u51fa\u4e2d\uff0c\u6211\u4eec\u53ef\u4ee5\u770b\u5230\u5f88\u591a\u56de\u8f66\u7b26\u7684\u8f93\u51fa\uff0c\u5982\u679c\u671f\u671b\u5ffd\u7565\u8fd9\u4e9b\u7a7a\u767d\u7b26\u6587\u8282\u70b9\uff0c\u53ef\u4ee5\u4f7f\u7528.stripped_strings\u5c5e\u6027\u6765\u5b9e\u73b0\uff0c\u4f8b\u5982\uff1a"
     ]
    },
    {
     "cell_type": "code",
     "collapsed": false,
     "input": [
      "for string in soup.body.stripped_strings:\n",
      "    print repr(string)"
     ],
     "language": "python",
     "metadata": {},
     "outputs": [
      {
       "output_type": "stream",
       "stream": "stdout",
       "text": [
        "u\"The Dormouse's story\"\n",
        "u'Elsie'\n",
        "u','\n",
        "u'Lacie'\n",
        "u'and'\n",
        "u'Tillie'\n",
        "u';\\nand they lived at the bottom of a well.'\n",
        "u'...'\n"
       ]
      }
     ],
     "prompt_number": 56
    },
    {
     "cell_type": "heading",
     "level": 3,
     "metadata": {},
     "source": [
      "\u7236\u8282\u70b9"
     ]
    },
    {
     "cell_type": "markdown",
     "metadata": {},
     "source": [
      "\u901a\u8fc7 .parent \u5c5e\u6027\u6765\u83b7\u53d6\u67d0\u4e2a\u5143\u7d20\u7684\u7236\u8282\u70b9.\u5728\u4f8b\u5b50\u201c\u7231\u4e3d\u4e1d\u201d\u7684\u6587\u6863\u4e2d,head\u6807\u7b7e\u662ftitle\u6807\u7b7e\u7684\u7236\u8282\u70b9:"
     ]
    },
    {
     "cell_type": "code",
     "collapsed": false,
     "input": [
      "title_tag = soup.title\n",
      "title_tag"
     ],
     "language": "python",
     "metadata": {},
     "outputs": [
      {
       "metadata": {},
       "output_type": "pyout",
       "prompt_number": 57,
       "text": [
        "<title>The Dormouse's story</title>"
       ]
      }
     ],
     "prompt_number": 57
    },
    {
     "cell_type": "code",
     "collapsed": false,
     "input": [
      "title_tag.parent"
     ],
     "language": "python",
     "metadata": {},
     "outputs": [
      {
       "metadata": {},
       "output_type": "pyout",
       "prompt_number": 58,
       "text": [
        "<head><title>The Dormouse's story</title></head>"
       ]
      }
     ],
     "prompt_number": 58
    },
    {
     "cell_type": "heading",
     "level": 3,
     "metadata": {},
     "source": [
      "\u7236\u8f88\u8282\u70b9"
     ]
    },
    {
     "cell_type": "markdown",
     "metadata": {},
     "source": [
      "\u901a\u8fc7\u5143\u7d20\u7684 .parents \u5c5e\u6027\u53ef\u4ee5\u9012\u5f52\u5f97\u5230\u5143\u7d20\u7684\u6240\u6709\u7236\u8f88\u8282\u70b9,\u4e0b\u9762\u7684\u4f8b\u5b50\u4f7f\u7528\u4e86.parents \u65b9\u6cd5\u904d\u5386\u4e86\u5143\u7d20\u5230\u6839\u8282\u70b9\u7684\u6240\u6709\u8282\u70b9."
     ]
    },
    {
     "cell_type": "code",
     "collapsed": false,
     "input": [
      "link = soup.a\n",
      "link"
     ],
     "language": "python",
     "metadata": {},
     "outputs": [
      {
       "metadata": {},
       "output_type": "pyout",
       "prompt_number": 59,
       "text": [
        "<a class=\"sister\" href=\"http://example.com/elsie\" id=\"link1\">Elsie</a>"
       ]
      }
     ],
     "prompt_number": 59
    },
    {
     "cell_type": "code",
     "collapsed": false,
     "input": [
      "for parent in link.parents:\n",
      "    if parent is None:\n",
      "        print parent\n",
      "    else:\n",
      "        print(parent.name)"
     ],
     "language": "python",
     "metadata": {},
     "outputs": [
      {
       "output_type": "stream",
       "stream": "stdout",
       "text": [
        "p\n",
        "body\n",
        "html\n",
        "[document]\n"
       ]
      }
     ],
     "prompt_number": 60
    },
    {
     "cell_type": "heading",
     "level": 3,
     "metadata": {},
     "source": [
      "\u5144\u5f1f\u8282\u70b9"
     ]
    },
    {
     "cell_type": "markdown",
     "metadata": {},
     "source": [
      "\u5728\u6807\u8bb0\u6587\u6863\u6811\u4e2d\uff0c\u5177\u6709\u76f8\u540c\u7236\u8282\u70b9\u7684\u8282\u70b9\u4e92\u79f0\u4e3a\u5144\u5f1f\u8282\u70b9\uff0c\u8bbf\u95ee\u67d0\u4e2a\u8282\u70b9\u7684\u5144\u5f1f\u8282\u70b9\uff0c\u53ef\u4ee5\u6839\u636e\u5144\u5f1f\u8282\u70b9\u5728\u8be5\u8282\u70b9\u4e4b\u524d\u548c\u4e4b\u540e\u6765\u4f7f\u7528.previous_sibling \u548c .next_sibling\u6765\u8bbf\u95ee\uff1a"
     ]
    },
    {
     "cell_type": "code",
     "collapsed": false,
     "input": [
      "link2_tag = soup.find(id=\"link2\")\n",
      "link2_tag"
     ],
     "language": "python",
     "metadata": {},
     "outputs": [
      {
       "metadata": {},
       "output_type": "pyout",
       "prompt_number": 5,
       "text": [
        "<a class=\"sister\" href=\"http://example.com/lacie\" id=\"link2\">Lacie</a>"
       ]
      }
     ],
     "prompt_number": 5
    },
    {
     "cell_type": "code",
     "collapsed": false,
     "input": [
      "link2_tag.previous_sibling"
     ],
     "language": "python",
     "metadata": {},
     "outputs": [
      {
       "metadata": {},
       "output_type": "pyout",
       "prompt_number": 70,
       "text": [
        "u',\\n'"
       ]
      }
     ],
     "prompt_number": 70
    },
    {
     "cell_type": "code",
     "collapsed": false,
     "input": [
      "link2_tag.previous_sibling.previous_sibling"
     ],
     "language": "python",
     "metadata": {},
     "outputs": [
      {
       "metadata": {},
       "output_type": "pyout",
       "prompt_number": 6,
       "text": [
        "<a class=\"sister\" href=\"http://example.com/elsie\" id=\"link1\">Elsie</a>"
       ]
      }
     ],
     "prompt_number": 6
    },
    {
     "cell_type": "code",
     "collapsed": false,
     "input": [
      "link2_tag.next_sibling"
     ],
     "language": "python",
     "metadata": {},
     "outputs": [
      {
       "metadata": {},
       "output_type": "pyout",
       "prompt_number": 72,
       "text": [
        "u' and\\n'"
       ]
      }
     ],
     "prompt_number": 72
    },
    {
     "cell_type": "code",
     "collapsed": false,
     "input": [
      "link2_tag.next_sibling.next_sibling"
     ],
     "language": "python",
     "metadata": {},
     "outputs": [
      {
       "metadata": {},
       "output_type": "pyout",
       "prompt_number": 7,
       "text": [
        "<a class=\"sister\" href=\"http://example.com/tillie\" id=\"link3\">Tillie</a>"
       ]
      }
     ],
     "prompt_number": 7
    },
    {
     "cell_type": "markdown",
     "metadata": {},
     "source": [
      "\u901a\u8fc7 .next_siblings \u548c .previous_siblings \u5c5e\u6027\u53ef\u4ee5\u5bf9\u5f53\u524d\u8282\u70b9\u7684\u5144\u5f1f\u8282\u70b9\u8fed\u4ee3\u8f93\u51fa:"
     ]
    },
    {
     "cell_type": "code",
     "collapsed": false,
     "input": [
      "for sibling in soup.a.next_siblings:\n",
      "    print(repr(sibling))"
     ],
     "language": "python",
     "metadata": {},
     "outputs": [
      {
       "output_type": "stream",
       "stream": "stdout",
       "text": [
        "u',\\n'\n",
        "<a class=\"sister\" href=\"http://example.com/lacie\" id=\"link2\">Lacie</a>\n",
        "u' and\\n'\n",
        "<a class=\"sister\" href=\"http://example.com/tillie\" id=\"link3\">Tillie</a>\n",
        "u';\\nand they lived at the bottom of a well.'\n"
       ]
      }
     ],
     "prompt_number": 8
    },
    {
     "cell_type": "code",
     "collapsed": false,
     "input": [
      "for sibling in soup.find(id=\"link3\").previous_siblings:\n",
      "    print(repr(sibling))"
     ],
     "language": "python",
     "metadata": {},
     "outputs": [
      {
       "output_type": "stream",
       "stream": "stdout",
       "text": [
        "u' and\\n'\n",
        "<a class=\"sister\" href=\"http://example.com/lacie\" id=\"link2\">Lacie</a>\n",
        "u',\\n'\n",
        "<a class=\"sister\" href=\"http://example.com/elsie\" id=\"link1\">Elsie</a>\n"
       ]
      }
     ],
     "prompt_number": 9
    },
    {
     "cell_type": "heading",
     "level": 3,
     "metadata": {},
     "source": [
      "\u904d\u5386\u89e3\u6790\u6587\u6863\uff1a.next_element \u548c .previous_element"
     ]
    },
    {
     "cell_type": "markdown",
     "metadata": {},
     "source": [
      "\u4ece\u524d\u5f80\u540e\u4f9d\u6b21\u904d\u5386HTML\u6587\u6863\uff1a"
     ]
    },
    {
     "cell_type": "code",
     "collapsed": false,
     "input": [
      "html_tag = soup.html\n",
      "i = 1\n",
      "while html_tag is not None:\n",
      "    html_tag = html_tag.next_element\n",
      "    print \"%d:%s\" % (i,repr(html_tag))\n",
      "    i += 1"
     ],
     "language": "python",
     "metadata": {},
     "outputs": [
      {
       "output_type": "stream",
       "stream": "stdout",
       "text": [
        "1:<head><title>The Dormouse's story</title></head>\n",
        "2:<title>The Dormouse's story</title>\n",
        "3:u\"The Dormouse's story\"\n",
        "4:u'\\n'\n",
        "5:<body>\n",
        "<p class=\"title\"><b>The Dormouse's story</b></p>\n",
        "<p class=\"story\"><a class=\"sister\" href=\"http://example.com/elsie\" id=\"link1\">Elsie</a>,\n",
        "<a class=\"sister\" href=\"http://example.com/lacie\" id=\"link2\">Lacie</a> and\n",
        "<a class=\"sister\" href=\"http://example.com/tillie\" id=\"link3\">Tillie</a>;\n",
        "and they lived at the bottom of a well.</p>\n",
        "<p class=\"story\">...</p>\n",
        "</body>\n",
        "6:u'\\n'\n",
        "7:<p class=\"title\"><b>The Dormouse's story</b></p>\n",
        "8:<b>The Dormouse's story</b>\n",
        "9:u\"The Dormouse's story\"\n",
        "10:u'\\n'\n",
        "11:<p class=\"story\"><a class=\"sister\" href=\"http://example.com/elsie\" id=\"link1\">Elsie</a>,\n",
        "<a class=\"sister\" href=\"http://example.com/lacie\" id=\"link2\">Lacie</a> and\n",
        "<a class=\"sister\" href=\"http://example.com/tillie\" id=\"link3\">Tillie</a>;\n",
        "and they lived at the bottom of a well.</p>\n",
        "12:<a class=\"sister\" href=\"http://example.com/elsie\" id=\"link1\">Elsie</a>\n",
        "13:u'Elsie'\n",
        "14:u',\\n'\n",
        "15:<a class=\"sister\" href=\"http://example.com/lacie\" id=\"link2\">Lacie</a>\n",
        "16:u'Lacie'\n",
        "17:u' and\\n'\n",
        "18:<a class=\"sister\" href=\"http://example.com/tillie\" id=\"link3\">Tillie</a>\n",
        "19:u'Tillie'\n",
        "20:u';\\nand they lived at the bottom of a well.'\n",
        "21:u'\\n'\n",
        "22:<p class=\"story\">...</p>\n",
        "23:u'...'\n",
        "24:u'\\n'\n",
        "25:None\n"
       ]
      }
     ],
     "prompt_number": 18
    },
    {
     "cell_type": "markdown",
     "metadata": {},
     "source": [
      "\u4ece\u540e\u5f80\u524d\u904d\u5386HTML\u6587\u6863\uff1a"
     ]
    },
    {
     "cell_type": "code",
     "collapsed": false,
     "input": [
      "link3_tag = soup.find(\"a\",id=\"link3\")\n",
      "i = 1\n",
      "while link3_tag is not None:\n",
      "    link3_tag = link3_tag.previous_element\n",
      "    print \"%d:%s\" % (i,repr(link3_tag))\n",
      "    i += 1"
     ],
     "language": "python",
     "metadata": {},
     "outputs": [
      {
       "output_type": "stream",
       "stream": "stdout",
       "text": [
        "1:u' and\\n'\n",
        "2:u'Lacie'\n",
        "3:<a class=\"sister\" href=\"http://example.com/lacie\" id=\"link2\">Lacie</a>\n",
        "4:u',\\n'\n",
        "5:u'Elsie'\n",
        "6:<a class=\"sister\" href=\"http://example.com/elsie\" id=\"link1\">Elsie</a>\n",
        "7:<p class=\"story\"><a class=\"sister\" href=\"http://example.com/elsie\" id=\"link1\">Elsie</a>,\n",
        "<a class=\"sister\" href=\"http://example.com/lacie\" id=\"link2\">Lacie</a> and\n",
        "<a class=\"sister\" href=\"http://example.com/tillie\" id=\"link3\">Tillie</a>;\n",
        "and they lived at the bottom of a well.</p>\n",
        "8:u'\\n'\n",
        "9:u\"The Dormouse's story\"\n",
        "10:<b>The Dormouse's story</b>\n",
        "11:<p class=\"title\"><b>The Dormouse's story</b></p>\n",
        "12:u'\\n'\n",
        "13:<body>\n",
        "<p class=\"title\"><b>The Dormouse's story</b></p>\n",
        "<p class=\"story\"><a class=\"sister\" href=\"http://example.com/elsie\" id=\"link1\">Elsie</a>,\n",
        "<a class=\"sister\" href=\"http://example.com/lacie\" id=\"link2\">Lacie</a> and\n",
        "<a class=\"sister\" href=\"http://example.com/tillie\" id=\"link3\">Tillie</a>;\n",
        "and they lived at the bottom of a well.</p>\n",
        "<p class=\"story\">...</p>\n",
        "</body>\n",
        "14:u'\\n'\n",
        "15:u\"The Dormouse's story\"\n",
        "16:<title>The Dormouse's story</title>\n",
        "17:<head><title>The Dormouse's story</title></head>\n",
        "18:<html><head><title>The Dormouse's story</title></head>\n",
        "<body>\n",
        "<p class=\"title\"><b>The Dormouse's story</b></p>\n",
        "<p class=\"story\"><a class=\"sister\" href=\"http://example.com/elsie\" id=\"link1\">Elsie</a>,\n",
        "<a class=\"sister\" href=\"http://example.com/lacie\" id=\"link2\">Lacie</a> and\n",
        "<a class=\"sister\" href=\"http://example.com/tillie\" id=\"link3\">Tillie</a>;\n",
        "and they lived at the bottom of a well.</p>\n",
        "<p class=\"story\">...</p>\n",
        "</body></html>\n",
        "19:None\n"
       ]
      }
     ],
     "prompt_number": 19
    },
    {
     "cell_type": "code",
     "collapsed": false,
     "input": [],
     "language": "python",
     "metadata": {},
     "outputs": []
    }
   ],
   "metadata": {}
  }
 ]
}