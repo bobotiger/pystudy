{
 "metadata": {
  "name": "",
  "signature": "sha256:66121e838734bfefa1ad355ae723a2e691e8ffc94d381427c253c2820eed1822"
 },
 "nbformat": 3,
 "nbformat_minor": 0,
 "worksheets": [
  {
   "cells": [
    {
     "cell_type": "code",
     "collapsed": false,
     "input": [
      "import xml.sax"
     ],
     "language": "python",
     "metadata": {},
     "outputs": [],
     "prompt_number": 1
    },
    {
     "cell_type": "code",
     "collapsed": false,
     "input": [
      "dir(xml.sax)"
     ],
     "language": "python",
     "metadata": {},
     "outputs": [
      {
       "metadata": {},
       "output_type": "pyout",
       "prompt_number": 2,
       "text": [
        "['ContentHandler',\n",
        " 'ErrorHandler',\n",
        " 'InputSource',\n",
        " 'SAXException',\n",
        " 'SAXNotRecognizedException',\n",
        " 'SAXNotSupportedException',\n",
        " 'SAXParseException',\n",
        " 'SAXReaderNotAvailable',\n",
        " '__builtins__',\n",
        " '__doc__',\n",
        " '__file__',\n",
        " '__name__',\n",
        " '__package__',\n",
        " '__path__',\n",
        " '_create_parser',\n",
        " '_exceptions',\n",
        " '_false',\n",
        " '_key',\n",
        " 'default_parser_list',\n",
        " 'handler',\n",
        " 'make_parser',\n",
        " 'parse',\n",
        " 'parseString',\n",
        " 'xmlreader']"
       ]
      }
     ],
     "prompt_number": 2
    },
    {
     "cell_type": "code",
     "collapsed": false,
     "input": [
      "help(xml.sax.parse)"
     ],
     "language": "python",
     "metadata": {},
     "outputs": [
      {
       "output_type": "stream",
       "stream": "stdout",
       "text": [
        "Help on function parse in module xml.sax:\n",
        "\n",
        "parse(source, handler, errorHandler=<xml.sax.handler.ErrorHandler instance>)\n",
        "\n"
       ]
      }
     ],
     "prompt_number": 5
    },
    {
     "cell_type": "code",
     "collapsed": false,
     "input": [
      "from xml.sax import parse"
     ],
     "language": "python",
     "metadata": {},
     "outputs": [],
     "prompt_number": 6
    },
    {
     "cell_type": "code",
     "collapsed": false,
     "input": [
      "help(parse)"
     ],
     "language": "python",
     "metadata": {},
     "outputs": [
      {
       "output_type": "stream",
       "stream": "stdout",
       "text": [
        "Help on function parse in module xml.sax:\n",
        "\n",
        "parse(source, handler, errorHandler=<xml.sax.handler.ErrorHandler instance>)\n",
        "\n"
       ]
      }
     ],
     "prompt_number": 7
    },
    {
     "cell_type": "code",
     "collapsed": false,
     "input": [
      "dir(xml.sax.handler)"
     ],
     "language": "python",
     "metadata": {},
     "outputs": [
      {
       "metadata": {},
       "output_type": "pyout",
       "prompt_number": 9,
       "text": [
        "['ContentHandler',\n",
        " 'DTDHandler',\n",
        " 'EntityResolver',\n",
        " 'ErrorHandler',\n",
        " '__builtins__',\n",
        " '__doc__',\n",
        " '__file__',\n",
        " '__name__',\n",
        " '__package__',\n",
        " 'all_features',\n",
        " 'all_properties',\n",
        " 'feature_external_ges',\n",
        " 'feature_external_pes',\n",
        " 'feature_namespace_prefixes',\n",
        " 'feature_namespaces',\n",
        " 'feature_string_interning',\n",
        " 'feature_validation',\n",
        " 'property_declaration_handler',\n",
        " 'property_dom_node',\n",
        " 'property_encoding',\n",
        " 'property_interning_dict',\n",
        " 'property_lexical_handler',\n",
        " 'property_xml_string',\n",
        " 'version']"
       ]
      }
     ],
     "prompt_number": 9
    },
    {
     "cell_type": "code",
     "collapsed": false,
     "input": [
      "from xml.sax.handler import ContentHandler"
     ],
     "language": "python",
     "metadata": {},
     "outputs": [],
     "prompt_number": 11
    },
    {
     "cell_type": "code",
     "collapsed": false,
     "input": [
      "dir(ContentHandler)"
     ],
     "language": "python",
     "metadata": {},
     "outputs": [
      {
       "metadata": {},
       "output_type": "pyout",
       "prompt_number": 12,
       "text": [
        "['__doc__',\n",
        " '__init__',\n",
        " '__module__',\n",
        " 'characters',\n",
        " 'endDocument',\n",
        " 'endElement',\n",
        " 'endElementNS',\n",
        " 'endPrefixMapping',\n",
        " 'ignorableWhitespace',\n",
        " 'processingInstruction',\n",
        " 'setDocumentLocator',\n",
        " 'skippedEntity',\n",
        " 'startDocument',\n",
        " 'startElement',\n",
        " 'startElementNS',\n",
        " 'startPrefixMapping']"
       ]
      }
     ],
     "prompt_number": 12
    },
    {
     "cell_type": "code",
     "collapsed": false,
     "input": [
      "help(ContentHandler.startElement)"
     ],
     "language": "python",
     "metadata": {},
     "outputs": [
      {
       "output_type": "stream",
       "stream": "stdout",
       "text": [
        "Help on method startElement in module xml.sax.handler:\n",
        "\n",
        "startElement(self, name, attrs) unbound xml.sax.handler.ContentHandler method\n",
        "    Signals the start of an element in non-namespace mode.\n",
        "    \n",
        "    The name parameter contains the raw XML 1.0 name of the\n",
        "    element type as a string and the attrs parameter holds an\n",
        "    instance of the Attributes class containing the attributes of\n",
        "    the element.\n",
        "\n"
       ]
      }
     ],
     "prompt_number": 14
    },
    {
     "cell_type": "code",
     "collapsed": false,
     "input": [
      "class myhandler(ContentHandler):\n",
      "    def __init__(self):\n",
      "        self.inTitle = 0\n",
      "        self.inAuthor = 0\n",
      "        \n",
      "    def startElement(self,name,attrs):\n",
      "        if name == \"book\":\n",
      "            self.isbn = attrs[\"isbn\"]\n",
      "            print \"book:\","
     ],
     "language": "python",
     "metadata": {},
     "outputs": []
    }
   ],
   "metadata": {}
  }
 ]
}