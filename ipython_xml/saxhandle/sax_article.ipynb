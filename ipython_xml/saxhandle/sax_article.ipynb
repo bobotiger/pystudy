{
 "metadata": {
  "name": "",
  "signature": "sha256:8ccdc39911125f367d7c922c27f10f9180027a27942ac37efeca26c5f6141a6c"
 },
 "nbformat": 3,
 "nbformat_minor": 0,
 "worksheets": [
  {
   "cells": [
    {
     "cell_type": "code",
     "collapsed": false,
     "input": [
      "ls"
     ],
     "language": "python",
     "metadata": {},
     "outputs": [
      {
       "output_type": "stream",
       "stream": "stdout",
       "text": [
        "\u001b[0m\u001b[01;34marticle\u001b[0m/  \u001b[01;34mbook\u001b[0m/  \u001b[01;34mfileindex\u001b[0m/  \u001b[01;34mstudent\u001b[0m/  xmlsax.ipynb\r\n"
       ]
      }
     ],
     "prompt_number": 1
    },
    {
     "cell_type": "code",
     "collapsed": false,
     "input": [
      "cd article"
     ],
     "language": "python",
     "metadata": {},
     "outputs": [
      {
       "output_type": "stream",
       "stream": "stdout",
       "text": [
        "/home/whpuser/ipython_xml/saxhandle/article\n"
       ]
      }
     ],
     "prompt_number": 3
    },
    {
     "cell_type": "code",
     "collapsed": false,
     "input": [
      "!cat article.xml"
     ],
     "language": "python",
     "metadata": {},
     "outputs": [
      {
       "output_type": "stream",
       "stream": "stdout",
       "text": [
        "<?xml version=\"1.0\"?>\r\n",
        "<webArticle category=\"news\" subcategory=\"technical\">\r\n",
        "<header title=\"NASA Builds Warp Drive\" length=\"3k\" author=\"Joe Reporter\" distribution=\"all\"/>\r\n",
        "<body>Seattle, WA - Today an anonymous individual announced that NASA has completed building a Warp Drive and has parked a ship that uses the drive in his back yard. This individual claims that although he hasn't been contacted by NASA concerning the parked space vessel, he assumes that he will be launching it later this week to mount an exhibition to the Andromeda Galaxy.\r\n",
        "</body>\r\n",
        "</webArticle>\r\n"
       ]
      }
     ],
     "prompt_number": 4
    },
    {
     "cell_type": "code",
     "collapsed": false,
     "input": [
      "!cat handlers.py"
     ],
     "language": "python",
     "metadata": {},
     "outputs": [
      {
       "output_type": "stream",
       "stream": "stdout",
       "text": [
        "# --*-- coding=utf-8 --*--\r\n",
        "from xml.sax import ContentHandler\r\n",
        "class ArticleHandler(ContentHandler): #\u521b\u5efa\u7ee7\u627f\u4e8eContentHandler\u7c7b\u7684\u5b50\u7c7b\r\n",
        "    \"\"\"\r\n",
        "    \u7528\u4e8e\u5904\u7406article.xml\u6587\u6863\u7684\u5185\u5bb9\u4e8b\u4ef6\u5904\u7406\u5668\u7c7b\r\n",
        "    \"\"\"\r\n",
        "    inArticle = 0\t        #\u662f\u5426\u5728webArticle\u5143\u7d20\u4e2d\r\n",
        "    inBody = 0      \t        #\u662f\u5426\u5728body\u5143\u7d20\u4e2d\r\n",
        "    isMatch = 0\t\t        #\u662f\u5426\u627e\u5230\u6240\u9700\u5143\u7d20\r\n",
        "    title = \"\"\t\t\t#\u7c7b\u6210\u5458\u53d8\u91cf\r\n",
        "    body = \"\"\t\t\t#\u7c7b\u6210\u5458\u53d8\u91cf\r\n",
        "    \r\n",
        "    def startElement(self,name,attrs):\t\t\t#1.\u65b9\u6cd5startElement\u91cd\u8f7d\r\n",
        "        if name == \"webArticle\":\t\t\t#\u5982\u679c\u5f53\u524d\u5904\u7406\u5143\u7d20\u4e3awebArticle\r\n",
        "            subcat = attrs.get(\"subcategory\",\"\")        #\u83b7\u53d6\u8be5\u5143\u7d20\u7684\u5c5e\u6027subcategory\u7684\u503c\r\n",
        "            if subcat.find(\"tech\") > -1:\t\t#\u5982\u679c\u5c5e\u6027\u503c\u4e2d\u5305\u542b\"tech\"\r\n",
        "                self.inArticle = 1\t\t\r\n",
        "                self.isMatch = 1\r\n",
        "        elif self.inArticle:\t\t\t\t#\u5982\u679c\u5728webArticle\u5143\u7d20\u4e2d\r\n",
        "            if name == \"header\":\t\t\t#\u5982\u679c\u5f53\u524d\u5904\u7406\u5143\u7d20\u4e3aheader\r\n",
        "                self.title = attrs.get(\"title\",\"\")\r\n",
        "            if name == \"body\":\t\t\t\t#\u5982\u679c\u5f53\u524d\u5904\u7406\u5143\u7d20\u4e3abody\r\n",
        "                self.inBody = 1\r\n",
        "\r\n",
        "    def characters(self,characters):\t\t        #2.\u65b9\u6cd5characters\u91cd\u8f7d\r\n",
        "        if self.inBody:\t\t\t\t\t#\u5982\u679c\u5728\u5143\u7d20body\u4e2d\r\n",
        "            if len(self.body) < 80:\r\n",
        "                self.body += characters\r\n",
        "            if len(self.body) > 80:\r\n",
        "                self.body = self.body[:78] + \"...\"\r\n",
        "            self.inBody = 0\t\t\t\t\r\n",
        "\r\n",
        "    def endElement(self,name):\t\t\t\t#3.\u65b9\u6cd5endElement\u91cd\u8f7d\r\n",
        "        if name == \"body\":\r\n",
        "            self.inBody = 0\r\n",
        "\r\n",
        "\r\n"
       ]
      }
     ],
     "prompt_number": 7
    },
    {
     "cell_type": "code",
     "collapsed": false,
     "input": [
      "!cat art.py"
     ],
     "language": "python",
     "metadata": {},
     "outputs": [
      {
       "output_type": "stream",
       "stream": "stdout",
       "text": [
        "#!/usr/bin/env python\r\n",
        "# --*-- coding=utf-8 --*--\r\n",
        "#art.py\r\n",
        "\r\n",
        "import sys\r\n",
        "from xml.sax import make_parser\r\n",
        "from handlers import ArticleHandler\r\n",
        "\r\n",
        "ch = ArticleHandler()\t\t#\u521b\u5efa\u5185\u5bb9\u4e8b\u4ef6\u5904\u7406\u5668\u5bf9\u8c61\r\n",
        "saxparser = make_parser()   \t#\u521b\u5efaSAX\u89e3\u6790\u5668\u5bf9\u8c61\r\n",
        "\r\n",
        "saxparser.setContentHandler(ch) #\u4e3a\u89e3\u6790\u5668\u5236\u5b9a\u4e8b\u4ef6\u5904\u7406\u5668\r\n",
        "saxparser.parse(sys.stdin)      #\u4ece\u7cfb\u7edf\u6807\u51c6\u8f93\u5165\u63a5\u6536XML\u6587\u6863\u8fdb\u884c\u89e3\u6790 \r\n",
        "\r\n",
        "if ch.isMatch:\t\t\t#\u5982\u679cch.isMatch\u4e3a\u771f\r\n",
        "    print \"News Item!\"          #\u6253\u5370\u8f93\u51fa\r\n",
        "    print \"Title:\",ch.title\r\n",
        "    print \"Body:\",ch.body\r\n"
       ]
      }
     ],
     "prompt_number": 8
    },
    {
     "cell_type": "code",
     "collapsed": false,
     "input": [
      "!./art.py < article.xml"
     ],
     "language": "python",
     "metadata": {},
     "outputs": [
      {
       "output_type": "stream",
       "stream": "stdout",
       "text": [
        "News Item!\r\n",
        "Title: NASA Builds Warp Drive\r\n",
        "Body: Seattle, WA - Today an anonymous individual announced that NASA has completed ...\r\n"
       ]
      }
     ],
     "prompt_number": 4
    },
    {
     "cell_type": "code",
     "collapsed": false,
     "input": [],
     "language": "python",
     "metadata": {},
     "outputs": []
    }
   ],
   "metadata": {}
  }
 ]
}