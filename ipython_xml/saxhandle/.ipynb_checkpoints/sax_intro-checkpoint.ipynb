{
 "metadata": {
  "name": "",
  "signature": "sha256:e1a19e012582733d5c9f321e1fe6b0233644fa5cd2302c8912b53e60e4ba6729"
 },
 "nbformat": 3,
 "nbformat_minor": 0,
 "worksheets": [
  {
   "cells": [
    {
     "cell_type": "code",
     "collapsed": false,
     "input": [
      "import xml.sax"
     ],
     "language": "python",
     "metadata": {},
     "outputs": [],
     "prompt_number": 1
    },
    {
     "cell_type": "code",
     "collapsed": false,
     "input": [
      "dir(xml.sax)"
     ],
     "language": "python",
     "metadata": {},
     "outputs": [
      {
       "metadata": {},
       "output_type": "pyout",
       "prompt_number": 2,
       "text": [
        "['ContentHandler',\n",
        " 'ErrorHandler',\n",
        " 'InputSource',\n",
        " 'SAXException',\n",
        " 'SAXNotRecognizedException',\n",
        " 'SAXNotSupportedException',\n",
        " 'SAXParseException',\n",
        " 'SAXReaderNotAvailable',\n",
        " '__builtins__',\n",
        " '__doc__',\n",
        " '__file__',\n",
        " '__name__',\n",
        " '__package__',\n",
        " '__path__',\n",
        " '_create_parser',\n",
        " '_exceptions',\n",
        " '_false',\n",
        " '_key',\n",
        " 'default_parser_list',\n",
        " 'handler',\n",
        " 'make_parser',\n",
        " 'parse',\n",
        " 'parseString',\n",
        " 'xmlreader']"
       ]
      }
     ],
     "prompt_number": 2
    },
    {
     "cell_type": "code",
     "collapsed": false,
     "input": [
      "help(xml.sax.parse)"
     ],
     "language": "python",
     "metadata": {},
     "outputs": [
      {
       "output_type": "stream",
       "stream": "stdout",
       "text": [
        "Help on function parse in module xml.sax:\n",
        "\n",
        "parse(source, handler, errorHandler=<xml.sax.handler.ErrorHandler instance>)\n",
        "\n"
       ]
      }
     ],
     "prompt_number": 5
    },
    {
     "cell_type": "code",
     "collapsed": false,
     "input": [
      "from xml.sax import parse"
     ],
     "language": "python",
     "metadata": {},
     "outputs": [],
     "prompt_number": 6
    },
    {
     "cell_type": "code",
     "collapsed": false,
     "input": [
      "help(parse)"
     ],
     "language": "python",
     "metadata": {},
     "outputs": [
      {
       "output_type": "stream",
       "stream": "stdout",
       "text": [
        "Help on function parse in module xml.sax:\n",
        "\n",
        "parse(source, handler, errorHandler=<xml.sax.handler.ErrorHandler instance>)\n",
        "\n"
       ]
      }
     ],
     "prompt_number": 7
    },
    {
     "cell_type": "code",
     "collapsed": false,
     "input": [
      "dir(xml.sax.handler)"
     ],
     "language": "python",
     "metadata": {},
     "outputs": [
      {
       "metadata": {},
       "output_type": "pyout",
       "prompt_number": 9,
       "text": [
        "['ContentHandler',\n",
        " 'DTDHandler',\n",
        " 'EntityResolver',\n",
        " 'ErrorHandler',\n",
        " '__builtins__',\n",
        " '__doc__',\n",
        " '__file__',\n",
        " '__name__',\n",
        " '__package__',\n",
        " 'all_features',\n",
        " 'all_properties',\n",
        " 'feature_external_ges',\n",
        " 'feature_external_pes',\n",
        " 'feature_namespace_prefixes',\n",
        " 'feature_namespaces',\n",
        " 'feature_string_interning',\n",
        " 'feature_validation',\n",
        " 'property_declaration_handler',\n",
        " 'property_dom_node',\n",
        " 'property_encoding',\n",
        " 'property_interning_dict',\n",
        " 'property_lexical_handler',\n",
        " 'property_xml_string',\n",
        " 'version']"
       ]
      }
     ],
     "prompt_number": 9
    },
    {
     "cell_type": "code",
     "collapsed": false,
     "input": [
      "from xml.sax.handler import ContentHandler"
     ],
     "language": "python",
     "metadata": {},
     "outputs": [],
     "prompt_number": 11
    },
    {
     "cell_type": "code",
     "collapsed": false,
     "input": [],
     "language": "python",
     "metadata": {},
     "outputs": []
    }
   ],
   "metadata": {}
  }
 ]
}