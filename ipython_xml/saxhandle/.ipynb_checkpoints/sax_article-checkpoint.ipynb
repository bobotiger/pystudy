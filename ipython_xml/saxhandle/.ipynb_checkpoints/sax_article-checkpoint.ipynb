{
 "metadata": {
  "name": "",
  "signature": "sha256:b6dab2eb4896d550dfac8133bcfa8248bddea7f7bba695d744e70e0c071b806f"
 },
 "nbformat": 3,
 "nbformat_minor": 0,
 "worksheets": [
  {
   "cells": [
    {
     "cell_type": "code",
     "collapsed": false,
     "input": [
      "ls"
     ],
     "language": "python",
     "metadata": {},
     "outputs": [
      {
       "output_type": "stream",
       "stream": "stdout",
       "text": [
        "article.xml  art.py  handlers.py  handlers.pyc  xmlsax.ipynb\r\n"
       ]
      }
     ],
     "prompt_number": 1
    },
    {
     "cell_type": "code",
     "collapsed": false,
     "input": [
      "!cat article.xml"
     ],
     "language": "python",
     "metadata": {},
     "outputs": [
      {
       "output_type": "stream",
       "stream": "stdout",
       "text": [
        "<?xml version=\"1.0\"?>\r\n",
        "<webArticle category=\"news\" subcategory=\"technical\">\r\n",
        "<header title=\"NASA Builds Warp Drive\" length=\"3k\" author=\"Joe Reporter\" distribution=\"all\"/>\r\n",
        "<body>Seattle, WA - Today an anonymous individual announced that NASA has completed building a Warp Drive and has parked a ship that uses the drive in his back yard. This individual claims that although he hasn't been contacted by NASA concerning the parked space vessel, he assumes that he will be launching it later this week to mount an exhibition to the Andromeda Galaxy.\r\n",
        "</body>\r\n",
        "</webArticle>\r\n"
       ]
      }
     ],
     "prompt_number": 5
    },
    {
     "cell_type": "code",
     "collapsed": false,
     "input": [
      "!cat handlers.py"
     ],
     "language": "python",
     "metadata": {},
     "outputs": [
      {
       "output_type": "stream",
       "stream": "stdout",
       "text": [
        "# - ArticleHandler (add to handlers.py file)\r\n",
        "from xml.sax import ContentHandler\r\n",
        "class ArticleHandler(ContentHandler):\r\n",
        "    \"\"\"\r\n",
        "    A handler to deal with articles in XML\r\n",
        "    \"\"\"\r\n",
        "    inArticle = 0\r\n",
        "    inBody = 0\r\n",
        "    isMatch = 0\r\n",
        "    title = \"\"\r\n",
        "    body = \"\"\r\n",
        "    \r\n",
        "    def startElement(self,name,attrs):\r\n",
        "        if name == \"webArticle\":\r\n",
        "            subcat = attrs.get(\"subcategory\",\"\")\r\n",
        "            if subcat.find(\"tech\") > -1:\r\n",
        "                self.inArticle = 1\r\n",
        "                self.isMatch = 1\r\n",
        "        elif self.inArticle:\r\n",
        "            if name == \"header\":\r\n",
        "                self.title = attrs.get(\"title\",\"\")\r\n",
        "            if name == \"body\":\r\n",
        "                self.inBody = 1\r\n",
        "\r\n",
        "    def characters(self,characters):\r\n",
        "        if self.inBody:\r\n",
        "            if len(self.body) < 80:\r\n",
        "                self.body += characters\r\n",
        "            if len(self.body) > 80:\r\n",
        "                self.body = self.body[:78] + \"...\"\r\n",
        "            self.inBody = 0\r\n",
        "\r\n",
        "    def endElement(self,name):\r\n",
        "        if name == \"body\":\r\n",
        "            self.inBody = 0\r\n"
       ]
      }
     ],
     "prompt_number": 6
    },
    {
     "cell_type": "code",
     "collapsed": false,
     "input": [
      "!cat art.py"
     ],
     "language": "python",
     "metadata": {},
     "outputs": [
      {
       "output_type": "stream",
       "stream": "stdout",
       "text": [
        "#!/usr/bin/env python\r\n",
        "#art.py\r\n",
        "\r\n",
        "import sys\r\n",
        "from xml.sax import make_parser\r\n",
        "from handlers import ArticleHandler\r\n",
        "\r\n",
        "ch = ArticleHandler()\r\n",
        "saxparser = make_parser()\r\n",
        "\r\n",
        "saxparser.setContentHandler(ch)\r\n",
        "saxparser.parse(sys.stdin)\r\n",
        "\r\n",
        "if ch.isMatch:\r\n",
        "    print \"News Item!\"\r\n",
        "    print \"Title:\",ch.title\r\n",
        "    print \"Body:\",ch.body\r\n"
       ]
      }
     ],
     "prompt_number": 7
    },
    {
     "cell_type": "code",
     "collapsed": false,
     "input": [
      "!./art.py < article.xml"
     ],
     "language": "python",
     "metadata": {},
     "outputs": [
      {
       "output_type": "stream",
       "stream": "stdout",
       "text": [
        "News Item!\r\n",
        "Title: NASA Builds Warp Drive\r\n",
        "Body: Seattle, WA - Today an anonymous individual announced that NASA has completed ...\r\n"
       ]
      }
     ],
     "prompt_number": 4
    },
    {
     "cell_type": "code",
     "collapsed": false,
     "input": [],
     "language": "python",
     "metadata": {},
     "outputs": []
    }
   ],
   "metadata": {}
  }
 ]
}