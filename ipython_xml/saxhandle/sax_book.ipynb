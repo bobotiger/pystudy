{
 "metadata": {
  "name": "",
  "signature": "sha256:fc52ed79bcf1092c79fa72696d6317b3920c423284cb19b8c7648dd671cc106e"
 },
 "nbformat": 3,
 "nbformat_minor": 0,
 "worksheets": [
  {
   "cells": [
    {
     "cell_type": "code",
     "collapsed": false,
     "input": [
      "pwd"
     ],
     "language": "python",
     "metadata": {},
     "outputs": [
      {
       "metadata": {},
       "output_type": "pyout",
       "prompt_number": 1,
       "text": [
        "u'/home/whpuser/ipython_xml/saxhandle'"
       ]
      }
     ],
     "prompt_number": 1
    },
    {
     "cell_type": "code",
     "collapsed": false,
     "input": [
      "cd book"
     ],
     "language": "python",
     "metadata": {},
     "outputs": [
      {
       "output_type": "stream",
       "stream": "stdout",
       "text": [
        "/home/whpuser/ipython_xml/saxhandle/book\n"
       ]
      }
     ],
     "prompt_number": 2
    },
    {
     "cell_type": "code",
     "collapsed": false,
     "input": [
      "ls"
     ],
     "language": "python",
     "metadata": {},
     "outputs": [
      {
       "output_type": "stream",
       "stream": "stdout",
       "text": [
        "bookhandler.py  bookhandler.pyc  books.xml  \u001b[0m\u001b[01;32mhandlebooks.py\u001b[0m*  handlexml.py\r\n"
       ]
      }
     ],
     "prompt_number": 3
    },
    {
     "cell_type": "code",
     "collapsed": false,
     "input": [
      "cat books.xml"
     ],
     "language": "python",
     "metadata": {},
     "outputs": [
      {
       "output_type": "stream",
       "stream": "stdout",
       "text": [
        "<?xml version=\"1.0\"?>\r\n",
        "<catalog>\r\n",
        "\t<book isbn=\"1-56592-724-9\">\r\n",
        "\t\t<title>The Cathedral and the Bazaar</title>\r\n",
        "\t\t<author>Eric S. Raymond</author>\r\n",
        "\t</book>\r\n",
        " \t<book isbn=\"1-56592-051-1\">\r\n",
        "\t\t<title>Making TeX Work</title>\r\n",
        "\t\t<author>Norman Walsh</author>\r\n",
        "\t</book>\r\n",
        "\t<!-- imagine more entries here... -->\r\n",
        "</catalog>\r\n",
        "\r\n",
        "\r\n"
       ]
      }
     ],
     "prompt_number": 4
    },
    {
     "cell_type": "code",
     "collapsed": false,
     "input": [
      "cat handlebooks.py"
     ],
     "language": "python",
     "metadata": {},
     "outputs": [
      {
       "output_type": "stream",
       "stream": "stdout",
       "text": [
        "#!/usr/bin/env python\r\n",
        "# --*-- coding=utf-8 --*--\r\n",
        "from xml.sax.handler import ContentHandler\r\n",
        "from xml.sax import make_parser\r\n",
        "\r\n",
        "class BookHandler(ContentHandler):\r\n",
        "    def __init__(self):\r\n",
        "        self.inTitle = 0\r\n",
        "        self.inAuthor = 0\r\n",
        "        \r\n",
        "    def startElement(self,name,attributes):\r\n",
        "        if name == \"book\":\r\n",
        "            self.isbn = attributes[\"isbn\"]\r\n",
        "            print \"book:\",self.isbn\r\n",
        "        elif name == \"title\":\r\n",
        "            self.inTitle = 1\r\n",
        "        elif name == \"author\":\r\n",
        "            self.inAuthor = 1\r\n",
        "\r\n",
        "    def characters(self,data):\r\n",
        "        if self.inTitle:\r\n",
        "            print \"\\ttitle:\",data\r\n",
        "        elif self.inAuthor:\r\n",
        "            print \"\\tauthor:\",data\r\n",
        "\r\n",
        "    def endElement(self,name):\r\n",
        "        if name == \"title\":\r\n",
        "            self.inTitle = 0\r\n",
        "        elif name == \"author\":\r\n",
        "            self.inAuthor = 0\r\n",
        "\r\n",
        "bh = BookHandler()\r\n",
        "parser = make_parser()\r\n",
        "parser.setContentHandler(bh)\r\n",
        "parser.parse(\"books.xml\")\r\n",
        "\r\n",
        "\r\n"
       ]
      }
     ],
     "prompt_number": 6
    },
    {
     "cell_type": "code",
     "collapsed": false,
     "input": [
      "!python handlebooks.py"
     ],
     "language": "python",
     "metadata": {},
     "outputs": [
      {
       "output_type": "stream",
       "stream": "stdout",
       "text": [
        "book: 1-56592-724-9\r\n",
        "\ttitle: The Cathedral and the Bazaar\r\n",
        "\tauthor: Eric S. Raymond\r\n",
        "book: 1-56592-051-1\r\n",
        "\ttitle: Making TeX Work\r\n",
        "\tauthor: Norman Walsh\r\n"
       ]
      }
     ],
     "prompt_number": 7
    }
   ],
   "metadata": {}
  }
 ]
}