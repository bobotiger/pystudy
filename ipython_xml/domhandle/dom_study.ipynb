{
 "metadata": {
  "name": "",
  "signature": "sha256:c3a9df7295bfc6ea7d40ef996743aaa9d34f7ef20369f5a7aa7dffae48b38789"
 },
 "nbformat": 3,
 "nbformat_minor": 0,
 "worksheets": [
  {
   "cells": [
    {
     "cell_type": "heading",
     "level": 1,
     "metadata": {},
     "source": [
      "\u4f7f\u7528minidom\u89e3\u6790\u5668\u89e3\u6790XML\u6587\u6863"
     ]
    },
    {
     "cell_type": "markdown",
     "metadata": {},
     "source": [
      "\u9996\u5148\u9700\u8981\u5bfc\u5165minidom"
     ]
    },
    {
     "cell_type": "code",
     "collapsed": false,
     "input": [
      "from xml.dom import minidom"
     ],
     "language": "python",
     "metadata": {},
     "outputs": [],
     "prompt_number": 1
    },
    {
     "cell_type": "markdown",
     "metadata": {},
     "source": [
      "\u67e5\u770bminidom\u4e2d\u63d0\u4f9b\u7684\u6210\u5458\u5c5e\u6027\u548c\u65b9\u6cd5"
     ]
    },
    {
     "cell_type": "code",
     "collapsed": false,
     "input": [
      "dir(minidom)"
     ],
     "language": "python",
     "metadata": {},
     "outputs": [
      {
       "metadata": {},
       "output_type": "pyout",
       "prompt_number": 2,
       "text": [
        "['Attr',\n",
        " 'AttributeList',\n",
        " 'CDATASection',\n",
        " 'CharacterData',\n",
        " 'Childless',\n",
        " 'Comment',\n",
        " 'DOMImplementation',\n",
        " 'DOMImplementationLS',\n",
        " 'Document',\n",
        " 'DocumentFragment',\n",
        " 'DocumentLS',\n",
        " 'DocumentType',\n",
        " 'EMPTY_NAMESPACE',\n",
        " 'EMPTY_PREFIX',\n",
        " 'Element',\n",
        " 'ElementInfo',\n",
        " 'EmptyNodeList',\n",
        " 'Entity',\n",
        " 'Identified',\n",
        " 'NamedNodeMap',\n",
        " 'Node',\n",
        " 'NodeList',\n",
        " 'Notation',\n",
        " 'ProcessingInstruction',\n",
        " 'ReadOnlySequentialNamedNodeMap',\n",
        " 'StringTypes',\n",
        " 'Text',\n",
        " 'TypeInfo',\n",
        " 'XMLNS_NAMESPACE',\n",
        " '__builtins__',\n",
        " '__doc__',\n",
        " '__file__',\n",
        " '__name__',\n",
        " '__package__',\n",
        " '_append_child',\n",
        " '_clear_id_cache',\n",
        " '_clone_node',\n",
        " '_do_pulldom_parse',\n",
        " '_get_StringIO',\n",
        " '_get_containing_element',\n",
        " '_get_containing_entref',\n",
        " '_get_elements_by_tagName_helper',\n",
        " '_get_elements_by_tagName_ns_helper',\n",
        " '_in_document',\n",
        " '_no_type',\n",
        " '_nodeTypes_with_children',\n",
        " '_nssplit',\n",
        " '_set_attribute_node',\n",
        " '_write_data',\n",
        " 'defproperty',\n",
        " 'domreg',\n",
        " 'getDOMImplementation',\n",
        " 'parse',\n",
        " 'parseString',\n",
        " 'xml']"
       ]
      }
     ],
     "prompt_number": 2
    },
    {
     "cell_type": "markdown",
     "metadata": {},
     "source": [
      "\u52a0\u8f7dXML\u6587\u6863\uff0c\u5e76\u5728\u5185\u5b58\u4e2d\u6620\u5c04\u51fa\u4e00\u4e2aXML\u6587\u6863\u6811\u7ed3\u6784"
     ]
    },
    {
     "cell_type": "code",
     "collapsed": false,
     "input": [
      "doc = minidom.parse(\"books.xml\") "
     ],
     "language": "python",
     "metadata": {},
     "outputs": [],
     "prompt_number": 3
    },
    {
     "cell_type": "markdown",
     "metadata": {},
     "source": [
      "\u6709\u4e86XML\u6587\u6863\u6811\u7ed3\u6784\uff0c\u6211\u4eec\u5c31\u53ef\u4ee5\u4f7f\u7528\u8be5\u7ed3\u6784\u63d0\u4f9b\u7684\u65b9\u6cd5\u6765\u8bbf\u95ee\u6587\u6863\u6811\u4e2d\u7684\u8282\u70b9\u5185\u5bb9\u4e86\u3002"
     ]
    },
    {
     "cell_type": "code",
     "collapsed": false,
     "input": [
      "from bs4 import BeautifulSoup"
     ],
     "language": "python",
     "metadata": {},
     "outputs": [],
     "prompt_number": 11
    },
    {
     "cell_type": "code",
     "collapsed": false,
     "input": [
      "soup = BeautifulSoup(open(\"books.xml\"),\"xml\")\n",
      "print soup.prettify()"
     ],
     "language": "python",
     "metadata": {},
     "outputs": [
      {
       "output_type": "stream",
       "stream": "stdout",
       "text": [
        "<?xml version=\"1.0\" encoding=\"utf-8\"?>\n",
        "<catalog>\n",
        " <book isbn=\"1-56592-724-9\">\n",
        "  <title>\n",
        "   The Cathedral and the Bazaar\n",
        "  </title>\n",
        "  <author>\n",
        "   Eric S. Raymond\n",
        "  </author>\n",
        " </book>\n",
        " <book isbn=\"1-56592-051-1\">\n",
        "  <title>\n",
        "   Making TeX Work\n",
        "  </title>\n",
        "  <author>\n",
        "   Norman Walsh\n",
        "  </author>\n",
        " </book>\n",
        " <!-- imagine more entries here... -->\n",
        "</catalog>\n"
       ]
      }
     ],
     "prompt_number": 17
    },
    {
     "cell_type": "markdown",
     "metadata": {},
     "source": [
      "\u8bfb\u53d6\u51fabooks.xml\u6587\u6863\u4e2d\u7b2c1\u672c\u4e66\u7684\u4f5c\u8005\u540d\u5b57"
     ]
    },
    {
     "cell_type": "code",
     "collapsed": false,
     "input": [
      "books = doc.getElementsByTagName(\"book\")\n",
      "author = books[0].getElementsByTagName(\"author\")[0]\n",
      "author.childNodes[0].nodeValue"
     ],
     "language": "python",
     "metadata": {},
     "outputs": [
      {
       "metadata": {},
       "output_type": "pyout",
       "prompt_number": 4,
       "text": [
        "u'Eric S. Raymond'"
       ]
      }
     ],
     "prompt_number": 4
    },
    {
     "cell_type": "code",
     "collapsed": false,
     "input": [
      "books"
     ],
     "language": "python",
     "metadata": {},
     "outputs": [
      {
       "metadata": {},
       "output_type": "pyout",
       "prompt_number": 32,
       "text": [
        "[<DOM Element: book at 0xb4b5418c>, <DOM Element: book at 0xb4b543cc>]"
       ]
      }
     ],
     "prompt_number": 32
    },
    {
     "cell_type": "code",
     "collapsed": true,
     "input": [
      "author"
     ],
     "language": "python",
     "metadata": {},
     "outputs": [
      {
       "metadata": {},
       "output_type": "pyout",
       "prompt_number": 33,
       "text": [
        "<DOM Element: author at 0xb4b542ec>"
       ]
      }
     ],
     "prompt_number": 33
    },
    {
     "cell_type": "code",
     "collapsed": false,
     "input": [
      "author.childNodes[0]"
     ],
     "language": "python",
     "metadata": {},
     "outputs": [
      {
       "metadata": {},
       "output_type": "pyout",
       "prompt_number": 34,
       "text": [
        "<DOM Text node \"u'Eric S. Ra'...\">"
       ]
      }
     ],
     "prompt_number": 34
    },
    {
     "cell_type": "code",
     "collapsed": false,
     "input": [
      "books[0].getAttribute(\"isbn\")"
     ],
     "language": "python",
     "metadata": {},
     "outputs": [
      {
       "metadata": {},
       "output_type": "pyout",
       "prompt_number": 8,
       "text": [
        "u'1-56592-724-9'"
       ]
      }
     ],
     "prompt_number": 8
    },
    {
     "cell_type": "code",
     "collapsed": false,
     "input": [
      "help(minidom.Node)"
     ],
     "language": "python",
     "metadata": {},
     "outputs": [
      {
       "output_type": "stream",
       "stream": "stdout",
       "text": [
        "Help on class Node in module xml.dom.minidom:\n",
        "\n",
        "class Node(xml.dom.Node)\n",
        " |  Methods defined here:\n",
        " |  \n",
        " |  __nonzero__(self)\n",
        " |  \n",
        " |  appendChild(self, node)\n",
        " |  \n",
        " |  cloneNode(self, deep)\n",
        " |  \n",
        " |  getInterface(self, feature)\n",
        " |  \n",
        " |  getUserData(self, key)\n",
        " |  \n",
        " |  hasChildNodes(self)\n",
        " |  \n",
        " |  insertBefore(self, newChild, refChild)\n",
        " |  \n",
        " |  isSameNode(self, other)\n",
        " |  \n",
        " |  isSupported(self, feature, version)\n",
        " |  \n",
        " |  normalize(self)\n",
        " |  \n",
        " |  removeChild(self, oldChild)\n",
        " |  \n",
        " |  replaceChild(self, newChild, oldChild)\n",
        " |  \n",
        " |  setUserData(self, key, data, handler)\n",
        " |  \n",
        " |  toprettyxml(self, indent='\\t', newl='\\n', encoding=None)\n",
        " |  \n",
        " |  toxml(self, encoding=None)\n",
        " |  \n",
        " |  unlink(self)\n",
        " |  \n",
        " |  ----------------------------------------------------------------------\n",
        " |  Data descriptors defined here:\n",
        " |  \n",
        " |  firstChild\n",
        " |      First child node, or None.\n",
        " |  \n",
        " |  lastChild\n",
        " |      Last child node, or None.\n",
        " |  \n",
        " |  localName\n",
        " |      Namespace-local name of this node.\n",
        " |  \n",
        " |  ----------------------------------------------------------------------\n",
        " |  Data and other attributes defined here:\n",
        " |  \n",
        " |  namespaceURI = None\n",
        " |  \n",
        " |  nextSibling = None\n",
        " |  \n",
        " |  ownerDocument = None\n",
        " |  \n",
        " |  parentNode = None\n",
        " |  \n",
        " |  prefix = None\n",
        " |  \n",
        " |  previousSibling = None\n",
        " |  \n",
        " |  ----------------------------------------------------------------------\n",
        " |  Data and other attributes inherited from xml.dom.Node:\n",
        " |  \n",
        " |  ATTRIBUTE_NODE = 2\n",
        " |  \n",
        " |  CDATA_SECTION_NODE = 4\n",
        " |  \n",
        " |  COMMENT_NODE = 8\n",
        " |  \n",
        " |  DOCUMENT_FRAGMENT_NODE = 11\n",
        " |  \n",
        " |  DOCUMENT_NODE = 9\n",
        " |  \n",
        " |  DOCUMENT_TYPE_NODE = 10\n",
        " |  \n",
        " |  ELEMENT_NODE = 1\n",
        " |  \n",
        " |  ENTITY_NODE = 6\n",
        " |  \n",
        " |  ENTITY_REFERENCE_NODE = 5\n",
        " |  \n",
        " |  NOTATION_NODE = 12\n",
        " |  \n",
        " |  PROCESSING_INSTRUCTION_NODE = 7\n",
        " |  \n",
        " |  TEXT_NODE = 3\n",
        "\n"
       ]
      }
     ],
     "prompt_number": 38
    }
   ],
   "metadata": {}
  }
 ]
}